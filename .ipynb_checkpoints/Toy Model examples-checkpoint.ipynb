{
 "cells": [
  {
   "cell_type": "code",
   "execution_count": 13,
   "metadata": {
    "collapsed": true
   },
   "outputs": [],
   "source": [
    "import scipy.stats as st \n",
    "import numpy as np\n",
    "from sklearn.linear_model import LogisticRegression\n",
    "from sklearn.preprocessing import StandardScaler"
   ]
  },
  {
   "cell_type": "code",
   "execution_count": 14,
   "metadata": {
    "collapsed": true
   },
   "outputs": [],
   "source": [
    "from patsy import dmatrices\n",
    "from sklearn.ensemble.forest import RandomForestClassifier\n",
    "from sklearn.model_selection import GridSearchCV\n",
    "#from sklearn.cross_validation import cross_val_score\n",
    "from sklearn.model_selection import cross_val_score"
   ]
  },
  {
   "cell_type": "code",
   "execution_count": 15,
   "metadata": {
    "collapsed": true
   },
   "outputs": [],
   "source": [
    "import pymc3 as pm\n",
    "from pymc3 import Normal, Binomial, sample, Model # Import relevant distributions\n",
    "from pymc3.math import invlogit\n",
    "# Use a theano shared variable to be able to exchange the data the model runs on\n",
    "from theano import shared"
   ]
  },
  {
   "cell_type": "code",
   "execution_count": 16,
   "metadata": {},
   "outputs": [],
   "source": [
    "import pandas as pd\n",
    "from xgboost import XGBClassifier\n",
    "from sklearn.model_selection import train_test_split\n",
    "from sklearn.metrics import accuracy_score\n",
    "from matplotlib import pyplot\n",
    "from xgboost import plot_importance\n",
    "from sklearn.model_selection import StratifiedKFold\n",
    "#from sklearn.model_selection import GridSearchCV\n",
    "#%matplotlib inline"
   ]
  },
  {
   "cell_type": "code",
   "execution_count": 53,
   "metadata": {},
   "outputs": [
    {
     "data": {
      "image/png": "[encoded data removed]",
      "text/plain": [
       "<matplotlib.figure.Figure at 0x1c920101668>"
      ]
     },
     "metadata": {},
     "output_type": "display_data"
    }
   ],
   "source": [
    "from xgboost import plot_tree\n",
    "\n",
    "# plot single tree\n",
    "plot_tree(model)\n",
    "pyplot.show()"
   ]
  },
  {
   "cell_type": "code",
   "execution_count": 144,
   "metadata": {},
   "outputs": [],
   "source": [
    "from xgboost import plot_importance\n",
    "#from xgboost import "
   ]
  },
  {
   "cell_type": "code",
   "execution_count": 121,
   "metadata": {},
   "outputs": [],
   "source": [
    "?u.feature_importances_"
   ]
  },
  {
   "cell_type": "code",
   "execution_count": 103,
   "metadata": {},
   "outputs": [
    {
     "data": {
      "text/plain": [
       "<matplotlib.axes._subplots.AxesSubplot at 0x1c921571518>"
      ]
     },
     "execution_count": 103,
     "metadata": {},
     "output_type": "execute_result"
    },
    {
     "data": {
      "image/png": "[encoded data removed]",
      "text/plain": [
       "<matplotlib.figure.Figure at 0x1c920266d68>"
      ]
     },
     "metadata": {},
     "output_type": "display_data"
    }
   ],
   "source": [
    "plot_importance(u,importance_type=\"gain\")"
   ]
  },
  {
   "cell_type": "code",
   "execution_count": 114,
   "metadata": {},
   "outputs": [],
   "source": [
    "?u.booster().get_score(importance_type='weight')\n",
    "#     self, fmap='', importance_type='weight'):\n",
    "#         \"\"\"Get feature importance of each feature.\n",
    "#         Importance type can be defined as:\n",
    "#             'weight' - the number of times a feature is used to split the data across all trees.\n",
    "#             'gain' - the average gain of the feature when it is used in trees\n",
    "#             'cover' - the average coverage of the feature when it is used in trees"
   ]
  },
  {
   "cell_type": "code",
   "execution_count": 127,
   "metadata": {},
   "outputs": [
    {
     "data": {
      "text/html": [
       "<div>\n",
       "<style>\n",
       "    .dataframe thead tr:only-child th {\n",
       "        text-align: right;\n",
       "    }\n",
       "\n",
       "    .dataframe thead th {\n",
       "        text-align: left;\n",
       "    }\n",
       "\n",
       "    .dataframe tbody tr th {\n",
       "        vertical-align: top;\n",
       "    }\n",
       "</style>\n",
       "<table border=\"1\" class=\"dataframe\">\n",
       "  <thead>\n",
       "    <tr style=\"text-align: right;\">\n",
       "      <th></th>\n",
       "      <th>SplitValue</th>\n",
       "      <th>Count</th>\n",
       "    </tr>\n",
       "  </thead>\n",
       "  <tbody>\n",
       "    <tr>\n",
       "      <th>0</th>\n",
       "      <td>-1.249088</td>\n",
       "      <td>2.0</td>\n",
       "    </tr>\n",
       "    <tr>\n",
       "      <th>1</th>\n",
       "      <td>-1.141577</td>\n",
       "      <td>1.0</td>\n",
       "    </tr>\n",
       "    <tr>\n",
       "      <th>2</th>\n",
       "      <td>-1.034065</td>\n",
       "      <td>1.0</td>\n",
       "    </tr>\n",
       "    <tr>\n",
       "      <th>3</th>\n",
       "      <td>-0.926553</td>\n",
       "      <td>1.0</td>\n",
       "    </tr>\n",
       "    <tr>\n",
       "      <th>4</th>\n",
       "      <td>-0.711530</td>\n",
       "      <td>4.0</td>\n",
       "    </tr>\n",
       "    <tr>\n",
       "      <th>5</th>\n",
       "      <td>-0.604018</td>\n",
       "      <td>2.0</td>\n",
       "    </tr>\n",
       "    <tr>\n",
       "      <th>6</th>\n",
       "      <td>-0.496506</td>\n",
       "      <td>1.0</td>\n",
       "    </tr>\n",
       "    <tr>\n",
       "      <th>7</th>\n",
       "      <td>-0.388994</td>\n",
       "      <td>2.0</td>\n",
       "    </tr>\n",
       "    <tr>\n",
       "      <th>8</th>\n",
       "      <td>-0.281483</td>\n",
       "      <td>1.0</td>\n",
       "    </tr>\n",
       "    <tr>\n",
       "      <th>9</th>\n",
       "      <td>-0.173971</td>\n",
       "      <td>2.0</td>\n",
       "    </tr>\n",
       "    <tr>\n",
       "      <th>10</th>\n",
       "      <td>0.148564</td>\n",
       "      <td>5.0</td>\n",
       "    </tr>\n",
       "    <tr>\n",
       "      <th>11</th>\n",
       "      <td>0.471100</td>\n",
       "      <td>4.0</td>\n",
       "    </tr>\n",
       "    <tr>\n",
       "      <th>12</th>\n",
       "      <td>0.578611</td>\n",
       "      <td>4.0</td>\n",
       "    </tr>\n",
       "    <tr>\n",
       "      <th>13</th>\n",
       "      <td>1.116170</td>\n",
       "      <td>1.0</td>\n",
       "    </tr>\n",
       "  </tbody>\n",
       "</table>\n",
       "</div>"
      ],
      "text/plain": [
       "    SplitValue  Count\n",
       "0    -1.249088    2.0\n",
       "1    -1.141577    1.0\n",
       "2    -1.034065    1.0\n",
       "3    -0.926553    1.0\n",
       "4    -0.711530    4.0\n",
       "5    -0.604018    2.0\n",
       "6    -0.496506    1.0\n",
       "7    -0.388994    2.0\n",
       "8    -0.281483    1.0\n",
       "9    -0.173971    2.0\n",
       "10    0.148564    5.0\n",
       "11    0.471100    4.0\n",
       "12    0.578611    4.0\n",
       "13    1.116170    1.0"
      ]
     },
     "execution_count": 127,
     "metadata": {},
     "output_type": "execute_result"
    }
   ],
   "source": [
    "u.booster().get_split_value_histogram('f1')"
   ]
  },
  {
   "cell_type": "code",
   "execution_count": 142,
   "metadata": {},
   "outputs": [
    {
     "data": {
      "text/html": [
       "<div>\n",
       "<style>\n",
       "    .dataframe thead tr:only-child th {\n",
       "        text-align: right;\n",
       "    }\n",
       "\n",
       "    .dataframe thead th {\n",
       "        text-align: left;\n",
       "    }\n",
       "\n",
       "    .dataframe tbody tr th {\n",
       "        vertical-align: top;\n",
       "    }\n",
       "</style>\n",
       "<table border=\"1\" class=\"dataframe\">\n",
       "  <thead>\n",
       "    <tr style=\"text-align: right;\">\n",
       "      <th></th>\n",
       "      <th>weights</th>\n",
       "    </tr>\n",
       "  </thead>\n",
       "  <tbody>\n",
       "    <tr>\n",
       "      <th>0</th>\n",
       "      <td>0.581081</td>\n",
       "    </tr>\n",
       "    <tr>\n",
       "      <th>1</th>\n",
       "      <td>0.418919</td>\n",
       "    </tr>\n",
       "  </tbody>\n",
       "</table>\n",
       "</div>"
      ],
      "text/plain": [
       "    weights\n",
       "0  0.581081\n",
       "1  0.418919"
      ]
     },
     "execution_count": 142,
     "metadata": {},
     "output_type": "execute_result"
    }
   ],
   "source": [
    "#pd.DataFrame(, columns=['feature','importance'])#.sort_values('importance', ascending=False)\n",
    "#u.booster().get_fscore().items()\n",
    "pd.DataFrame(u.feature_importances_, columns=['weights'])#, index=[0])"
   ]
  },
  {
   "cell_type": "code",
   "execution_count": 143,
   "metadata": {},
   "outputs": [
    {
     "data": {
      "text/plain": [
       "array([ 0.58108109,  0.41891891], dtype=float32)"
      ]
     },
     "execution_count": 143,
     "metadata": {},
     "output_type": "execute_result"
    }
   ],
   "source": [
    "u.feature_importances_"
   ]
  },
  {
   "cell_type": "code",
   "execution_count": 129,
   "metadata": {},
   "outputs": [
    {
     "data": {
      "text/plain": [
       "dict_items([('f1', 31), ('f0', 43)])"
      ]
     },
     "execution_count": 129,
     "metadata": {},
     "output_type": "execute_result"
    }
   ],
   "source": [
    "u.booster().get_fscore().items()"
   ]
  },
  {
   "cell_type": "code",
   "execution_count": 122,
   "metadata": {},
   "outputs": [
    {
     "data": {
      "text/plain": [
       "['0:[f1<-0.225163] yes=1,no=2,missing=1,gain=1853.31,cover=1675\\n\\t1:[f0<0.304833] yes=3,no=4,missing=3,gain=486.058,cover=694\\n\\t\\t3:leaf=-0.150367,cover=442.25\\n\\t\\t4:leaf=0.023541,cover=251.75\\n\\t2:[f0<-0.527779] yes=5,no=6,missing=5,gain=358.949,cover=981\\n\\t\\t5:leaf=0.0320346,cover=287.75\\n\\t\\t6:leaf=0.164998,cover=693.25\\n',\n",
       " '0:[f1<0.0926449] yes=1,no=2,missing=1,gain=1553.44,cover=1667.7\\n\\t1:[f0<0.212401] yes=3,no=4,missing=3,gain=587.843,cover=888.258\\n\\t\\t3:leaf=-0.122865,cover=531.731\\n\\t\\t4:leaf=0.0429402,cover=356.527\\n\\t2:[f0<-1.32573] yes=5,no=6,missing=5,gain=172.685,cover=779.446\\n\\t\\t5:leaf=-0.010722,cover=71.7316\\n\\t\\t6:leaf=0.151954,cover=707.714\\n',\n",
       " '0:[f1<-0.324049] yes=1,no=2,missing=1,gain=1317.78,cover=1650.91\\n\\t1:[f0<0.673443] yes=3,no=4,missing=3,gain=284.895,cover=618.694\\n\\t\\t3:leaf=-0.122881,cover=467.361\\n\\t\\t4:leaf=0.0347475,cover=151.333\\n\\t2:[f0<-0.189623] yes=5,no=6,missing=5,gain=333.564,cover=1032.21\\n\\t\\t5:leaf=0.0342176,cover=441.245\\n\\t\\t6:leaf=0.149182,cover=590.969\\n',\n",
       " '0:[f1<0.0926449] yes=1,no=2,missing=1,gain=1118.44,cover=1627.46\\n\\t1:[f0<0.0819427] yes=3,no=4,missing=3,gain=437.778,cover=872.841\\n\\t\\t3:leaf=-0.113957,cover=471.579\\n\\t\\t4:leaf=0.0280196,cover=401.263\\n\\t2:[f0<-0.585353] yes=5,no=6,missing=5,gain=141.902,cover=754.614\\n\\t\\t5:leaf=0.048019,cover=213.253\\n\\t\\t6:leaf=0.144606,cover=541.361\\n',\n",
       " '0:[f1<-0.461649] yes=1,no=2,missing=1,gain=973.638,cover=1597.76\\n\\t1:[f0<0.750407] yes=3,no=4,missing=3,gain=174.284,cover=513.194\\n\\t\\t3:leaf=-0.11964,cover=392.2\\n\\t\\t4:leaf=0.0174747,cover=120.994\\n\\t2:[f0<-0.283288] yes=5,no=6,missing=5,gain=329.935,cover=1084.57\\n\\t\\t5:leaf=0.0125696,cover=437.411\\n\\t\\t6:leaf=0.124999,cover=647.158\\n',\n",
       " '0:[f1<0.113531] yes=1,no=2,missing=1,gain=838.868,cover=1567.26\\n\\t1:[f0<-0.0379184] yes=3,no=4,missing=3,gain=344.087,cover=862.636\\n\\t\\t3:leaf=-0.106508,cover=422.65\\n\\t\\t4:leaf=0.0197171,cover=439.986\\n\\t2:[f0<-1.32573] yes=5,no=6,missing=5,gain=117.205,cover=704.628\\n\\t\\t5:leaf=-0.0170499,cover=70.7612\\n\\t\\t6:leaf=0.118408,cover=633.867\\n',\n",
       " '0:[f1<-0.6254] yes=1,no=2,missing=1,gain=735.156,cover=1533.07\\n\\t1:[f0<1.41073] yes=3,no=4,missing=3,gain=90.0388,cover=403.723\\n\\t\\t3:leaf=-0.107637,cover=370.95\\n\\t\\t4:leaf=0.0637208,cover=32.7725\\n\\t2:[f0<-0.0645877] yes=5,no=6,missing=5,gain=297.411,cover=1129.35\\n\\t\\t5:leaf=0.0117916,cover=561.283\\n\\t\\t6:leaf=0.114407,cover=568.064\\n',\n",
       " '0:[f1<0.118633] yes=1,no=2,missing=1,gain=647.514,cover=1503.09\\n\\t1:[f0<0.304833] yes=3,no=4,missing=3,gain=273.804,cover=842.468\\n\\t\\t3:leaf=-0.0823844,cover=522.239\\n\\t\\t4:leaf=0.0349343,cover=320.229\\n\\t2:[f0<-0.982825] yes=5,no=6,missing=5,gain=99.1171,cover=660.622\\n\\t\\t5:leaf=0.011074,cover=117.761\\n\\t\\t6:leaf=0.112364,cover=542.861\\n',\n",
       " '0:[f1<-0.808782] yes=1,no=2,missing=1,gain=578.101,cover=1466.65\\n\\t1:[f0<1.61244] yes=3,no=4,missing=3,gain=56.2244,cover=301.363\\n\\t\\t3:leaf=-0.115387,cover=283.184\\n\\t\\t4:leaf=0.0632171,cover=18.1787\\n\\t2:[f1<0.549662] yes=5,no=6,missing=5,gain=281.017,cover=1165.29\\n\\t\\t5:leaf=0.0144721,cover=754.89\\n\\t\\t6:leaf=0.117225,cover=410.399\\n',\n",
       " '0:[f1<0.444064] yes=1,no=2,missing=1,gain=489.912,cover=1437.73\\n\\t1:[f0<-0.180378] yes=3,no=4,missing=3,gain=312.813,cover=995.297\\n\\t\\t3:leaf=-0.0857051,cover=430.786\\n\\t\\t4:leaf=0.027335,cover=564.512\\n\\t2:[f0<-1.8802] yes=5,no=6,missing=5,gain=66.8899,cover=442.433\\n\\t\\t5:leaf=-0.104307,cover=14.0648\\n\\t\\t6:leaf=0.111821,cover=428.368\\n',\n",
       " '0:[f1<-0.800009] yes=1,no=2,missing=1,gain=462.104,cover=1407.14\\n\\t1:[f0<1.61244] yes=3,no=4,missing=3,gain=45.0417,cover=292.746\\n\\t\\t3:leaf=-0.105657,cover=274.819\\n\\t\\t4:leaf=0.0554179,cover=17.9271\\n\\t2:[f0<-0.285055] yes=5,no=6,missing=5,gain=258.292,cover=1114.4\\n\\t\\t5:leaf=-0.0116405,cover=464.102\\n\\t\\t6:leaf=0.0859649,cover=650.295\\n',\n",
       " '0:[f1<0.458719] yes=1,no=2,missing=1,gain=403.149,cover=1378.91\\n\\t1:[f0<0.214301] yes=3,no=4,missing=3,gain=238.979,cover=975.967\\n\\t\\t3:leaf=-0.0614681,cover=573.604\\n\\t\\t4:leaf=0.0389579,cover=402.363\\n\\t2:[f0<-1.8802] yes=5,no=6,missing=5,gain=56.6764,cover=402.941\\n\\t\\t5:leaf=-0.0925769,cover=14.2025\\n\\t\\t6:leaf=0.105916,cover=388.739\\n',\n",
       " '0:[f1<-0.472067] yes=1,no=2,missing=1,gain=377.63,cover=1348.75\\n\\t1:[f0<0.832094] yes=3,no=4,missing=3,gain=83.2485,cover=438.628\\n\\t\\t3:leaf=-0.0866659,cover=335.368\\n\\t\\t4:leaf=0.0158459,cover=103.26\\n\\t2:[f0<-0.608433] yes=5,no=6,missing=5,gain=190.706,cover=910.121\\n\\t\\t5:leaf=-0.0180349,cover=281.675\\n\\t\\t6:leaf=0.0809053,cover=628.446\\n',\n",
       " '0:[f1<-0.943124] yes=1,no=2,missing=1,gain=330.642,cover=1317.76\\n\\t1:[f0<1.61244] yes=3,no=4,missing=3,gain=29.3171,cover=217.788\\n\\t\\t3:leaf=-0.109518,cover=203.337\\n\\t\\t4:leaf=0.0357326,cover=14.4516\\n\\t2:[f0<0.118044] yes=5,no=6,missing=5,gain=207.338,cover=1099.97\\n\\t\\t5:leaf=-0.00175244,cover=643.472\\n\\t\\t6:leaf=0.0863026,cover=456.5\\n',\n",
       " '0:[f1<0.549662] yes=1,no=2,missing=1,gain=320.087,cover=1293.12\\n\\t1:[f0<-0.180378] yes=3,no=4,missing=3,gain=186.463,cover=964.847\\n\\t\\t3:leaf=-0.0675744,cover=419.437\\n\\t\\t4:leaf=0.021019,cover=545.411\\n\\t2:[f0<-1.68799] yes=5,no=6,missing=5,gain=37.2411,cover=328.271\\n\\t\\t5:leaf=-0.0352165,cover=19.6702\\n\\t\\t6:leaf=0.105141,cover=308.601\\n',\n",
       " '0:[f1<-0.027123] yes=1,no=2,missing=1,gain=279.661,cover=1266.54\\n\\t1:[f0<0.589106] yes=3,no=4,missing=3,gain=121.155,cover=671.771\\n\\t\\t3:leaf=-0.0611326,cover=472.158\\n\\t\\t4:leaf=0.0316456,cover=199.613\\n\\t2:[f0<-0.881409] yes=5,no=6,missing=5,gain=80.9563,cover=594.768\\n\\t\\t5:leaf=-0.00517389,cover=142.538\\n\\t\\t6:leaf=0.0811963,cover=452.23\\n',\n",
       " '0:[f1<-0.808782] yes=1,no=2,missing=1,gain=258.503,cover=1237.12\\n\\t1:[f1<-1.35727] yes=3,no=4,missing=3,gain=35.8286,cover=248.595\\n\\t\\t3:leaf=-0.126414,cover=102.122\\n\\t\\t4:leaf=-0.0488779,cover=146.474\\n\\t2:[f0<-0.527779] yes=5,no=6,missing=5,gain=149.193,cover=988.522\\n\\t\\t5:leaf=-0.0211688,cover=337.256\\n\\t\\t6:leaf=0.0607018,cover=651.266\\n',\n",
       " '0:[f1<0.561749] yes=1,no=2,missing=1,gain=248.217,cover=1215.51\\n\\t1:[f0<-0.608272] yes=3,no=4,missing=3,gain=141.078,cover=927.243\\n\\t\\t3:leaf=-0.0806369,cover=247.745\\n\\t\\t4:leaf=0.00737551,cover=679.499\\n\\t2:[f0<-1.8802] yes=5,no=6,missing=5,gain=30.0313,cover=288.27\\n\\t\\t5:leaf=-0.0594989,cover=12.2421\\n\\t\\t6:leaf=0.0967056,cover=276.028\\n',\n",
       " '0:[f1<0.444064] yes=1,no=2,missing=1,gain=213.819,cover=1193.3\\n\\t1:[f1<-1.11835] yes=3,no=4,missing=3,gain=128.486,cover=874.765\\n\\t\\t3:leaf=-0.101359,cover=149.441\\n\\t\\t4:leaf=0.000189036,cover=725.324\\n\\t2:[f0<-1.61096] yes=5,no=6,missing=5,gain=35.7806,cover=318.539\\n\\t\\t5:leaf=-0.0329114,cover=26.0532\\n\\t\\t6:leaf=0.088299,cover=292.486\\n',\n",
       " '0:[f1<0.561749] yes=1,no=2,missing=1,gain=186.061,cover=1171.88\\n\\t1:[f0<0.589418] yes=3,no=4,missing=3,gain=131.914,cover=912.692\\n\\t\\t3:leaf=-0.0369602,cover=662.645\\n\\t\\t4:leaf=0.0481474,cover=250.047\\n\\t2:[f1<1.07662] yes=5,no=6,missing=5,gain=24.6087,cover=259.191\\n\\t\\t5:leaf=0.0516814,cover=133.31\\n\\t\\t6:leaf=0.113931,cover=125.881\\n',\n",
       " '0:[f1<-0.943124] yes=1,no=2,missing=1,gain=178.293,cover=1152.22\\n\\t1:[f0<1.61244] yes=3,no=4,missing=3,gain=23.5973,cover=185.214\\n\\t\\t3:leaf=-0.0929412,cover=170.705\\n\\t\\t4:leaf=0.0376974,cover=14.5087\\n\\t2:[f0<0.118044] yes=5,no=6,missing=5,gain=132.198,cover=967.01\\n\\t\\t5:leaf=-0.00576873,cover=582.438\\n\\t\\t6:leaf=0.0697097,cover=384.572\\n',\n",
       " '0:[f1<-0.403199] yes=1,no=2,missing=1,gain=161.641,cover=1132.57\\n\\t1:[f1<-1.31726] yes=3,no=4,missing=3,gain=53.9964,cover=414.121\\n\\t\\t3:leaf=-0.108196,cover=96.8617\\n\\t\\t4:leaf=-0.0231133,cover=317.259\\n\\t2:[f0<0.0856039] yes=5,no=6,missing=5,gain=97.5336,cover=718.453\\n\\t\\t5:leaf=0.00744465,cover=459.732\\n\\t\\t6:leaf=0.0841237,cover=258.72\\n',\n",
       " '0:[f1<0.68089] yes=1,no=2,missing=1,gain=149.849,cover=1112.1\\n\\t1:[f0<-0.970519] yes=3,no=4,missing=3,gain=111.529,cover=906.922\\n\\t\\t3:leaf=-0.0901302,cover=149.584\\n\\t\\t4:leaf=0.00409416,cover=757.339\\n\\t2:[f0<-1.8802] yes=5,no=6,missing=5,gain=22.5984,cover=205.18\\n\\t\\t5:leaf=-0.0558404,cover=10.4894\\n\\t\\t6:leaf=0.0906318,cover=194.691\\n',\n",
       " '0:[f1<0.222744] yes=1,no=2,missing=1,gain=132.103,cover=1095.83\\n\\t1:[f0<0.589418] yes=3,no=4,missing=3,gain=81.5441,cover=725.847\\n\\t\\t3:leaf=-0.0406014,cover=517.108\\n\\t\\t4:leaf=0.0333192,cover=208.739\\n\\t2:[f1<1.07662] yes=5,no=6,missing=5,gain=43.762,cover=369.978\\n\\t\\t5:leaf=0.0319322,cover=263.518\\n\\t\\t6:leaf=0.107859,cover=106.461\\n',\n",
       " '0:[f1<-1.11835] yes=1,no=2,missing=1,gain=124.877,cover=1077.32\\n\\t1:[f0<1.72332] yes=3,no=4,missing=3,gain=18.1924,cover=128.376\\n\\t\\t3:leaf=-0.0976404,cover=119.051\\n\\t\\t4:leaf=0.0435227,cover=9.32528\\n\\t2:[f0<0.589418] yes=5,no=6,missing=5,gain=104.595,cover=948.942\\n\\t\\t5:leaf=-0.000418532,cover=733.707\\n\\t\\t6:leaf=0.0787181,cover=215.234\\n',\n",
       " '0:[f1<0.943673] yes=1,no=2,missing=1,gain=114.542,cover=1062.83\\n\\t1:[f0<-0.945234] yes=3,no=4,missing=3,gain=97.294,cover=937.017\\n\\t\\t3:leaf=-0.0772849,cover=163.527\\n\\t\\t4:leaf=0.00739217,cover=773.49\\n\\t2:[f0<-1.8802] yes=5,no=6,missing=5,gain=9.61012,cover=125.816\\n\\t\\t5:leaf=-0.0196815,cover=6.74592\\n\\t\\t6:leaf=0.100347,cover=119.07\\n',\n",
       " '0:[f1<-0.472067] yes=1,no=2,missing=1,gain=111.366,cover=1050.28\\n\\t1:[f0<1.61244] yes=3,no=4,missing=3,gain=40.4853,cover=351.007\\n\\t\\t3:leaf=-0.0517341,cover=322.816\\n\\t\\t4:leaf=0.0714896,cover=28.1908\\n\\t2:[f0<0.245924] yes=5,no=6,missing=5,gain=80.3743,cover=699.277\\n\\t\\t5:leaf=0.00578166,cover=499.3\\n\\t\\t6:leaf=0.0806875,cover=199.977\\n',\n",
       " '0:[f1<-1.1277] yes=1,no=2,missing=1,gain=97.4918,cover=1032.44\\n\\t1:[f0<1.32301] yes=3,no=4,missing=3,gain=14.4629,cover=117.009\\n\\t\\t3:leaf=-0.0966888,cover=98.6169\\n\\t\\t4:leaf=-0.000162704,cover=18.3919\\n\\t2:[f0<0.682449] yes=5,no=6,missing=5,gain=82.6186,cover=915.428\\n\\t\\t5:leaf=0.000278972,cover=740.361\\n\\t\\t6:leaf=0.0764921,cover=175.067\\n',\n",
       " '0:[f1<0.943673] yes=1,no=2,missing=1,gain=96.8693,cover=1019.75\\n\\t1:[f0<-0.945234] yes=3,no=4,missing=3,gain=77.463,cover=905.407\\n\\t\\t3:leaf=-0.070919,cover=157.549\\n\\t\\t4:leaf=0.0060263,cover=747.858\\n\\t2:[f0<-1.8802] yes=5,no=6,missing=5,gain=8.8059,cover=114.346\\n\\t\\t5:leaf=-0.0184956,cover=6.74578\\n\\t\\t6:leaf=0.0967738,cover=107.6\\n',\n",
       " '0:[f1<-0.146536] yes=1,no=2,missing=1,gain=89.2275,cover=1008.46\\n\\t1:[f1<-1.35727] yes=3,no=4,missing=3,gain=45.6128,cover=503.03\\n\\t\\t3:leaf=-0.0996298,cover=72.0153\\n\\t\\t4:leaf=-0.0141075,cover=431.015\\n\\t2:[f0<0.110881] yes=5,no=6,missing=5,gain=53.3731,cover=505.43\\n\\t\\t5:leaf=0.0119992,cover=358.313\\n\\t\\t6:leaf=0.0834077,cover=147.117\\n',\n",
       " '0:[f1<1.07662] yes=1,no=2,missing=1,gain=82.7855,cover=993.767\\n\\t1:[f0<-0.971525] yes=3,no=4,missing=3,gain=69.2165,cover=912.38\\n\\t\\t3:leaf=-0.0662816,cover=155.166\\n\\t\\t4:leaf=0.00683053,cover=757.214\\n\\t2:[f0<-1.8802] yes=5,no=6,missing=5,gain=7.21568,cover=81.3871\\n\\t\\t5:leaf=-0.00774541,cover=5.74998\\n\\t\\t6:leaf=0.107113,cover=75.6371\\n',\n",
       " '0:[f1<0.106097] yes=1,no=2,missing=1,gain=75.589,cover=984.323\\n\\t1:[f0<-0.715049] yes=3,no=4,missing=3,gain=50.6911,cover=615.081\\n\\t\\t3:leaf=-0.0802695,cover=108.91\\n\\t\\t4:leaf=-0.00533339,cover=506.171\\n\\t2:[f0<0.124181] yes=5,no=6,missing=5,gain=35.0412,cover=369.242\\n\\t\\t5:leaf=0.0204844,cover=276.668\\n\\t\\t6:leaf=0.0913912,cover=92.5749\\n',\n",
       " '0:[f1<-1.31726] yes=1,no=2,missing=1,gain=70.5668,cover=969.854\\n\\t1:[f0<1.61769] yes=3,no=4,missing=3,gain=8.23811,cover=74.9985\\n\\t\\t3:leaf=-0.10088,cover=67.5097\\n\\t\\t4:leaf=0.00850654,cover=7.48879\\n\\t2:[f0<0.637821] yes=5,no=6,missing=5,gain=66.7738,cover=894.856\\n\\t\\t5:leaf=-0.00347331,cover=712.418\\n\\t\\t6:leaf=0.0641791,cover=182.438\\n',\n",
       " '0:[f1<1.07662] yes=1,no=2,missing=1,gain=69.941,cover=960.182\\n\\t1:[f0<-0.619493] yes=3,no=4,missing=3,gain=51.8601,cover=887.217\\n\\t\\t3:leaf=-0.0443619,cover=246.571\\n\\t\\t4:leaf=0.00951904,cover=640.645\\n\\t2:[f0<-1.8802] yes=5,no=6,missing=5,gain=6.96218,cover=72.9653\\n\\t\\t5:leaf=-0.008535,cover=5.74975\\n\\t\\t6:leaf=0.104634,cover=67.2156\\n',\n",
       " '0:[f1<-0.555197] yes=1,no=2,missing=1,gain=64.6597,cover=951.571\\n\\t1:[f1<-1.48268] yes=3,no=4,missing=3,gain=24.401,cover=283.128\\n\\t\\t3:leaf=-0.0995616,cover=51.395\\n\\t\\t4:leaf=-0.0238055,cover=231.733\\n\\t2:[f0<0.245924] yes=5,no=6,missing=5,gain=44.4959,cover=668.444\\n\\t\\t5:leaf=0.0036226,cover=492.623\\n\\t\\t6:leaf=0.062109,cover=175.82\\n',\n",
       " '0:[f1<0.561749] yes=1,no=2,missing=1,gain=61.7077,cover=939.807\\n\\t1:[f0<-0.967703] yes=3,no=4,missing=3,gain=43.7516,cover=769.298\\n\\t\\t3:leaf=-0.0674374,cover=112.654\\n\\t\\t4:leaf=-0.000237118,cover=656.644\\n\\t2:[f0<-1.68799] yes=5,no=6,missing=5,gain=19.0783,cover=170.509\\n\\t\\t5:leaf=-0.0389938,cover=18.1641\\n\\t\\t6:leaf=0.0676998,cover=152.345\\n',\n",
       " '0:[f1<1.10623] yes=1,no=2,missing=1,gain=57.0442,cover=928.967\\n\\t1:[f1<-1.35727] yes=3,no=4,missing=3,gain=44.8008,cover=867.505\\n\\t\\t3:leaf=-0.0868211,cover=60.9579\\n\\t\\t4:leaf=0.00141745,cover=806.547\\n\\t2:[f0<-1.8802] yes=5,no=6,missing=5,gain=4.99198,cover=61.4627\\n\\t\\t5:leaf=0.00259572,cover=5.49871\\n\\t\\t6:leaf=0.10285,cover=55.964\\n',\n",
       " '0:[f1<1.10623] yes=1,no=2,missing=1,gain=50.2677,cover=921.528\\n\\t1:[f0<1.11236] yes=3,no=4,missing=3,gain=42.8279,cover=864.508\\n\\t\\t3:leaf=-0.0124395,cover=765.805\\n\\t\\t4:leaf=0.0572331,cover=98.7037\\n\\t2:[f0<-1.8802] yes=5,no=6,missing=5,gain=4.80174,cover=57.0196\\n\\t\\t5:leaf=0.002376,cover=5.49892\\n\\t\\t6:leaf=0.101031,cover=51.5207\\n',\n",
       " '0:[f1<-0.808782] yes=1,no=2,missing=1,gain=47.9823,cover=914.94\\n\\t1:[f1<-1.53727] yes=3,no=4,missing=3,gain=14.0645,cover=174.009\\n\\t\\t3:leaf=-0.0967579,cover=40.3019\\n\\t\\t4:leaf=-0.029566,cover=133.707\\n\\t2:[f0<0.682449] yes=5,no=6,missing=5,gain=43.7799,cover=740.932\\n\\t\\t5:leaf=0.00203583,cover=623.648\\n\\t\\t6:leaf=0.0683964,cover=117.284\\n',\n",
       " '0:[f1<0.0926449] yes=1,no=2,missing=1,gain=44.6239,cover=905.753\\n\\t1:[f0<1.47389] yes=3,no=4,missing=3,gain=34.4256,cover=569.86\\n\\t\\t3:leaf=-0.0229787,cover=523.87\\n\\t\\t4:leaf=0.066396,cover=45.9893\\n\\t2:[f0<0.124181] yes=5,no=6,missing=5,gain=27.2598,cover=335.894\\n\\t\\t5:leaf=0.0150711,cover=262.852\\n\\t\\t6:leaf=0.0838502,cover=73.0418\\n',\n",
       " '0:[f1<1.15096] yes=1,no=2,missing=1,gain=42.7386,cover=895.446\\n\\t1:[f0<-1.08346] yes=3,no=4,missing=3,gain=40.5615,cover=847.923\\n\\t\\t3:leaf=-0.0582885,cover=117.16\\n\\t\\t4:leaf=0.00485586,cover=730.762\\n\\t2:[f0<-2.39668] yes=5,no=6,missing=5,gain=4.02787,cover=47.5237\\n\\t\\t5:leaf=-0.0327608,cover=1.99996\\n\\t\\t6:leaf=0.0986593,cover=45.5237\\n',\n",
       " '0:[f1<-0.472067] yes=1,no=2,missing=1,gain=39.6687,cover=889.636\\n\\t1:[f0<1.61244] yes=3,no=4,missing=3,gain=20.8561,cover=300.99\\n\\t\\t3:leaf=-0.0362981,cover=275.716\\n\\t\\t4:leaf=0.0571088,cover=25.274\\n\\t2:[f0<0.535804] yes=5,no=6,missing=5,gain=34.8474,cover=588.646\\n\\t\\t5:leaf=0.00601426,cover=500.645\\n\\t\\t6:leaf=0.0739375,cover=88.0006\\n',\n",
       " '0:[f1<-1.35727] yes=1,no=2,missing=1,gain=37.4371,cover=879.811\\n\\t1:[f0<1.86737] yes=3,no=4,missing=3,gain=4.99446,cover=53.4726\\n\\t\\t3:leaf=-0.0879285,cover=49.3371\\n\\t\\t4:leaf=0.0217952,cover=4.1355\\n\\t2:[f0<0.682449] yes=5,no=6,missing=5,gain=36.6868,cover=826.338\\n\\t\\t5:leaf=-0.00342353,cover=679.622\\n\\t\\t6:leaf=0.0515579,cover=146.716\\n',\n",
       " '0:[f1<1.15096] yes=1,no=2,missing=1,gain=37.087,cover=873.442\\n\\t1:[f0<-1.55819] yes=3,no=4,missing=3,gain=34.3754,cover=829.803\\n\\t\\t3:leaf=-0.0827714,cover=50.6625\\n\\t\\t4:leaf=0.00145906,cover=779.141\\n\\t2:[f0<-1.8802] yes=5,no=6,missing=5,gain=4.24022,cover=43.6384\\n\\t\\t5:leaf=0.00443111,cover=5.24228\\n\\t\\t6:leaf=0.101036,cover=38.3961\\n',\n",
       " '0:[f1<-0.225163] yes=1,no=2,missing=1,gain=33.5255,cover=868.585\\n\\t1:[f0<-0.342501] yes=3,no=4,missing=3,gain=25.5865,cover=411.496\\n\\t\\t3:leaf=-0.0625866,cover=103.28\\n\\t\\t4:leaf=-0.0052622,cover=308.215\\n\\t2:[f0<-0.0645877] yes=5,no=6,missing=5,gain=23.3362,cover=457.089\\n\\t\\t5:leaf=0.00418157,cover=313.356\\n\\t\\t6:leaf=0.0527465,cover=143.733\\n',\n",
       " '0:[f1<1.15096] yes=1,no=2,missing=1,gain=32.1674,cover=858.456\\n\\t1:[f0<-1.25248] yes=3,no=4,missing=3,gain=28.3583,cover=818.479\\n\\t\\t3:leaf=-0.0571841,cover=86.8305\\n\\t\\t4:leaf=0.00294883,cover=731.649\\n\\t2:[f0<-1.8802] yes=5,no=6,missing=5,gain=4.1267,cover=39.977\\n\\t\\t5:leaf=0.00370853,cover=5.24123\\n\\t\\t6:leaf=0.0994524,cover=34.7357\\n',\n",
       " '0:[f1<-1.19918] yes=1,no=2,missing=1,gain=31.9418,cover=853.676\\n\\t1:[f0<1.90075] yes=3,no=4,missing=3,gain=9.26282,cover=72.5267\\n\\t\\t3:leaf=-0.0723538,cover=67.2156\\n\\t\\t4:leaf=0.0568618,cover=5.31109\\n\\t2:[f0<0.589418] yes=5,no=6,missing=5,gain=27.6528,cover=781.149\\n\\t\\t5:leaf=-0.00247597,cover=631.802\\n\\t\\t6:leaf=0.045238,cover=149.347\\n',\n",
       " '0:[f1<0.376283] yes=1,no=2,missing=1,gain=29.7206,cover=847.234\\n\\t1:[f0<-1.03584] yes=3,no=4,missing=3,gain=26.249,cover=648.911\\n\\t\\t3:leaf=-0.0668553,cover=70.4301\\n\\t\\t4:leaf=-0.00259635,cover=578.481\\n\\t2:[f0<-0.527533] yes=5,no=6,missing=5,gain=18.5736,cover=198.323\\n\\t\\t5:leaf=0.00766463,cover=112.779\\n\\t\\t6:leaf=0.0693302,cover=85.544\\n',\n",
       " '0:[f1<-1.48268] yes=1,no=2,missing=1,gain=27.6479,cover=839.386\\n\\t1:[f0<1.86737] yes=3,no=4,missing=3,gain=5.01598,cover=37.8015\\n\\t\\t3:leaf=-0.0934231,cover=34.18\\n\\t\\t4:leaf=0.0243748,cover=3.62148\\n\\t2:[f0<1.47389] yes=5,no=6,missing=5,gain=26.0708,cover=801.584\\n\\t\\t5:leaf=0.000466087,cover=761.954\\n\\t\\t6:leaf=0.0826785,cover=39.63\\n',\n",
       " '0:[f1<1.15096] yes=1,no=2,missing=1,gain=27.1269,cover=835.202\\n\\t1:[f0<-1.66942] yes=3,no=4,missing=3,gain=22.988,cover=799.224\\n\\t\\t3:leaf=-0.0807064,cover=35.6001\\n\\t\\t4:leaf=0.000421889,cover=763.624\\n\\t2:[f0<-1.8802] yes=5,no=6,missing=5,gain=3.98845,cover=35.9778\\n\\t\\t5:leaf=0.00292296,cover=5.23986\\n\\t\\t6:leaf=0.0976652,cover=30.7379\\n',\n",
       " '0:[f1<-0.932407] yes=1,no=2,missing=1,gain=25.5563,cover=831.426\\n\\t1:[f1<-1.71816] yes=3,no=4,missing=3,gain=8.3936,cover=119.723\\n\\t\\t3:leaf=-0.0945144,cover=23.5033\\n\\t\\t4:leaf=-0.0283456,cover=96.2193\\n\\t2:[f1<1.15096] yes=5,no=6,missing=5,gain=20.0045,cover=711.703\\n\\t\\t5:leaf=0.003961,cover=678.235\\n\\t\\t6:leaf=0.0820644,cover=33.468\\n',\n",
       " '0:[f1<0.164653] yes=1,no=2,missing=1,gain=22.4949,cover=826.534\\n\\t1:[f0<-0.715049] yes=3,no=4,missing=3,gain=20.3588,cover=557.422\\n\\t\\t3:leaf=-0.0552158,cover=86.6972\\n\\t\\t4:leaf=-0.00273062,cover=470.725\\n\\t2:[f0<-0.0663827] yes=5,no=6,missing=5,gain=17.9117,cover=269.112\\n\\t\\t5:leaf=0.00918785,cover=202.112\\n\\t\\t6:leaf=0.0685796,cover=66.9995\\n',\n",
       " '0:[f1<-0.472067] yes=1,no=2,missing=1,gain=20.6068,cover=818.977\\n\\t1:[f0<-0.264046] yes=3,no=4,missing=3,gain=15.443,cover=276.101\\n\\t\\t3:leaf=-0.066491,cover=59.3724\\n\\t\\t4:leaf=-0.00924399,cover=216.729\\n\\t2:[f0<0.603514] yes=5,no=6,missing=5,gain=21.0186,cover=542.876\\n\\t\\t5:leaf=0.00455547,cover=479.718\\n\\t\\t6:leaf=0.0655123,cover=63.1582\\n',\n",
       " '0:[f1<1.07662] yes=1,no=2,missing=1,gain=19.9488,cover=811.958\\n\\t1:[f0<-1.55819] yes=3,no=4,missing=3,gain=19.0869,cover=775.448\\n\\t\\t3:leaf=-0.0675614,cover=42.2875\\n\\t\\t4:leaf=0.000772766,cover=733.161\\n\\t2:[f0<-1.79575] yes=5,no=6,missing=5,gain=6.07628,cover=36.5096\\n\\t\\t5:leaf=-0.0130966,cover=6.66907\\n\\t\\t6:leaf=0.0903784,cover=29.8405\\n',\n",
       " '0:[f1<-1.53727] yes=1,no=2,missing=1,gain=19.935,cover=808.365\\n\\t1:[f0<1.86737] yes=3,no=4,missing=3,gain=2.34741,cover=29.025\\n\\t\\t3:leaf=-0.0887995,cover=26.0857\\n\\t\\t4:leaf=0.00397911,cover=2.93931\\n\\t2:[f0<1.55957] yes=5,no=6,missing=5,gain=22.6941,cover=779.34\\n\\t\\t5:leaf=-0.000130197,cover=747.369\\n\\t\\t6:leaf=0.0846443,cover=31.9708\\n',\n",
       " '0:[f1<-1.1277] yes=1,no=2,missing=1,gain=17.9627,cover=805.05\\n\\t1:[f0<1.32301] yes=3,no=4,missing=3,gain=8.62139,cover=74.4961\\n\\t\\t3:leaf=-0.0640931,cover=57.8666\\n\\t\\t4:leaf=0.0165884,cover=16.6295\\n\\t2:[f0<1.46045] yes=5,no=6,missing=5,gain=18.237,cover=730.554\\n\\t\\t5:leaf=0.00188666,cover=701.957\\n\\t\\t6:leaf=0.0820253,cover=28.5968\\n',\n",
       " '0:[f1<0.68089] yes=1,no=2,missing=1,gain=17.7082,cover=800.712\\n\\t1:[f0<-0.291309] yes=3,no=4,missing=3,gain=14.6553,cover=702.017\\n\\t\\t3:leaf=-0.0231757,cover=276.298\\n\\t\\t4:leaf=0.00635577,cover=425.72\\n\\t2:[f0<-1.19671] yes=5,no=6,missing=5,gain=11.2124,cover=98.6953\\n\\t\\t5:leaf=-0.00960916,cover=31.2369\\n\\t\\t6:leaf=0.062414,cover=67.4584\\n',\n",
       " '0:[f1<1.15096] yes=1,no=2,missing=1,gain=16.703,cover=795.352\\n\\t1:[f0<-1.66942] yes=3,no=4,missing=3,gain=15.9095,cover=767.567\\n\\t\\t3:leaf=-0.0701852,cover=32.2309\\n\\t\\t4:leaf=0.000552434,cover=735.336\\n\\t2:[f0<-1.8802] yes=5,no=6,missing=5,gain=4.01649,cover=27.7845\\n\\t\\t5:leaf=-0.00360937,cover=5.2197\\n\\t\\t6:leaf=0.0926679,cover=22.5648\\n',\n",
       " '0:[f1<-1.71816] yes=1,no=2,missing=1,gain=16.1722,cover=792.478\\n\\t1:[f0<1.86737] yes=3,no=4,missing=3,gain=2.56029,cover=19.8232\\n\\t\\t3:leaf=-0.099483,cover=17.3824\\n\\t\\t4:leaf=0.00685668,cover=2.44071\\n\\t2:[f0<1.11117] yes=5,no=6,missing=5,gain=16.9473,cover=772.655\\n\\t\\t5:leaf=-0.00201971,cover=704.456\\n\\t\\t6:leaf=0.04984,cover=68.1983\\n',\n",
       " '0:[f1<-0.146536] yes=1,no=2,missing=1,gain=16.3253,cover=789.544\\n\\t1:[f0<-1.02206] yes=3,no=4,missing=3,gain=17.0617,cover=408.052\\n\\t\\t3:leaf=-0.0867487,cover=28.6258\\n\\t\\t4:leaf=-0.00791773,cover=379.426\\n\\t2:[f0<0.245924] yes=5,no=6,missing=5,gain=17.0057,cover=381.492\\n\\t\\t5:leaf=0.00545312,cover=316.581\\n\\t\\t6:leaf=0.0613078,cover=64.9109\\n',\n",
       " '0:[f1<1.43965] yes=1,no=2,missing=1,gain=14.9251,cover=783.497\\n\\t1:[f0<-1.66942] yes=3,no=4,missing=3,gain=15.4634,cover=767.945\\n\\t\\t3:leaf=-0.0670469,cover=33.6912\\n\\t\\t4:leaf=0.00127469,cover=734.254\\n\\t2:[f1<1.50158] yes=5,no=6,missing=5,gain=0.107927,cover=15.5522\\n\\t\\t5:leaf=0.0328668,cover=1.5749\\n\\t\\t6:leaf=0.0984202,cover=13.9773\\n',\n",
       " '0:[f1<-0.932407] yes=1,no=2,missing=1,gain=14.4183,cover=781.457\\n\\t1:[f0<0.645746] yes=3,no=4,missing=3,gain=6.3193,cover=108.16\\n\\t\\t3:leaf=-0.0570767,cover=54.7461\\n\\t\\t4:leaf=-0.00875147,cover=53.4142\\n\\t2:[f0<1.54891] yes=5,no=6,missing=5,gain=13.4846,cover=673.296\\n\\t\\t5:leaf=0.00319113,cover=654.362\\n\\t\\t6:leaf=0.0866892,cover=18.9344\\n',\n",
       " '0:[f1<-1.48268] yes=1,no=2,missing=1,gain=13.4963,cover=777.518\\n\\t1:[f0<1.86737] yes=3,no=4,missing=3,gain=3.88476,cover=28.7063\\n\\t\\t3:leaf=-0.0795301,cover=25.0862\\n\\t\\t4:leaf=0.025201,cover=3.62011\\n\\t2:[f0<1.47389] yes=5,no=6,missing=5,gain=13.1811,cover=748.812\\n\\t\\t5:leaf=4.23801e-05,cover=718.572\\n\\t\\t6:leaf=0.0663957,cover=30.2399\\n',\n",
       " '0:[f1<1.43965] yes=1,no=2,missing=1,gain=13.1586,cover=774.754\\n\\t1:[f0<-1.69294] yes=3,no=4,missing=3,gain=13.0963,cover=760.298\\n\\t\\t3:leaf=-0.0645242,cover=30.7812\\n\\t\\t4:leaf=0.00105128,cover=729.517\\n\\t2:[f1<1.50158] yes=5,no=6,missing=5,gain=0.110091,cover=14.4557\\n\\t\\t5:leaf=0.0311887,cover=1.53002\\n\\t\\t6:leaf=0.0959058,cover=12.9257\\n',\n",
       " '0:[f1<0.113531] yes=1,no=2,missing=1,gain=13.1274,cover=772.892\\n\\t1:[f0<-1.03584] yes=3,no=4,missing=3,gain=12.667,cover=505.93\\n\\t\\t3:leaf=-0.0642048,cover=37.8092\\n\\t\\t4:leaf=-0.00473763,cover=468.121\\n\\t2:[f0<0.124181] yes=5,no=6,missing=5,gain=11.9393,cover=266.962\\n\\t\\t5:leaf=0.00878374,cover=224.874\\n\\t\\t6:leaf=0.0663029,cover=42.0885\\n',\n",
       " '0:[f1<-1.71816] yes=1,no=2,missing=1,gain=12.013,cover=767.752\\n\\t1:[f0<1.86737] yes=3,no=4,missing=3,gain=2.21605,cover=17.0647\\n\\t\\t3:leaf=-0.0942755,cover=14.6289\\n\\t\\t4:leaf=0.00594561,cover=2.43578\\n\\t2:[f0<1.47389] yes=5,no=6,missing=5,gain=11.4963,cover=750.687\\n\\t\\t5:leaf=-0.0005461,cover=719.031\\n\\t\\t6:leaf=0.0601189,cover=31.6557\\n',\n",
       " '0:[f1<1.15096] yes=1,no=2,missing=1,gain=11.7331,cover=765.581\\n\\t1:[f1<-1.71816] yes=3,no=4,missing=3,gain=9.93317,cover=742.134\\n\\t\\t3:leaf=-0.0776105,cover=16.0268\\n\\t\\t4:leaf=-0.000339985,cover=726.107\\n\\t2:[f0<-1.8802] yes=5,no=6,missing=5,gain=3.87312,cover=23.4467\\n\\t\\t5:leaf=-0.00727178,cover=5.16401\\n\\t\\t6:leaf=0.0889126,cover=18.2827\\n',\n",
       " '0:[f1<-0.472067] yes=1,no=2,missing=1,gain=10.9211,cover=763.384\\n\\t1:[f0<-0.264046] yes=3,no=4,missing=3,gain=10.4576,cover=253.563\\n\\t\\t3:leaf=-0.0572113,cover=50.1778\\n\\t\\t4:leaf=-0.00659582,cover=203.386\\n\\t2:[f0<0.603514] yes=5,no=6,missing=5,gain=12.0859,cover=509.821\\n\\t\\t5:leaf=0.0033567,cover=458.575\\n\\t\\t6:leaf=0.0541289,cover=51.2459\\n',\n",
       " '0:[f1<1.43965] yes=1,no=2,missing=1,gain=10.4267,cover=758.425\\n\\t1:[f0<-1.79998] yes=3,no=4,missing=3,gain=11.0394,cover=745.972\\n\\t\\t3:leaf=-0.0701945,cover=21.6584\\n\\t\\t4:leaf=0.000688508,cover=724.313\\n\\t2:[f1<1.50158] yes=5,no=6,missing=5,gain=0.168241,cover=12.4532\\n\\t\\t5:leaf=0.0256505,cover=1.37033\\n\\t\\t6:leaf=0.0922406,cover=11.0829\\n',\n",
       " '0:[f1<0.561749] yes=1,no=2,missing=1,gain=10.181,cover=756.91\\n\\t1:[f0<-0.180378] yes=3,no=4,missing=3,gain=9.12477,cover=647.077\\n\\t\\t3:leaf=-0.0181511,cover=282.253\\n\\t\\t4:leaf=0.00575938,cover=364.824\\n\\t2:[f0<-0.656507] yes=5,no=6,missing=5,gain=6.13043,cover=109.833\\n\\t\\t5:leaf=0.00718009,cover=62.1611\\n\\t\\t6:leaf=0.0547052,cover=47.672\\n',\n",
       " '0:[f1<-1.35727] yes=1,no=2,missing=1,gain=9.30689,cover=752.691\\n\\t1:[f0<1.32252] yes=3,no=4,missing=3,gain=3.36037,cover=34.0586\\n\\t\\t3:leaf=-0.0700192,cover=23.8699\\n\\t\\t4:leaf=-0.00166667,cover=10.1887\\n\\t2:[f0<0.682449] yes=5,no=6,missing=5,gain=10.2287,cover=718.632\\n\\t\\t5:leaf=-0.00265228,cover=603.947\\n\\t\\t6:leaf=0.0298029,cover=114.685\\n',\n",
       " '0:[f1<-0.146536] yes=1,no=2,missing=1,gain=9.29399,cover=749.749\\n\\t1:[f0<-1.02206] yes=3,no=4,missing=3,gain=12.372,cover=387.838\\n\\t\\t3:leaf=-0.0798353,cover=23.2436\\n\\t\\t4:leaf=-0.00603424,cover=364.595\\n\\t2:[f0<0.245924] yes=5,no=6,missing=5,gain=11.0659,cover=361.911\\n\\t\\t5:leaf=0.00410595,cover=306.643\\n\\t\\t6:leaf=0.0523674,cover=55.2679\\n',\n",
       " '0:[f1<1.50158] yes=1,no=2,missing=1,gain=8.92611,cover=745.245\\n\\t1:[f0<-1.79998] yes=3,no=4,missing=3,gain=8.36354,cover=735.169\\n\\t\\t3:leaf=-0.0622531,cover=20.8172\\n\\t\\t4:leaf=0.000599624,cover=714.352\\n\\t2:leaf=0.089182,cover=10.0761\\n',\n",
       " '0:[f1<-0.559963] yes=1,no=2,missing=1,gain=8.39266,cover=743.949\\n\\t1:[f0<-0.256306] yes=3,no=4,missing=3,gain=10.036,cover=214.404\\n\\t\\t3:leaf=-0.0621175,cover=38.5185\\n\\t\\t4:leaf=-0.00630159,cover=175.885\\n\\t2:[f0<1.06988] yes=5,no=6,missing=5,gain=7.52156,cover=529.545\\n\\t\\t5:leaf=0.00412832,cover=504.641\\n\\t\\t6:leaf=0.0593935,cover=24.9043\\n',\n",
       " '0:[f1<1.07662] yes=1,no=2,missing=1,gain=8.14628,cover=740.265\\n\\t1:[f1<-1.71816] yes=3,no=4,missing=3,gain=7.51641,cover=715.461\\n\\t\\t3:leaf=-0.0711991,cover=14.3271\\n\\t\\t4:leaf=-0.00040849,cover=701.134\\n\\t2:[f0<-1.79575] yes=5,no=6,missing=5,gain=4.38269,cover=24.8037\\n\\t\\t5:leaf=-0.0139921,cover=6.47054\\n\\t\\t6:leaf=0.0791705,cover=18.3332\\n',\n",
       " '0:[f1<1.50158] yes=1,no=2,missing=1,gain=7.34282,cover=738.375\\n\\t1:[f0<-1.55819] yes=3,no=4,missing=3,gain=7.20532,cover=729.487\\n\\t\\t3:leaf=-0.0424457,cover=38.8462\\n\\t\\t4:leaf=0.00128629,cover=690.641\\n\\t2:[f0<-2.06063] yes=5,no=6,missing=5,gain=0.0728073,cover=8.88824\\n\\t\\t5:leaf=0.0342267,cover=1.86864\\n\\t\\t6:leaf=0.0933728,cover=7.01961\\n',\n",
       " '0:[f1<0.310823] yes=1,no=2,missing=1,gain=7.39819,cover=737.051\\n\\t1:[f0<-1.03584] yes=3,no=4,missing=3,gain=7.36871,cover=556.165\\n\\t\\t3:leaf=-0.0431652,cover=46.8577\\n\\t\\t4:leaf=-0.0021184,cover=509.308\\n\\t2:[f0<-0.0750891] yes=5,no=6,missing=5,gain=8.15408,cover=180.886\\n\\t\\t5:leaf=0.0066703,cover=144.001\\n\\t\\t6:leaf=0.0588707,cover=36.8854\\n',\n",
       " '0:[f1<-1.1277] yes=1,no=2,missing=1,gain=6.92308,cover=733.47\\n\\t1:[f0<1.32301] yes=3,no=4,missing=3,gain=5.17924,cover=61.3328\\n\\t\\t3:leaf=-0.0486369,cover=45.5648\\n\\t\\t4:leaf=0.0167988,cover=15.768\\n\\t2:[f0<1.65773] yes=5,no=6,missing=5,gain=8.13085,cover=672.138\\n\\t\\t5:leaf=0.00137407,cover=658.391\\n\\t\\t6:leaf=0.0764584,cover=13.7466\\n',\n",
       " '0:[f1<-1.71816] yes=1,no=2,missing=1,gain=6.5073,cover=731.021\\n\\t1:[f0<1.86737] yes=3,no=4,missing=3,gain=2.33368,cover=13.3082\\n\\t\\t3:leaf=-0.0853348,cover=10.8294\\n\\t\\t4:leaf=0.0158006,cover=2.47879\\n\\t2:[f0<1.47389] yes=5,no=6,missing=5,gain=7.23531,cover=717.713\\n\\t\\t5:leaf=-0.000652029,cover=689.917\\n\\t\\t6:leaf=0.0505083,cover=27.7962\\n',\n",
       " '0:[f1<1.15096] yes=1,no=2,missing=1,gain=6.51342,cover=729.455\\n\\t1:[f1<-1.71816] yes=3,no=4,missing=3,gain=5.41152,cover=711.373\\n\\t\\t3:leaf=-0.0640176,cover=12.5764\\n\\t\\t4:leaf=-0.000272341,cover=698.797\\n\\t2:[f0<-1.8802] yes=5,no=6,missing=5,gain=3.189,cover=18.0815\\n\\t\\t5:leaf=-0.00899099,cover=5.0231\\n\\t\\t6:leaf=0.0821882,cover=13.0584\\n',\n",
       " '0:[f1<1.50158] yes=1,no=2,missing=1,gain=6.00757,cover=727.999\\n\\t1:[f0<-1.79998] yes=3,no=4,missing=3,gain=6.11652,cover=720.222\\n\\t\\t3:leaf=-0.0546999,cover=19.564\\n\\t\\t4:leaf=0.000631762,cover=700.658\\n\\t2:[f0<-2.06063] yes=5,no=6,missing=5,gain=0.0886517,cover=7.77684\\n\\t\\t5:leaf=0.0322891,cover=1.85275\\n\\t\\t6:leaf=0.0910061,cover=5.92409\\n',\n",
       " '0:[f1<0.0926449] yes=1,no=2,missing=1,gain=5.84043,cover=726.969\\n\\t1:[f0<-1.39743] yes=3,no=4,missing=3,gain=7.51046,cover=471.539\\n\\t\\t3:leaf=-0.0791567,cover=12.8268\\n\\t\\t4:leaf=-0.0043345,cover=458.712\\n\\t2:[f0<0.124181] yes=5,no=6,missing=5,gain=8.22976,cover=255.43\\n\\t\\t5:leaf=0.00489308,cover=219.956\\n\\t\\t6:leaf=0.0562114,cover=35.4736\\n',\n",
       " '0:[f1<0.943673] yes=1,no=2,missing=1,gain=5.3764,cover=723.799\\n\\t1:[f0<1.67264] yes=3,no=4,missing=3,gain=5.32342,cover=685.846\\n\\t\\t3:leaf=-0.00358853,cover=664.933\\n\\t\\t4:leaf=0.0465066,cover=20.9125\\n\\t2:[f0<-1.21108] yes=5,no=6,missing=5,gain=7.4549,cover=37.9535\\n\\t\\t5:leaf=-0.0156485,cover=15.8786\\n\\t\\t6:leaf=0.0725476,cover=22.0749\\n',\n",
       " '0:[f1<-0.932407] yes=1,no=2,missing=1,gain=5.22148,cover=721.957\\n\\t1:[f0<0.645746] yes=3,no=4,missing=3,gain=4.28898,cover=93.2145\\n\\t\\t3:leaf=-0.0438531,cover=44.7338\\n\\t\\t4:leaf=-0.00113837,cover=48.4807\\n\\t2:[f0<1.65773] yes=5,no=6,missing=5,gain=6.96082,cover=628.743\\n\\t\\t5:leaf=0.00193006,cover=618.414\\n\\t\\t6:leaf=0.0810363,cover=10.3287\\n',\n",
       " '0:[f1<1.50158] yes=1,no=2,missing=1,gain=5.13671,cover=719.636\\n\\t1:[f0<-1.79998] yes=3,no=4,missing=3,gain=4.89706,cover=712.602\\n\\t\\t3:leaf=-0.0498942,cover=18.7759\\n\\t\\t4:leaf=0.000571594,cover=693.826\\n\\t2:[f0<-2.06063] yes=5,no=6,missing=5,gain=0.0956436,cover=7.03416\\n\\t\\t5:leaf=0.030899,cover=1.84085\\n\\t\\t6:leaf=0.0890638,cover=5.19331\\n',\n",
       " '0:[f1<-1.71816] yes=1,no=2,missing=1,gain=4.84275,cover=718.733\\n\\t1:[f0<1.86737] yes=3,no=4,missing=3,gain=2.10434,cover=11.8679\\n\\t\\t3:leaf=-0.0806561,cover=9.38775\\n\\t\\t4:leaf=0.0162207,cover=2.4801\\n\\t2:[f0<1.11117] yes=5,no=6,missing=5,gain=5.02342,cover=706.865\\n\\t\\t5:leaf=-0.00127867,cover=652.296\\n\\t\\t6:leaf=0.030041,cover=54.5686\\n',\n",
       " '0:[f1<-0.472067] yes=1,no=2,missing=1,gain=4.85556,cover=717.328\\n\\t1:[f1<-0.491973] yes=3,no=4,missing=3,gain=9.49251,cover=235.807\\n\\t\\t3:leaf=-0.00774969,cover=228.219\\n\\t\\t4:leaf=-0.114912,cover=7.58793\\n\\t2:[f0<0.603514] yes=5,no=6,missing=5,gain=6.07118,cover=481.522\\n\\t\\t5:leaf=0.00229581,cover=439.409\\n\\t\\t6:leaf=0.0416267,cover=42.1129\\n',\n",
       " '0:[f1<1.50158] yes=1,no=2,missing=1,gain=4.58794,cover=715.211\\n\\t1:[f0<-0.291309] yes=3,no=4,missing=3,gain=4.56285,cover=708.608\\n\\t\\t3:leaf=-0.00999719,cover=304.909\\n\\t\\t4:leaf=0.00618637,cover=403.699\\n\\t2:[f0<-2.06063] yes=5,no=6,missing=5,gain=0.121581,cover=6.60288\\n\\t\\t5:leaf=0.0290118,cover=1.82404\\n\\t\\t6:leaf=0.0875416,cover=4.77884\\n',\n",
       " '0:[f1<0.225175] yes=1,no=2,missing=1,gain=4.59762,cover=714.013\\n\\t1:[f0<-1.44425] yes=3,no=4,missing=3,gain=6.33395,cover=512.316\\n\\t\\t3:leaf=-0.0678638,cover=14.533\\n\\t\\t4:leaf=-0.00300734,cover=497.783\\n\\t2:[f0<-0.0663827] yes=5,no=6,missing=5,gain=5.49332,cover=201.697\\n\\t\\t5:leaf=0.00481336,cover=164.231\\n\\t\\t6:leaf=0.0468346,cover=37.4663\\n',\n",
       " '0:[f1<-1.35727] yes=1,no=2,missing=1,gain=4.27931,cover=711.369\\n\\t1:[f0<1.32252] yes=3,no=4,missing=3,gain=2.19888,cover=28.1948\\n\\t\\t3:leaf=-0.056972,cover=18.3801\\n\\t\\t4:leaf=0.00102037,cover=9.81466\\n\\t2:[f0<1.74705] yes=5,no=6,missing=5,gain=5.09307,cover=683.174\\n\\t\\t5:leaf=0.000467529,cover=671.521\\n\\t\\t6:leaf=0.0645053,cover=11.6539\\n',\n",
       " '0:[f1<1.15096] yes=1,no=2,missing=1,gain=4.13336,cover=709.913\\n\\t1:[f0<-0.619493] yes=3,no=4,missing=3,gain=3.87619,cover=694.842\\n\\t\\t3:leaf=-0.0131567,cover=192.057\\n\\t\\t4:leaf=0.00350855,cover=502.785\\n\\t2:[f0<-1.8802] yes=5,no=6,missing=5,gain=2.49128,cover=15.0711\\n\\t\\t5:leaf=-0.00773051,cover=4.90469\\n\\t\\t6:leaf=0.0763177,cover=10.1664\\n',\n",
       " '0:[f1<-0.559963] yes=1,no=2,missing=1,gain=4.16539,cover=708.522\\n\\t1:[f0<-0.256306] yes=3,no=4,missing=3,gain=7.60341,cover=201.834\\n\\t\\t3:leaf=-0.0547078,cover=33.6623\\n\\t\\t4:leaf=-0.00324863,cover=168.172\\n\\t2:[f0<1.65069] yes=5,no=6,missing=5,gain=4.5647,cover=506.689\\n\\t\\t5:leaf=0.00381221,cover=501.251\\n\\t\\t6:leaf=0.0885822,cover=5.43705\\n',\n",
       " '0:[f1<-2.00086] yes=1,no=2,missing=1,gain=3.82767,cover=706.167\\n\\t1:[f0<1.86737] yes=3,no=4,missing=3,gain=1.33508,cover=6.17396\\n\\t\\t3:leaf=-0.0925504,cover=4.93427\\n\\t\\t4:leaf=0.0126042,cover=1.23969\\n\\t2:[f1<1.50158] yes=5,no=6,missing=5,gain=3.69294,cover=699.992\\n\\t\\t5:leaf=7.21469e-05,cover=694.108\\n\\t\\t6:leaf=0.0736729,cover=5.88486\\n',\n",
       " '0:[f1<0.444064] yes=1,no=2,missing=1,gain=3.66431,cover=705.494\\n\\t1:[f0<-1.01334] yes=3,no=4,missing=3,gain=5.62094,cover=580.107\\n\\t\\t3:leaf=-0.0330986,cover=56.124\\n\\t\\t4:leaf=-6.41852e-05,cover=523.983\\n\\t2:[f0<-0.527466] yes=5,no=6,missing=5,gain=5.28347,cover=125.387\\n\\t\\t5:leaf=0.000689661,cover=83.0168\\n\\t\\t6:leaf=0.0437639,cover=42.3704\\n',\n",
       " '0:[f1<-1.1277] yes=1,no=2,missing=1,gain=3.4903,cover=702.807\\n\\t1:[f0<1.32301] yes=3,no=4,missing=3,gain=2.86874,cover=54.6319\\n\\t\\t3:leaf=-0.0378624,cover=39.5848\\n\\t\\t4:leaf=0.012573,cover=15.0471\\n\\t2:[f0<1.65773] yes=5,no=6,missing=5,gain=3.87251,cover=648.175\\n\\t\\t5:leaf=0.00109721,cover=638.361\\n\\t\\t6:leaf=0.0614461,cover=9.81404\\n',\n",
       " '0:[f1<-2.00086] yes=1,no=2,missing=1,gain=3.32358,cover=701.194\\n\\t1:[f0<1.86737] yes=3,no=4,missing=3,gain=1.21409,cover=5.70844\\n\\t\\t3:leaf=-0.0904208,cover=4.47165\\n\\t\\t4:leaf=0.0112303,cover=1.2368\\n\\t2:[f1<1.50158] yes=5,no=6,missing=5,gain=3.19809,cover=695.486\\n\\t\\t5:leaf=6.02512e-05,cover=689.963\\n\\t\\t6:leaf=0.0704097,cover=5.52315\\n',\n",
       " '0:[f1<-0.146536] yes=1,no=2,missing=1,gain=3.11263,cover=700.589\\n\\t1:[f0<-1.02206] yes=3,no=4,missing=3,gain=7.61101,cover=363.945\\n\\t\\t3:leaf=-0.0690448,cover=17.3976\\n\\t\\t4:leaf=-0.0030277,cover=346.548\\n\\t2:[f0<0.245924] yes=5,no=6,missing=5,gain=5.79488,cover=336.644\\n\\t\\t5:leaf=0.00172868,cover=291.333\\n\\t\\t6:leaf=0.0398171,cover=45.3112\\n',\n",
       " '0:[f1<-1.71816] yes=1,no=2,missing=1,gain=2.9533,cover=697.821\\n\\t1:[f0<1.86737] yes=3,no=4,missing=3,gain=1.58277,cover=9.9158\\n\\t\\t3:leaf=-0.0723552,cover=7.44374\\n\\t\\t4:leaf=0.013805,cover=2.47207\\n\\t2:[f0<2.3038] yes=5,no=6,missing=5,gain=3.47712,cover=687.905\\n\\t\\t5:leaf=0.000274952,cover=684.473\\n\\t\\t6:leaf=0.0891337,cover=3.43229\\n',\n",
       " '0:[f1<0.68089] yes=1,no=2,missing=1,gain=2.88991,cover=697.136\\n\\t1:[f0<2.22242] yes=3,no=4,missing=3,gain=2.52278,cover=624.811\\n\\t\\t3:leaf=-0.00284302,cover=618.781\\n\\t\\t4:leaf=0.0574062,cover=6.03001\\n\\t2:[f0<-0.047479] yes=5,no=6,missing=5,gain=6.62344,cover=72.3249\\n\\t\\t5:leaf=0.00649839,cover=62.9418\\n\\t\\t6:leaf=0.0928348,cover=9.38313\\n',\n",
       " '0:[f1<1.50158] yes=1,no=2,missing=1,gain=2.78932,cover=695.888\\n\\t1:[f0<-1.79998] yes=3,no=4,missing=3,gain=3.53062,cover=690.708\\n\\t\\t3:leaf=-0.0435825,cover=17.5482\\n\\t\\t4:leaf=0.000642745,cover=673.16\\n\\t2:[f0<-2.06063] yes=5,no=6,missing=5,gain=0.294772,cover=5.17929\\n\\t\\t5:leaf=0.0181319,cover=1.71429\\n\\t\\t6:leaf=0.0816231,cover=3.465\\n',\n",
       " '0:[f1<-2.00086] yes=1,no=2,missing=1,gain=2.72762,cover=695.222\\n\\t1:[f0<1.86737] yes=3,no=4,missing=3,gain=1.00386,cover=5.11185\\n\\t\\t3:leaf=-0.0868993,cover=3.88368\\n\\t\\t4:leaf=0.00818559,cover=1.22817\\n\\t2:[f0<0.682449] yes=5,no=6,missing=5,gain=2.59589,cover=690.11\\n\\t\\t5:leaf=-0.00208894,cover=576.068\\n\\t\\t6:leaf=0.0143621,cover=114.042\\n',\n",
       " '0:[f1<-0.662864] yes=1,no=2,missing=1,gain=2.72117,cover=694.342\\n\\t1:[f0<0.218956] yes=3,no=4,missing=3,gain=6.49041,cover=162.512\\n\\t\\t3:leaf=-0.0387684,cover=55.2193\\n\\t\\t4:leaf=0.00315075,cover=107.293\\n\\t2:[f0<1.65069] yes=5,no=6,missing=5,gain=5.0228,cover=531.83\\n\\t\\t5:leaf=0.0024039,cover=526.123\\n\\t\\t6:leaf=0.089499,cover=5.70742\\n',\n",
       " '0:[f1<1.07662] yes=1,no=2,missing=1,gain=2.55083,cover=692.167\\n\\t1:[f1<-1.48268] yes=3,no=4,missing=3,gain=2.37344,cover=674.804\\n\\t\\t3:leaf=-0.0361553,cover=17.627\\n\\t\\t4:leaf=4.2788e-05,cover=657.177\\n\\t2:[f0<-1.8802] yes=5,no=6,missing=5,gain=2.81779,cover=17.3627\\n\\t\\t5:leaf=-0.0221004,cover=5.17334\\n\\t\\t6:leaf=0.0616051,cover=12.1894\\n',\n",
       " '0:[f1<1.67549] yes=1,no=2,missing=1,gain=2.44916,cover=691.171\\n\\t1:[f0<-2.03178] yes=3,no=4,missing=3,gain=3.37008,cover=687.617\\n\\t\\t3:leaf=-0.054437,cover=10.3682\\n\\t\\t4:leaf=0.000464729,cover=677.249\\n\\t2:leaf=0.0731369,cover=3.55392\\n',\n",
       " '0:[f1<0.164653] yes=1,no=2,missing=1,gain=2.37514,cover=690.681\\n\\t1:[f1<0.157774] yes=3,no=4,missing=3,gain=4.8557,cover=476.372\\n\\t\\t3:leaf=-0.00313652,cover=474.756\\n\\t\\t4:leaf=-0.139774,cover=1.61596\\n\\t2:[f0<0.124181] yes=5,no=6,missing=5,gain=4.45838,cover=214.309\\n\\t\\t5:leaf=0.00351916,cover=190.258\\n\\t\\t6:leaf=0.0484222,cover=24.051\\n',\n",
       " '0:[f1<-2.00086] yes=1,no=2,missing=1,gain=2.23064,cover=689.321\\n\\t1:[f0<1.86737] yes=3,no=4,missing=3,gain=0.983071,cover=4.70789\\n\\t\\t3:leaf=-0.0841905,cover=3.47566\\n\\t\\t4:leaf=0.00968578,cover=1.23223\\n\\t2:[f1<1.67549] yes=5,no=6,missing=5,gain=2.12623,cover=684.613\\n\\t\\t5:leaf=0.000100528,cover=681.25\\n\\t\\t6:leaf=0.0701311,cover=3.36324\\n',\n",
       " '0:[f1<-1.1277] yes=1,no=2,missing=1,gain=2.01416,cover=688.91\\n\\t1:[f1<-1.14332] yes=3,no=4,missing=3,gain=2.78789,cover=51.2428\\n\\t\\t3:leaf=-0.0127396,cover=49.1066\\n\\t\\t4:leaf=-0.110535,cover=2.13619\\n\\t2:[f0<1.46045] yes=5,no=6,missing=5,gain=2.62489,cover=637.668\\n\\t\\t5:leaf=0.000574766,cover=623.718\\n\\t\\t6:leaf=0.0429775,cover=13.9498\\n',\n",
       " '0:[f1<1.15096] yes=1,no=2,missing=1,gain=1.98681,cover=687.999\\n\\t1:[f0<-1.66942] yes=3,no=4,missing=3,gain=2.30277,cover=675.752\\n\\t\\t3:leaf=-0.0317186,cover=22.1742\\n\\t\\t4:leaf=0.000357613,cover=653.577\\n\\t2:[f0<-1.8802] yes=5,no=6,missing=5,gain=2.12363,cover=12.2471\\n\\t\\t5:leaf=-0.0135434,cover=4.63889\\n\\t\\t6:leaf=0.0679104,cover=7.60816\\n',\n",
       " '0:[f1<0.0926449] yes=1,no=2,missing=1,gain=1.95347,cover=687.154\\n\\t1:[f1<0.0832266] yes=3,no=4,missing=3,gain=4.81963,cover=448.898\\n\\t\\t3:leaf=-0.00275798,cover=444.837\\n\\t\\t4:leaf=-0.100912,cover=4.06096\\n\\t2:[f0<0.124181] yes=5,no=6,missing=5,gain=3.94396,cover=238.256\\n\\t\\t5:leaf=0.00256847,cover=210.621\\n\\t\\t6:leaf=0.0421387,cover=27.635\\n',\n",
       " '0:[f1<-2.00086] yes=1,no=2,missing=1,gain=1.92043,cover=685.802\\n\\t1:[f0<1.86737] yes=3,no=4,missing=3,gain=0.936581,cover=4.42332\\n\\t\\t3:leaf=-0.0820224,cover=3.19033\\n\\t\\t4:leaf=0.00998359,cover=1.23299\\n\\t2:[f0<-0.291422] yes=5,no=6,missing=5,gain=2.03752,cover=681.378\\n\\t\\t5:leaf=-0.00570769,cover=298.29\\n\\t\\t6:leaf=0.00529812,cover=383.088\\n',\n",
       " '0:[f0<2.22242] yes=1,no=2,missing=1,gain=1.87145,cover=685.045\\n\\t1:[f1<-1.78805] yes=3,no=4,missing=3,gain=2.59553,cover=679.417\\n\\t\\t3:leaf=-0.0611018,cover=5.99924\\n\\t\\t4:leaf=0.000109483,cover=673.418\\n\\t2:[f0<2.64338] yes=5,no=6,missing=5,gain=0.746761,cover=5.62806\\n\\t\\t5:leaf=0.0758227,cover=3.5187\\n\\t\\t6:leaf=0.00252107,cover=2.10936\\n',\n",
       " '0:[f1<1.67549] yes=1,no=2,missing=1,gain=1.84829,cover=684.599\\n\\t1:[f0<-2.03178] yes=3,no=4,missing=3,gain=2.60871,cover=681.494\\n\\t\\t3:leaf=-0.0489945,cover=9.87329\\n\\t\\t4:leaf=0.000381568,cover=671.62\\n\\t2:[f1<2.09343] yes=5,no=6,missing=5,gain=0.0696127,cover=3.10475\\n\\t\\t5:leaf=0.0787619,cover=1.93225\\n\\t\\t6:leaf=0.0200958,cover=1.1725\\n',\n",
       " '0:[f1<0.561749] yes=1,no=2,missing=1,gain=1.86968,cover=684.201\\n\\t1:[f1<0.532571] yes=3,no=4,missing=3,gain=4.33075,cover=594.808\\n\\t\\t3:leaf=-0.000992661,cover=587.176\\n\\t\\t4:leaf=-0.0723455,cover=7.63196\\n\\t2:[f0<0.111163] yes=5,no=6,missing=5,gain=3.33242,cover=89.3924\\n\\t\\t5:leaf=0.00740777,cover=82.5841\\n\\t\\t6:leaf=0.0759015,cover=6.80829\\n',\n",
       " '0:[f1<-0.472067] yes=1,no=2,missing=1,gain=1.80263,cover=683.531\\n\\t1:[f1<-0.491973] yes=3,no=4,missing=3,gain=9.11103,cover=223.447\\n\\t\\t3:leaf=-0.00336621,cover=216.107\\n\\t\\t4:leaf=-0.109907,cover=7.33992\\n\\t2:[f0<1.06988] yes=5,no=6,missing=5,gain=3.41598,cover=460.085\\n\\t\\t5:leaf=0.00202845,cover=446.523\\n\\t\\t6:leaf=0.0512531,cover=13.5619\\n',\n",
       " '0:[f1<1.67549] yes=1,no=2,missing=1,gain=1.64023,cover=682.559\\n\\t1:[f0<-1.79998] yes=3,no=4,missing=3,gain=2.25207,cover=679.603\\n\\t\\t3:leaf=-0.0356616,cover=16.6151\\n\\t\\t4:leaf=0.000565731,cover=662.988\\n\\t2:[f1<2.09343] yes=5,no=6,missing=5,gain=0.0742101,cover=2.95585\\n\\t\\t5:leaf=0.0761864,cover=1.80941\\n\\t\\t6:leaf=0.0186159,cover=1.14644\\n',\n",
       " '0:[f1<-0.559963] yes=1,no=2,missing=1,gain=1.64973,cover=682.129\\n\\t1:[f0<-0.256306] yes=3,no=4,missing=3,gain=5.6767,cover=192.259\\n\\t\\t3:leaf=-0.047165,cover=29.8166\\n\\t\\t4:leaf=-0.000348778,cover=162.443\\n\\t2:[f0<1.65069] yes=5,no=6,missing=5,gain=2.92706,cover=489.869\\n\\t\\t5:leaf=0.0023275,cover=486.169\\n\\t\\t6:leaf=0.0816313,cover=3.70063\\n',\n",
       " '0:[f1<0.835095] yes=1,no=2,missing=1,gain=1.59241,cover=680.503\\n\\t1:[f1<0.807308] yes=3,no=4,missing=3,gain=6.26432,cover=635.806\\n\\t\\t3:leaf=-0.000428012,cover=632.132\\n\\t\\t4:leaf=-0.116624,cover=3.67408\\n\\t2:[f0<-1.19671] yes=5,no=6,missing=5,gain=6.43583,cover=44.6974\\n\\t\\t5:leaf=-0.025029,cover=19.1664\\n\\t\\t6:leaf=0.0501039,cover=25.531\\n',\n",
       " '0:[f0<2.22242] yes=1,no=2,missing=1,gain=1.56397,cover=679.876\\n\\t1:[f1<-1.78805] yes=3,no=4,missing=3,gain=2.23335,cover=674.527\\n\\t\\t3:leaf=-0.0579279,cover=5.6955\\n\\t\\t4:leaf=0.000114944,cover=668.832\\n\\t2:[f0<2.64338] yes=5,no=6,missing=5,gain=0.69404,cover=5.34841\\n\\t\\t5:leaf=0.0724039,cover=3.27908\\n\\t\\t6:leaf=0.00124882,cover=2.06933\\n',\n",
       " '0:[f1<1.15096] yes=1,no=2,missing=1,gain=1.55313,cover=679.474\\n\\t1:[f0<-0.619493] yes=3,no=4,missing=3,gain=1.6783,cover=668.248\\n\\t\\t3:leaf=-0.00872537,cover=184.579\\n\\t\\t4:leaf=0.00245796,cover=483.669\\n\\t2:[f0<-2.52191] yes=5,no=6,missing=5,gain=1.90321,cover=11.2253\\n\\t\\t5:leaf=-0.0523859,cover=1.30471\\n\\t\\t6:leaf=0.0506039,cover=9.92062\\n',\n",
       " '0:[f1<0.113531] yes=1,no=2,missing=1,gain=1.5066,cover=678.723\\n\\t1:[f0<-1.39743] yes=3,no=4,missing=3,gain=4.47741,cover=452.578\\n\\t\\t3:leaf=-0.0680552,cover=9.44044\\n\\t\\t4:leaf=-0.00179497,cover=443.138\\n\\t2:[f0<0.124181] yes=5,no=6,missing=5,gain=2.34506,cover=226.145\\n\\t\\t5:leaf=0.00308189,cover=202.369\\n\\t\\t6:leaf=0.0356982,cover=23.7757\\n',\n",
       " '0:[f1<-2.00086] yes=1,no=2,missing=1,gain=1.42613,cover=677.127\\n\\t1:[f0<1.86737] yes=3,no=4,missing=3,gain=0.792225,cover=3.87965\\n\\t\\t3:leaf=-0.0773787,cover=2.65743\\n\\t\\t4:leaf=0.00906899,cover=1.22222\\n\\t2:[f0<0.682449] yes=5,no=6,missing=5,gain=1.51039,cover=673.247\\n\\t\\t5:leaf=-0.00170681,cover=563.45\\n\\t\\t6:leaf=0.0110635,cover=109.797\\n',\n",
       " '0:[f1<1.67549] yes=1,no=2,missing=1,gain=1.42351,cover=676.512\\n\\t1:[f0<-2.03178] yes=3,no=4,missing=3,gain=1.83163,cover=673.763\\n\\t\\t3:leaf=-0.0422969,cover=9.25224\\n\\t\\t4:leaf=0.000295285,cover=664.51\\n\\t2:[f1<2.09343] yes=5,no=6,missing=5,gain=0.0692994,cover=2.74949\\n\\t\\t5:leaf=0.0732815,cover=1.6472\\n\\t\\t6:leaf=0.0172962,cover=1.10229\\n',\n",
       " '0:[f1<-0.932407] yes=1,no=2,missing=1,gain=1.42386,cover=676.185\\n\\t1:[f1<-0.970581] yes=3,no=4,missing=3,gain=4.06649,cover=82.4014\\n\\t\\t3:leaf=-0.00484356,cover=75.1269\\n\\t\\t4:leaf=-0.0787926,cover=7.27455\\n\\t2:[f1<-0.924858] yes=5,no=6,missing=5,gain=4.95347,cover=593.783\\n\\t\\t5:leaf=0.144955,cover=1.40451\\n\\t\\t6:leaf=0.00113044,cover=592.379\\n',\n",
       " '0:[f1<0.444064] yes=1,no=2,missing=1,gain=1.36094,cover=675.786\\n\\t1:[f1<0.4316] yes=3,no=4,missing=3,gain=4.0297,cover=560.338\\n\\t\\t3:leaf=-0.00125155,cover=556.604\\n\\t\\t4:leaf=-0.0939096,cover=3.73393\\n\\t2:[f0<-0.527466] yes=5,no=6,missing=5,gain=2.76384,cover=115.449\\n\\t\\t5:leaf=-0.000642804,cover=79.5385\\n\\t\\t6:leaf=0.0324596,cover=35.9103\\n',\n",
       " '0:[f0<2.22242] yes=1,no=2,missing=1,gain=1.33638,cover=674.834\\n\\t1:[f1<-1.23878] yes=3,no=4,missing=3,gain=1.80727,cover=669.674\\n\\t\\t3:leaf=-0.0230282,cover=32.6093\\n\\t\\t4:leaf=0.000763789,cover=637.064\\n\\t2:[f0<2.64338] yes=5,no=6,missing=5,gain=0.63958,cover=5.16046\\n\\t\\t5:leaf=0.0691729,cover=3.10378\\n\\t\\t6:leaf=0.000568918,cover=2.05668\\n',\n",
       " '0:[f1<1.67549] yes=1,no=2,missing=1,gain=1.28036,cover=674.23\\n\\t1:[f0<-2.03178] yes=3,no=4,missing=3,gain=1.55144,cover=671.594\\n\\t\\t3:leaf=-0.0393537,cover=9.02784\\n\\t\\t4:leaf=0.000276151,cover=662.566\\n\\t2:[f1<2.09343] yes=5,no=6,missing=5,gain=0.0699108,cover=2.63676\\n\\t\\t5:leaf=0.0710504,cover=1.55266\\n\\t\\t6:leaf=0.016246,cover=1.0841\\n',\n",
       " '0:[f1<-2.00086] yes=1,no=2,missing=1,gain=1.23747,cover=673.928\\n\\t1:[f0<1.86737] yes=3,no=4,missing=3,gain=0.704758,cover=3.63256\\n\\t\\t3:leaf=-0.0749313,cover=2.41821\\n\\t\\t4:leaf=0.00793848,cover=1.21435\\n\\t2:[f0<0.682449] yes=5,no=6,missing=5,gain=1.32167,cover=670.295\\n\\t\\t5:leaf=-0.00159383,cover=561.321\\n\\t\\t6:leaf=0.0103931,cover=108.974\\n',\n",
       " '0:[f1<-0.146536] yes=1,no=2,missing=1,gain=1.28802,cover=673.362\\n\\t1:[f0<-1.02206] yes=3,no=4,missing=3,gain=5.63314,cover=351.216\\n\\t\\t3:leaf=-0.0623827,cover=14.8805\\n\\t\\t4:leaf=-0.00142901,cover=336.335\\n\\t2:[f1<-0.122911] yes=5,no=6,missing=5,gain=5.28436,cover=322.146\\n\\t\\t5:leaf=0.0716156,cover=10.3411\\n\\t\\t6:leaf=0.00211527,cover=311.805\\n',\n",
       " '0:[f1<1.15096] yes=1,no=2,missing=1,gain=1.20516,cover=672.355\\n\\t1:[f0<2.22242] yes=3,no=4,missing=3,gain=1.16697,cover=661.783\\n\\t\\t3:leaf=-0.000958786,cover=656.794\\n\\t\\t4:leaf=0.0433814,cover=4.9898\\n\\t2:[f0<-2.52191] yes=5,no=6,missing=5,gain=1.64613,cover=10.572\\n\\t\\t5:leaf=-0.0497958,cover=1.27085\\n\\t\\t6:leaf=0.0469165,cover=9.30116\\n',\n",
       " '0:[f1<-1.1277] yes=1,no=2,missing=1,gain=1.15097,cover=671.968\\n\\t1:[f1<-1.14332] yes=3,no=4,missing=3,gain=2.73097,cover=48.6489\\n\\t\\t3:leaf=-0.00848961,cover=46.6296\\n\\t\\t4:leaf=-0.106939,cover=2.01935\\n\\t2:[f0<1.65773] yes=5,no=6,missing=5,gain=1.61269,cover=623.319\\n\\t\\t5:leaf=0.000585062,cover=616.134\\n\\t\\t6:leaf=0.0452694,cover=7.18462\\n',\n",
       " '0:[f1<1.67549] yes=1,no=2,missing=1,gain=1.11528,cover=671.382\\n\\t1:[f0<-2.03178] yes=3,no=4,missing=3,gain=1.3243,cover=668.899\\n\\t\\t3:leaf=-0.0368135,cover=8.78684\\n\\t\\t4:leaf=0.000243072,cover=660.112\\n\\t2:[f1<2.09343] yes=5,no=6,missing=5,gain=0.065253,cover=2.4836\\n\\t\\t5:leaf=0.0681316,cover=1.42905\\n\\t\\t6:leaf=0.0151309,cover=1.05455\\n',\n",
       " '0:[f1<0.310823] yes=1,no=2,missing=1,gain=1.12417,cover=671.107\\n\\t1:[f0<-1.03584] yes=3,no=4,missing=3,gain=1.71776,cover=514.783\\n\\t\\t3:leaf=-0.0226263,cover=37.316\\n\\t\\t4:leaf=-0.000618126,cover=477.467\\n\\t2:[f0<0.373704] yes=5,no=6,missing=5,gain=3.88973,cover=156.323\\n\\t\\t5:leaf=0.00343219,cover=148.001\\n\\t\\t6:leaf=0.070062,cover=8.32281\\n',\n",
       " '0:[f1<-2.00086] yes=1,no=2,missing=1,gain=1.10794,cover=669.796\\n\\t1:[f0<1.86737] yes=3,no=4,missing=3,gain=0.629823,cover=3.44478\\n\\t\\t3:leaf=-0.072895,cover=2.23683\\n\\t\\t4:leaf=0.00671397,cover=1.20795\\n\\t2:[f0<1.47389] yes=5,no=6,missing=5,gain=1.05448,cover=666.351\\n\\t\\t5:leaf=-0.000400857,cover=644.715\\n\\t\\t6:leaf=0.021558,cover=21.6355\\n',\n",
       " '0:[f1<-0.559963] yes=1,no=2,missing=1,gain=1.0705,cover=669.401\\n\\t1:[f0<-0.256306] yes=3,no=4,missing=3,gain=4.31608,cover=187.598\\n\\t\\t3:leaf=-0.0421272,cover=27.6527\\n\\t\\t4:leaf=1.75991e-05,cover=159.946\\n\\t2:[f1<-0.49636] yes=5,no=6,missing=5,gain=2.77001,cover=481.803\\n\\t\\t5:leaf=0.0363273,cover=22.0512\\n\\t\\t6:leaf=0.00080151,cover=459.751\\n',\n",
       " '0:[f1<1.67549] yes=1,no=2,missing=1,gain=1.00707,cover=668.509\\n\\t1:[f0<-1.79998] yes=3,no=4,missing=3,gain=1.1319,cover=666.117\\n\\t\\t3:leaf=-0.0263255,cover=15.2753\\n\\t\\t4:leaf=0.000373549,cover=650.841\\n\\t2:[f1<2.09343] yes=5,no=6,missing=5,gain=0.0655702,cover=2.39266\\n\\t\\t5:leaf=0.0660548,cover=1.35215\\n\\t\\t6:leaf=0.014212,cover=1.0405\\n',\n",
       " '0:[f1<0.68089] yes=1,no=2,missing=1,gain=1.00129,cover=668.213\\n\\t1:[f1<0.6742] yes=3,no=4,missing=3,gain=1.88949,cover=603.709\\n\\t\\t3:leaf=-0.000917346,cover=602.401\\n\\t\\t4:leaf=-0.0915703,cover=1.3082\\n\\t2:[f0<-0.047479] yes=5,no=6,missing=5,gain=5.02713,cover=64.5033\\n\\t\\t5:leaf=0.0017498,cover=57.9909\\n\\t\\t6:leaf=0.0887236,cover=6.51233\\n',\n",
       " '0:[f1<-1.50899] yes=1,no=2,missing=1,gain=0.989961,cover=667.666\\n\\t1:[f0<1.32252] yes=3,no=4,missing=3,gain=2.41465,cover=13.7496\\n\\t\\t3:leaf=-0.0596521,cover=7.70519\\n\\t\\t4:leaf=0.0200933,cover=6.04438\\n\\t2:[f0<2.3038] yes=5,no=6,missing=5,gain=1.35949,cover=653.917\\n\\t\\t5:leaf=0.000285805,cover=652.074\\n\\t\\t6:leaf=0.0695859,cover=1.84319\\n',\n",
       " '0:[f1<-2.00086] yes=1,no=2,missing=1,gain=0.967244,cover=667.164\\n\\t1:[f0<1.86737] yes=3,no=4,missing=3,gain=0.548245,cover=3.22768\\n\\t\\t3:leaf=-0.07049,cover=2.02427\\n\\t\\t4:leaf=0.00528969,cover=1.20341\\n\\t2:[f1<1.07662] yes=5,no=6,missing=5,gain=0.904888,cover=663.937\\n\\t\\t5:leaf=-0.000240493,cover=650.147\\n\\t\\t6:leaf=0.0247741,cover=13.79\\n',\n",
       " '0:[f1<-0.215282] yes=1,no=2,missing=1,gain=0.891188,cover=666.847\\n\\t1:[f0<-1.00578] yes=3,no=4,missing=3,gain=4.43128,cover=321.031\\n\\t\\t3:leaf=-0.0603026,cover=12.2996\\n\\t\\t4:leaf=-0.00134424,cover=308.732\\n\\t2:[f1<-0.205836] yes=5,no=6,missing=5,gain=7.76016,cover=345.816\\n\\t\\t5:leaf=0.118985,cover=4.72496\\n\\t\\t6:leaf=0.00157957,cover=341.091\\n',\n",
       " '0:[f1<-2.00086] yes=1,no=2,missing=1,gain=0.866763,cover=665.939\\n\\t1:[f0<1.86737] yes=3,no=4,missing=3,gain=0.512646,cover=3.09864\\n\\t\\t3:leaf=-0.0687307,cover=1.89594\\n\\t\\t4:leaf=0.00507592,cover=1.2027\\n\\t2:[f0<0.682449] yes=5,no=6,missing=5,gain=0.909431,cover=662.841\\n\\t\\t5:leaf=-0.00133602,cover=555.791\\n\\t\\t6:leaf=0.00868906,cover=107.05\\n',\n",
       " '0:[f1<1.67549] yes=1,no=2,missing=1,gain=0.862368,cover=665.492\\n\\t1:[f0<-2.03178] yes=3,no=4,missing=3,gain=0.986384,cover=663.227\\n\\t\\t3:leaf=-0.0323995,cover=8.4089\\n\\t\\t4:leaf=0.00021034,cover=654.818\\n\\t2:[f1<2.09343] yes=5,no=6,missing=5,gain=0.0769393,cover=2.26537\\n\\t\\t5:leaf=0.0633533,cover=1.25534\\n\\t\\t6:leaf=0.012197,cover=1.01003\\n',\n",
       " '0:[f1<0.0926449] yes=1,no=2,missing=1,gain=0.873078,cover=665.258\\n\\t1:[f1<0.0832266] yes=3,no=4,missing=3,gain=4.17223,cover=436.565\\n\\t\\t3:leaf=-0.00155726,cover=432.537\\n\\t\\t4:leaf=-0.0931843,cover=4.02805\\n\\t2:[f0<0.124181] yes=5,no=6,missing=5,gain=1.83383,cover=228.693\\n\\t\\t5:leaf=0.00191057,cover=205.307\\n\\t\\t6:leaf=0.030928,cover=23.3867\\n',\n",
       " '0:[f1<-1.1277] yes=1,no=2,missing=1,gain=0.801156,cover=664.416\\n\\t1:[f1<-1.14332] yes=3,no=4,missing=3,gain=2.56731,cover=47.2623\\n\\t\\t3:leaf=-0.00641732,cover=45.3484\\n\\t\\t4:leaf=-0.103471,cover=1.91391\\n\\t2:[f0<1.65773] yes=5,no=6,missing=5,gain=1.178,cover=617.154\\n\\t\\t5:leaf=0.000479649,cover=610.552\\n\\t\\t6:leaf=0.0400911,cover=6.60159\\n',\n",
       " '0:[f1<1.67549] yes=1,no=2,missing=1,gain=0.783948,cover=663.942\\n\\t1:[f0<-1.79998] yes=3,no=4,missing=3,gain=0.849653,cover=661.75\\n\\t\\t3:leaf=-0.0231278,cover=14.8452\\n\\t\\t4:leaf=0.000310171,cover=646.905\\n\\t2:[f1<2.09153] yes=5,no=6,missing=5,gain=0.0739276,cover=2.19157\\n\\t\\t5:leaf=0.0614492,cover=1.18978\\n\\t\\t6:leaf=0.0115902,cover=1.00179\\n',\n",
       " '0:[f1<-0.134538] yes=1,no=2,missing=1,gain=0.785163,cover=663.689\\n\\t1:[f0<-1.02206] yes=3,no=4,missing=3,gain=4.92394,cover=351.726\\n\\t\\t3:leaf=-0.0595279,cover=13.8844\\n\\t\\t4:leaf=-0.000755728,cover=337.841\\n\\t2:[f1<-0.122911] yes=5,no=6,missing=5,gain=10.2933,cover=311.964\\n\\t\\t5:leaf=0.140835,cover=4.37505\\n\\t\\t6:leaf=0.00124159,cover=307.589\\n',\n",
       " '0:[f1<1.15096] yes=1,no=2,missing=1,gain=0.768408,cover=662.852\\n\\t1:[f1<-2.00086] yes=3,no=4,missing=3,gain=0.746554,cover=653.169\\n\\t\\t3:leaf=-0.0436607,cover=2.97007\\n\\t\\t4:leaf=-0.000163898,cover=650.199\\n\\t2:[f0<-2.52191] yes=5,no=6,missing=5,gain=1.43983,cover=9.68242\\n\\t\\t5:leaf=-0.0499865,cover=1.20898\\n\\t\\t6:leaf=0.0416618,cover=8.47343\\n',\n",
       " '0:[f0<2.22242] yes=1,no=2,missing=1,gain=0.741041,cover=662.573\\n\\t1:[f0<2.04933] yes=3,no=4,missing=3,gain=1.46843,cover=658.019\\n\\t\\t3:leaf=2.06274e-05,cover=655.835\\n\\t\\t4:leaf=-0.0680582,cover=2.1837\\n\\t2:[f0<2.64338] yes=5,no=6,missing=5,gain=0.671559,cover=4.55403\\n\\t\\t5:leaf=0.0616097,cover=2.65598\\n\\t\\t6:leaf=-0.00801544,cover=1.89805\\n',\n",
       " '0:[f1<1.67549] yes=1,no=2,missing=1,gain=0.692215,cover=662.559\\n\\t1:[f0<-2.03178] yes=3,no=4,missing=3,gain=0.7458,cover=660.473\\n\\t\\t3:leaf=-0.0286405,cover=8.10822\\n\\t\\t4:leaf=0.000173358,cover=652.365\\n\\t2:leaf=0.047251,cover=2.08566\\n',\n",
       " '0:[f1<-0.475652] yes=1,no=2,missing=1,gain=0.691925,cover=662.345\\n\\t1:[f1<-0.491973] yes=3,no=4,missing=3,gain=8.74492,cover=214.794\\n\\t\\t3:leaf=-0.000755601,cover=208.014\\n\\t\\t4:leaf=-0.108742,cover=6.78038\\n\\t2:[f1<-0.451996] yes=5,no=6,missing=5,gain=2.74387,cover=447.551\\n\\t\\t5:leaf=0.0516585,cover=9.9606\\n\\t\\t6:leaf=0.00099867,cover=437.59\\n',\n",
       " '0:[f1<-2.00086] yes=1,no=2,missing=1,gain=0.670727,cover=662.242\\n\\t1:[f0<1.86737] yes=3,no=4,missing=3,gain=0.509352,cover=2.90009\\n\\t\\t3:leaf=-0.0657257,cover=1.69658\\n\\t\\t4:leaf=0.00723371,cover=1.20351\\n\\t2:[f0<0.682449] yes=5,no=6,missing=5,gain=0.7763,cover=659.342\\n\\t\\t5:leaf=-0.00127232,cover=553.057\\n\\t\\t6:leaf=0.00802126,cover=106.285\\n']"
      ]
     },
     "execution_count": 122,
     "metadata": {},
     "output_type": "execute_result"
    }
   ],
   "source": [
    "grid_result.best_estimator_.booster().get_dump(with_stats=True)\n",
    "#booster()\n",
    "#.get_fscore()"
   ]
  },
  {
   "cell_type": "code",
   "execution_count": 115,
   "metadata": {},
   "outputs": [
    {
     "data": {
      "text/plain": [
       "<bound method XGBModel.get_params of XGBClassifier(base_score=0.5, colsample_bylevel=1, colsample_bytree=1,\n",
       "       gamma=0, learning_rate=0.1, max_delta_step=0, max_depth=4,\n",
       "       min_child_weight=1, missing=None, n_estimators=50, nthread=-1,\n",
       "       objective='binary:logistic', reg_alpha=0, reg_lambda=1,\n",
       "       scale_pos_weight=1, seed=0, silent=True, subsample=1)>"
      ]
     },
     "execution_count": 115,
     "metadata": {},
     "output_type": "execute_result"
    }
   ],
   "source": []
  },
  {
   "cell_type": "code",
   "execution_count": 97,
   "metadata": {},
   "outputs": [
    {
     "data": {
      "text/plain": [
       "<matplotlib.axes._subplots.AxesSubplot at 0x1c92142f240>"
      ]
     },
     "execution_count": 97,
     "metadata": {},
     "output_type": "execute_result"
    },
    {
     "data": {
      "image/png": "[encoded data removed]",
      "text/plain": [
       "<matplotlib.figure.Figure at 0x1c92146e668>"
      ]
     },
     "metadata": {},
     "output_type": "display_data"
    }
   ],
   "source": [
    "plot_tree(model2, num_trees=49)"
   ]
  },
  {
   "cell_type": "code",
   "execution_count": 24,
   "metadata": {},
   "outputs": [
    {
     "data": {
      "text/plain": [
       "<matplotlib.axes._subplots.AxesSubplot at 0x1c91ec24dd8>"
      ]
     },
     "execution_count": 24,
     "metadata": {},
     "output_type": "execute_result"
    },
    {
     "data": {
      "image/png": "[encoded data removed]",
      "text/plain": [
       "<matplotlib.figure.Figure at 0x1c91fed08d0>"
      ]
     },
     "metadata": {},
     "output_type": "display_data"
    }
   ],
   "source": [
    "plot_tree(model, num_trees=0, rankdir='LR') "
   ]
  },
  {
   "cell_type": "code",
   "execution_count": 68,
   "metadata": {},
   "outputs": [
    {
     "ename": "NameError",
     "evalue": "name 'xgboost' is not defined",
     "output_type": "error",
     "traceback": [
      "\u001b[1;31m---------------------------------------------------------------------------\u001b[0m",
      "\u001b[1;31mNameError\u001b[0m                                 Traceback (most recent call last)",
      "\u001b[1;32m<ipython-input-68-12273ceb113f>\u001b[0m in \u001b[0;36m<module>\u001b[1;34m()\u001b[0m\n\u001b[0;32m      1\u001b[0m \u001b[1;31m#.grid_scores_\u001b[0m\u001b[1;33m\u001b[0m\u001b[1;33m\u001b[0m\u001b[0m\n\u001b[1;32m----> 2\u001b[1;33m \u001b[0mdir\u001b[0m\u001b[1;33m(\u001b[0m\u001b[0mxgboost\u001b[0m\u001b[1;33m)\u001b[0m\u001b[1;33m\u001b[0m\u001b[0m\n\u001b[0m",
      "\u001b[1;31mNameError\u001b[0m: name 'xgboost' is not defined"
     ]
    }
   ],
   "source": [
    "#.grid_scores_\n",
    "dir(xgboost)"
   ]
  },
  {
   "cell_type": "markdown",
   "metadata": {},
   "source": [
    "# Simulate Data (Logistic Regression)"
   ]
  },
  {
   "cell_type": "code",
   "execution_count": 17,
   "metadata": {
    "collapsed": true
   },
   "outputs": [],
   "source": [
    "## TOY DATA LOGISTIC Regression\n",
    "#> set.seed(666)\n",
    "np.random.seed(seed=233423)\n",
    "x1 = st.norm.rvs(size=10000)           # some continuous variables \n",
    "x2 = st.norm.rvs(size=10000)  \n",
    "z = 1 + 2 *x1 +3 *x2        # linear combination with a bias\n",
    "pr = 1/(1 +np.exp(-z))         # pass through an inv-logit function\n",
    "y = st.binom.rvs(n=1,p=pr, size=10000) #rbinom(1000,1,pr) # bernoulli response variable\n",
    " \n",
    "X=np.column_stack([x1,x2])\n",
    "# standardize the features since regularization requires all features to be on same scale\n",
    "scaler = StandardScaler(copy=True)\n",
    "# we have created a standardization based on the training data\n",
    "X_train = scaler.fit(X).transform(X)\n",
    "y_train = y\n",
    "\n",
    "#now feed it to glm:\n",
    "#df = data.frame(y=y,x1=x1,x2=x2)"
   ]
  },
  {
   "cell_type": "code",
   "execution_count": 18,
   "metadata": {
    "collapsed": true
   },
   "outputs": [],
   "source": [
    "from sklearn.model_selection import train_test_split\n",
    "X_train, X_test, y_train, y_test = train_test_split(scaler.fit(X).transform(X), y, test_size=0.33, random_state=42)"
   ]
  },
  {
   "cell_type": "markdown",
   "metadata": {},
   "source": [
    "# XGBOOST"
   ]
  },
  {
   "cell_type": "code",
   "execution_count": 81,
   "metadata": {
    "collapsed": true
   },
   "outputs": [],
   "source": [
    "model=XGBClassifier()"
   ]
  },
  {
   "cell_type": "code",
   "execution_count": 82,
   "metadata": {
    "collapsed": true
   },
   "outputs": [],
   "source": [
    "learning_rate=[0.0001,0.001,0.01,0.1,0.2,0.3]\n",
    "n_estimators=[50,100,150,200]\n",
    "max_depth=[2,4,6,8]\n",
    "param_grid=dict(learning_rate=learning_rate,max_depth=max_depth,n_estimators=n_estimators)\n",
    "kfold=StratifiedKFold(n_splits=10,shuffle=True,random_state=7)\n",
    "grid_search=GridSearchCV(model,param_grid,scoring='neg_log_loss',n_jobs=-1,cv=kfold)\n",
    "#grid_result=grid_search.fit(X,y)\n",
    "grid_result=grid_search.fit(X_train,y_train)"
   ]
  },
  {
   "cell_type": "code",
   "execution_count": 94,
   "metadata": {
    "collapsed": true
   },
   "outputs": [],
   "source": [
    "#Take forever\n",
    "#cross_val_score(grid_result, X_train, y_train, cv=10 ).mean()"
   ]
  },
  {
   "cell_type": "code",
   "execution_count": 90,
   "metadata": {
    "collapsed": true
   },
   "outputs": [],
   "source": [
    "model2=XGBClassifier()"
   ]
  },
  {
   "cell_type": "code",
   "execution_count": 126,
   "metadata": {},
   "outputs": [
    {
     "data": {
      "text/plain": [
       "XGBClassifier(base_score=0.5, colsample_bylevel=1, colsample_bytree=1,\n",
       "       gamma=0, learning_rate=0.1, max_delta_step=0, max_depth=4,\n",
       "       min_child_weight=1, missing=None, n_estimators=5, nthread=-1,\n",
       "       objective='binary:logistic', reg_alpha=0, reg_lambda=1,\n",
       "       scale_pos_weight=1, seed=0, silent=True, subsample=1)"
      ]
     },
     "execution_count": 126,
     "metadata": {},
     "output_type": "execute_result"
    }
   ],
   "source": [
    "u = model2.set_params( learning_rate= 0.1, max_depth= 4, n_estimators= 5 )\n",
    "u.fit(X_train, y_train)"
   ]
  },
  {
   "cell_type": "code",
   "execution_count": 21,
   "metadata": {},
   "outputs": [
    {
     "name": "stdout",
     "output_type": "stream",
     "text": [
      "[ 0.54491019  0.45508981]\n"
     ]
    },
    {
     "data": {
      "text/plain": [
       "0.85880322977947399"
      ]
     },
     "execution_count": 21,
     "metadata": {},
     "output_type": "execute_result"
    }
   ],
   "source": [
    "print(u.feature_importances_)\n",
    "cross_val_score(u, X_train, y_train, cv=10 ).mean()"
   ]
  },
  {
   "cell_type": "markdown",
   "metadata": {},
   "source": [
    "# Logistic Regression"
   ]
  },
  {
   "cell_type": "markdown",
   "metadata": {},
   "source": [
    "- Logistic Regression Bayesian Inference approach :\n",
    "    - Pymc3 with Theano\n",
    "\n",
    "    Steps:\n",
    "        1. Prepare Data\n",
    "        2. Build Probabilistic Model\n",
    "        3. Condition Model on Data & Find the local maximum a posteriori point given a model (MAP)\n",
    "        4. Sample posterior distribution using MAP as starting points for Indepedent Variables(X's)\n",
    "        5. Generate posterior predictive samples from model given a Samples of posterior distribution."
   ]
  },
  {
   "cell_type": "code",
   "execution_count": 25,
   "metadata": {},
   "outputs": [
    {
     "name": "stderr",
     "output_type": "stream",
     "text": [
      "logp = -3,120.2, ||grad|| = 1.7939: 100%|██████████████████████████████████████████████| 14/14 [00:00<00:00, 17.61it/s]\n"
     ]
    },
    {
     "name": "stdout",
     "output_type": "stream",
     "text": [
      "{'beta': array(2.9168537609096776), 'beta0': array(1.9854704735996134), 'alpha': array(0.9053831851570006)}\n"
     ]
    },
    {
     "name": "stderr",
     "output_type": "stream",
     "text": [
      "logp = -3,120.2, ||grad|| = 1.7939: 100%|██████████████████████████████████████████████| 14/14 [00:00<00:00, 17.85it/s]\n",
      "100%|██████████████████████████████████████████████████████████████████████████████| 1500/1500 [04:24<00:00,  5.66it/s]\n",
      "100%|█████████████████████████████████████████████████████████████████████████████| 1000/1000 [00:01<00:00, 715.00it/s]\n",
      "100%|██████████████████████████████████████████████████████████████████████████████| 500/500 [00:00<00:00, 2703.78it/s]\n"
     ]
    }
   ],
   "source": [
    "# 1 Use theano shared variable so that we can make predictions for new values later\n",
    "log_dose_shared0 = shared(X_train[:, 0])\n",
    "log_dose_shared = shared(X_train[:, 1])\n",
    "\n",
    "# Sample size in each group. The sample size has to be a shared variable too\n",
    "# Each row/observation is a group so n = total in group. 1 if only one per group\n",
    "n_shared = shared(np.ones(len(X_train), dtype=int))\n",
    "\n",
    "# Outcomes/Target\n",
    "deaths = y_train\n",
    "\n",
    "\n",
    "# 2 Build Probabilistic Model\n",
    "with Model() as bioassay_model:\n",
    "\n",
    "    # Priors for unknown model parameters. e.g. Logit-linear model parameters\n",
    "    alpha = Normal('alpha', 0, sd=100)\n",
    "    beta = Normal('beta', 0, sd=100)\n",
    "    beta0 = Normal('beta0', 0, sd=100)\n",
    "\n",
    "    # Expected value of outcome. e.g. link function outcome. Calculate probabilities of Y/Target\n",
    "    theta = invlogit(alpha + beta * log_dose_shared + beta0 * log_dose_shared0 )\n",
    "\n",
    "    # Likelihood (sampling distribution) of observations Data likelihood YTarget\n",
    "    obs_deaths = Binomial('obs_deaths', n=n_shared, p=theta, observed=deaths)\n",
    "\n",
    "    \n",
    "# 3 Finds the local maximum a posteriori point given a model. uses BFGS.\n",
    "from pymc3 import find_MAP\n",
    "# Runs fit to data returns parameters/coefficients\n",
    "map_estimate = find_MAP(model=bioassay_model)\n",
    "print(map_estimate)\n",
    "\n",
    "\n",
    "# 4 Now draw samples from the posterior using the given step methods.\n",
    "with bioassay_model:\n",
    "    \n",
    "    # obtain starting values via MAP\n",
    "    start = find_MAP(model=bioassay_model)\n",
    "    \n",
    "    # instantiate sampler\n",
    "    step = pm.Metropolis()\n",
    "    \n",
    "    # posterior of X's\n",
    "    # draw 1,000 posterior samples of independent variables\n",
    "    bioassay_trace = sample(1000, step=step, start=start)\n",
    "\n",
    "\n",
    "# 5 Generate posterior predictive samples from a model given a trace.\n",
    "from pymc3 import sample_ppc\n",
    "\n",
    "with bioassay_model:\n",
    "    deaths_sim = sample_ppc(bioassay_trace, samples=1000)\n",
    "    \n",
    "# take only last half  of posterior distr. of X's. other half was burn in.\n",
    "tr1 = bioassay_trace[500:]\n",
    "    \n",
    "#PREDICT\n",
    "log_dose_to_predict0 = X_train[:1000,0] #np.random.uniform(-0.8,0.7,size=50)\n",
    "log_dose_to_predict = X_train[:1000,1] #np.random.uniform(-0.8,0.7,size=50)\n",
    "n_predict = n = np.ones(1000, dtype=int)\n",
    "\n",
    "# Changing values here will also change values in the model\n",
    "log_dose_shared0.set_value(log_dose_to_predict0)\n",
    "log_dose_shared.set_value(log_dose_to_predict)\n",
    "n_shared.set_value(n_predict)\n",
    "\n",
    "# Simply running PPC will use the updated values and do prediction\n",
    "ppc = pm.sample_ppc(tr1, model=bioassay_model, samples=500)"
   ]
  },
  {
   "cell_type": "code",
   "execution_count": 26,
   "metadata": {},
   "outputs": [
    {
     "name": "stdout",
     "output_type": "stream",
     "text": [
      "Accuracy: 0.804804\n"
     ]
    }
   ],
   "source": [
    "print( 'Accuracy:',(ppc['obs_deaths']==y[:1000]).mean() )"
   ]
  },
  {
   "cell_type": "code",
   "execution_count": 28,
   "metadata": {},
   "outputs": [
    {
     "name": "stderr",
     "output_type": "stream",
     "text": [
      "100%|██████████████████████████████████████████████████████████████████████████████| 500/500 [00:00<00:00, 4242.90it/s]\n"
     ]
    }
   ],
   "source": [
    "# Changing values here will also change values in the model\n",
    "log_dose_shared0.set_value(np.array([ 0.93622719]))\n",
    "log_dose_shared.set_value(np.array([-1.2161206]))\n",
    "n_shared.set_value(np.array([1]))\n",
    "\n",
    "# Simply running PPC will use the updated values and do prediction\n",
    "ppc = pm.sample_ppc(tr1, model=bioassay_model, samples=500)"
   ]
  },
  {
   "cell_type": "code",
   "execution_count": 29,
   "metadata": {},
   "outputs": [
    {
     "data": {
      "text/plain": [
       "0.99812803417373919"
      ]
     },
     "execution_count": 29,
     "metadata": {},
     "output_type": "execute_result"
    }
   ],
   "source": [
    "logitInv= lambda x: np.exp(x)/(1.0+np.exp(x)) #sigmoid --> returns probability\n",
    "logitInv(0.9053831851570006 + 2.9168537609096776 * 0.08986007 + 1.9854704735996134 * 2.57440271)"
   ]
  },
  {
   "cell_type": "markdown",
   "metadata": {},
   "source": [
    "# Random Forest Classifier"
   ]
  },
  {
   "cell_type": "code",
   "execution_count": 97,
   "metadata": {},
   "outputs": [
    {
     "name": "stdout",
     "output_type": "stream",
     "text": [
      "[ 0.40173059  0.59826941]\n",
      "0.827098030498\n"
     ]
    }
   ],
   "source": [
    "clf = RandomForestClassifier(max_depth=100,max_features='sqrt', random_state=0)\n",
    "clf.fit(X_train, y_train)\n",
    "print(clf.feature_importances_)\n",
    "\n",
    "print( cross_val_score(clf, X_train, y_train, cv=10 ).mean() ) "
   ]
  },
  {
   "cell_type": "code",
   "execution_count": 98,
   "metadata": {},
   "outputs": [
    {
     "name": "stdout",
     "output_type": "stream",
     "text": [
      "[1]\n"
     ]
    },
    {
     "data": {
      "text/plain": [
       "array([[ 0.1,  0.9]])"
      ]
     },
     "execution_count": 98,
     "metadata": {},
     "output_type": "execute_result"
    }
   ],
   "source": [
    "print(clf.predict([[2.57440271,  0.08986007]]))\n",
    "clf.predict_proba([[2.57440271,  0.08986007]])"
   ]
  },
  {
   "cell_type": "markdown",
   "metadata": {},
   "source": [
    "# Logistic Regression - Sklearn"
   ]
  },
  {
   "cell_type": "code",
   "execution_count": 99,
   "metadata": {},
   "outputs": [
    {
     "name": "stdout",
     "output_type": "stream",
     "text": [
      "[[ 1.9741301   2.90014277]]\n",
      "0.857201540002\n"
     ]
    }
   ],
   "source": [
    "#logistic Regression\n",
    "logit = LogisticRegression(fit_intercept=True)\n",
    "\n",
    "# Fit model. Let X_train = matrix of predictors, y_train = matrix of variable.\n",
    "# NOTE: Do not include a column for the intercept when fitting the model.\n",
    "resLogit = logit.fit(X_train, y_train)\n",
    "print(resLogit.coef_)\n",
    "print(cross_val_score(resLogit, X_train, y_train, cv=10 ).mean())"
   ]
  },
  {
   "cell_type": "code",
   "execution_count": 100,
   "metadata": {},
   "outputs": [
    {
     "name": "stdout",
     "output_type": "stream",
     "text": [
      "0.855100739401 0.827098030498 0.857201540002\n"
     ]
    }
   ],
   "source": [
    "print( cross_val_score(u, X_train, y_train, cv=10 ).mean() ,\n",
    "cross_val_score(clf, X_train, y_train, cv=10 ).mean(),\n",
    "cross_val_score(resLogit, X_train, y_train, cv=10 ).mean() )"
   ]
  },
  {
   "cell_type": "code",
   "execution_count": 102,
   "metadata": {},
   "outputs": [
    {
     "data": {
      "image/png": "[encoded data removed]",
      "text/plain": [
       "<matplotlib.figure.Figure at 0x1d6e243f5f8>"
      ]
     },
     "metadata": {},
     "output_type": "display_data"
    }
   ],
   "source": [
    "probs = u.predict_proba(X_train)\n",
    "preds = probs[:,1]\n",
    "fpr, tpr, threshold = metrics.roc_curve(y_train, preds)\n",
    "roc_auc = metrics.auc(fpr, tpr)\n",
    "\n",
    "pforest = clf.predict_proba(X_train)\n",
    "pforest1 = pforest[:,1]\n",
    "fpr1, tpr1, threshold1 = metrics.roc_curve(y_train, pforest1)\n",
    "roc_auc1 = metrics.auc(fpr1, tpr1)\n",
    "\n",
    "plog = logit.predict_proba(X_train)\n",
    "plog1 = plog[:,1]\n",
    "fpr2, tpr2, threshold2 = metrics.roc_curve(y_train, plog1)\n",
    "roc_auc2 = metrics.auc(fpr2, tpr2)\n",
    "\n",
    "# method I: plt\n",
    "#import matplotlib.pyplot as plt\n",
    "pyplot.title('Receiver Operating Characteristic')\n",
    "pyplot.plot(fpr, tpr, 'b', label = 'AUC = %0.2f' % roc_auc)\n",
    "pyplot.plot(fpr1, tpr1, 'g', label = 'AUC_f = %0.2f' % roc_auc1)\n",
    "pyplot.plot(fpr2, tpr2, 'y', label = 'AUC_L = %0.2f' % roc_auc2)\n",
    "pyplot.legend(loc = 'lower right')\n",
    "pyplot.plot([0, 1], [0, 1],'r--')\n",
    "pyplot.xlim([0, 1])\n",
    "pyplot.ylim([0, 1])\n",
    "pyplot.ylabel('True Positive Rate')\n",
    "pyplot.xlabel('False Positive Rate')\n",
    "pyplot.show()"
   ]
  },
  {
   "cell_type": "markdown",
   "metadata": {},
   "source": [
    "# Simulate Data (Random Forest)"
   ]
  },
  {
   "cell_type": "code",
   "execution_count": 37,
   "metadata": {
    "collapsed": true
   },
   "outputs": [],
   "source": [
    "#Toy Data Random Forest data\n",
    "from sklearn.datasets import make_classification\n",
    "\n",
    "X, y = make_classification(n_samples=1000, n_features=4,\n",
    "                            n_informative=2, n_redundant=0,\n",
    "                            random_state=0, shuffle=False)\n",
    "X_train = scaler.fit(X).transform(X)\n",
    "y_train = y"
   ]
  },
  {
   "cell_type": "markdown",
   "metadata": {},
   "source": [
    "# Random Forest"
   ]
  },
  {
   "cell_type": "code",
   "execution_count": 19,
   "metadata": {},
   "outputs": [
    {
     "name": "stdout",
     "output_type": "stream",
     "text": [
      "[ 0.09424372  0.83597175  0.03343739  0.03634714]\n",
      "[ 0.92079208  0.97029703  0.99009901  0.97029703  0.95        0.95\n",
      "  0.92929293  0.92929293  0.93939394  0.8989899 ] 0.944845484548\n"
     ]
    }
   ],
   "source": [
    "clf = RandomForestClassifier(max_depth=100,max_features='sqrt', random_state=0)\n",
    "clf.fit(X_train, y_train)\n",
    "\n",
    "print(clf.feature_importances_)\n",
    "\n",
    "print(cross_val_score(clf, X_train, y_train, cv=10 ),\n",
    "np.abs(cross_val_score(clf, X_train, y_train, cv=10 ).mean()) )"
   ]
  },
  {
   "cell_type": "code",
   "execution_count": 45,
   "metadata": {},
   "outputs": [
    {
     "name": "stdout",
     "output_type": "stream",
     "text": [
      "[0] [[ 1.  0.]]\n"
     ]
    }
   ],
   "source": [
    "print(clf.predict([[-0.57643759, -0.6723759 , -0.23639363,  0.54680607]]) , \n",
    "      clf.predict_proba([[-0.57643759, -0.6723759 , -0.23639363,  0.54680607]]))"
   ]
  },
  {
   "cell_type": "markdown",
   "metadata": {},
   "source": [
    "# Logistic Regression - Sklearn"
   ]
  },
  {
   "cell_type": "code",
   "execution_count": 55,
   "metadata": {
    "scrolled": true
   },
   "outputs": [
    {
     "name": "stdout",
     "output_type": "stream",
     "text": [
      "Coeff:  [[-0.48062427  4.20389638  0.09518497 -0.25831008]]\n",
      "Acc:  [ 0.93069307  0.94059406  0.95049505  0.97029703  0.95        0.96\n",
      "  0.95959596  0.92929293  0.93939394  0.92929293] 0.94596549655\n"
     ]
    }
   ],
   "source": [
    "logit = LogisticRegression(fit_intercept=True)\n",
    "\n",
    "# Fit model. Let X_train = matrix of predictors, y_train = matrix of variable.\n",
    "# NOTE: Do not include a column for the intercept when fitting the model.\n",
    "resLogit = logit.fit(X_train, y_train)\n",
    "print('Coeff: ',resLogit.coef_)\n",
    "print('Acc: ',cross_val_score(resLogit, X_train, y_train, cv=10 )\n",
    "      , np.abs(cross_val_score(resLogit, X_train, y_train, cv=10 ).mean()) )"
   ]
  },
  {
   "cell_type": "markdown",
   "metadata": {},
   "source": [
    "- ## Sklearn vs Statsmodel"
   ]
  },
  {
   "cell_type": "code",
   "execution_count": 62,
   "metadata": {},
   "outputs": [
    {
     "name": "stdout",
     "output_type": "stream",
     "text": [
      "Standard errors:  [ 0.14894159  0.15649742  0.29668446  0.14120487  0.14041639]\n",
      "Coefficients:     [ 0.32993529 -0.57036084  4.54675544  0.1001741  -0.28019433]\n"
     ]
    }
   ],
   "source": [
    "# Initiate logistic regression object\n",
    "logit = LogisticRegression(C=1e9,fit_intercept=True)\n",
    "\n",
    "# Fit model. Let X_train = matrix of predictors, y_train = matrix of variable.\n",
    "# NOTE: Do not include a column for the intercept when fitting the model.\n",
    "resLogit = logit.fit(X_train, y_train)\n",
    "#print(resLogit.intercept_,resLogit.coef_)\n",
    "\n",
    "# Calculate matrix of predicted class probabilities. \n",
    "# Check resLogit.classes_ to make sure that sklearn ordered your classes as expected\n",
    "predProbs = np.matrix(resLogit.predict_proba(X_train))\n",
    "\n",
    "# Design matrix -- add column of 1's at the beginning of your X_train matrix\n",
    "X_design = np.column_stack((np.ones(shape = X_train.shape[0]), X_train))\n",
    "#np.ones(shape = X_train.shape[0])\n",
    "#X_design =X_train\n",
    "\n",
    "# Initiate matrix of 0's, fill diagonal with each predicted observation's variance\n",
    "V = np.matrix(np.zeros(shape = (X_design.shape[0], X_design.shape[0])))\n",
    "np.fill_diagonal(V, np.multiply(predProbs[:,0], predProbs[:,1]).A1)\n",
    "\n",
    "# Covariance matrix\n",
    "covLogit = np.linalg.inv(X_design.T * V * X_design)\n",
    "#print(\"Covariance matrix: \", covLogit)\n",
    "\n",
    "# Standard errors\n",
    "print(\"Standard errors: \", np.sqrt(np.diag(covLogit)) )\n",
    "\n",
    "# Wald statistic (coefficient / s.e.) ^ 2\n",
    "logitParams = np.insert(resLogit.coef_, 0, resLogit.intercept_)\n",
    "print(\"Coefficients:    \",logitParams)\n",
    "#print( \"Wald statistics: \", (logitParams / np.sqrt(np.diag(covLogit))) ** 2)"
   ]
  },
  {
   "cell_type": "markdown",
   "metadata": {},
   "source": [
    "- ## Logistic Regression - statsmodels"
   ]
  },
  {
   "cell_type": "code",
   "execution_count": 57,
   "metadata": {},
   "outputs": [
    {
     "name": "stdout",
     "output_type": "stream",
     "text": [
      "Optimization terminated successfully.\n",
      "         Current function value: 0.184428\n",
      "         Iterations 8\n"
     ]
    },
    {
     "data": {
      "text/html": [
       "<table class=\"simpletable\">\n",
       "<caption>Logit Regression Results</caption>\n",
       "<tr>\n",
       "  <th>Dep. Variable:</th>         <td>y</td>        <th>  No. Observations:  </th>   <td>  1000</td>  \n",
       "</tr>\n",
       "<tr>\n",
       "  <th>Model:</th>               <td>Logit</td>      <th>  Df Residuals:      </th>   <td>   995</td>  \n",
       "</tr>\n",
       "<tr>\n",
       "  <th>Method:</th>               <td>MLE</td>       <th>  Df Model:          </th>   <td>     4</td>  \n",
       "</tr>\n",
       "<tr>\n",
       "  <th>Date:</th>          <td>Sun, 15 Oct 2017</td> <th>  Pseudo R-squ.:     </th>   <td>0.7339</td>  \n",
       "</tr>\n",
       "<tr>\n",
       "  <th>Time:</th>              <td>20:46:42</td>     <th>  Log-Likelihood:    </th>  <td> -184.43</td> \n",
       "</tr>\n",
       "<tr>\n",
       "  <th>converged:</th>           <td>True</td>       <th>  LL-Null:           </th>  <td> -693.12</td> \n",
       "</tr>\n",
       "<tr>\n",
       "  <th> </th>                      <td> </td>        <th>  LLR p-value:       </th> <td>6.125e-219</td>\n",
       "</tr>\n",
       "</table>\n",
       "<table class=\"simpletable\">\n",
       "<tr>\n",
       "    <td></td>       <th>coef</th>     <th>std err</th>      <th>z</th>      <th>P>|z|</th>  <th>[0.025</th>    <th>0.975]</th>  \n",
       "</tr>\n",
       "<tr>\n",
       "  <th>const</th> <td>    0.3300</td> <td>    0.149</td> <td>    2.215</td> <td> 0.027</td> <td>    0.038</td> <td>    0.622</td>\n",
       "</tr>\n",
       "<tr>\n",
       "  <th>x1</th>    <td>   -0.5704</td> <td>    0.156</td> <td>   -3.645</td> <td> 0.000</td> <td>   -0.877</td> <td>   -0.264</td>\n",
       "</tr>\n",
       "<tr>\n",
       "  <th>x2</th>    <td>    4.5468</td> <td>    0.297</td> <td>   15.325</td> <td> 0.000</td> <td>    3.965</td> <td>    5.128</td>\n",
       "</tr>\n",
       "<tr>\n",
       "  <th>x3</th>    <td>    0.1002</td> <td>    0.141</td> <td>    0.710</td> <td> 0.478</td> <td>   -0.177</td> <td>    0.377</td>\n",
       "</tr>\n",
       "<tr>\n",
       "  <th>x4</th>    <td>   -0.2802</td> <td>    0.140</td> <td>   -1.995</td> <td> 0.046</td> <td>   -0.555</td> <td>   -0.005</td>\n",
       "</tr>\n",
       "</table>"
      ],
      "text/plain": [
       "<class 'statsmodels.iolib.summary.Summary'>\n",
       "\"\"\"\n",
       "                           Logit Regression Results                           \n",
       "==============================================================================\n",
       "Dep. Variable:                      y   No. Observations:                 1000\n",
       "Model:                          Logit   Df Residuals:                      995\n",
       "Method:                           MLE   Df Model:                            4\n",
       "Date:                Sun, 15 Oct 2017   Pseudo R-squ.:                  0.7339\n",
       "Time:                        20:46:42   Log-Likelihood:                -184.43\n",
       "converged:                       True   LL-Null:                       -693.12\n",
       "                                        LLR p-value:                6.125e-219\n",
       "==============================================================================\n",
       "                 coef    std err          z      P>|z|      [0.025      0.975]\n",
       "------------------------------------------------------------------------------\n",
       "const          0.3300      0.149      2.215      0.027       0.038       0.622\n",
       "x1            -0.5704      0.156     -3.645      0.000      -0.877      -0.264\n",
       "x2             4.5468      0.297     15.325      0.000       3.965       5.128\n",
       "x3             0.1002      0.141      0.710      0.478      -0.177       0.377\n",
       "x4            -0.2802      0.140     -1.995      0.046      -0.555      -0.005\n",
       "==============================================================================\n",
       "\"\"\""
      ]
     },
     "execution_count": 57,
     "metadata": {},
     "output_type": "execute_result"
    }
   ],
   "source": [
    "import statsmodels.formula.api as sm\n",
    " \n",
    "model = sm.Logit(y_train, X_design)\n",
    " \n",
    "result =model.fit() #model.fit(method='bfgs')\n",
    "result.summary()"
   ]
  },
  {
   "cell_type": "code",
   "execution_count": 58,
   "metadata": {},
   "outputs": [
    {
     "name": "stdout",
     "output_type": "stream",
     "text": [
      "Standard errors:  [ 0.14894159  0.15649742  0.29668446  0.14120487  0.14041639]\n",
      "[0.622, -0.264, 5.128, 0.377, -0.005]\n",
      "[0.33, -0.57, 4.547, 0.1, -0.28]\n",
      "[0.038, -0.877, 3.965, -0.177, -0.555]\n"
     ]
    }
   ],
   "source": [
    "print(\"Standard errors: \", np.sqrt(np.diag(covLogit)) )\n",
    "logitParams = np.insert(resLogit.coef_, 0, resLogit.intercept_)\n",
    "print([round(float(c+(1.96*v)),3) for c,v in zip(logitParams,np.sqrt(np.diag(covLogit)))])\n",
    "print([round(float(x),3) for x in logitParams])\n",
    "print([round(float(c-(1.96*v)),3) for c,v in zip(logitParams,np.sqrt(np.diag(covLogit)))])"
   ]
  },
  {
   "cell_type": "code",
   "execution_count": 59,
   "metadata": {},
   "outputs": [
    {
     "data": {
      "text/plain": [
       "[0.038, -0.877, 3.965, -0.177, -0.555]"
      ]
     },
     "execution_count": 59,
     "metadata": {},
     "output_type": "execute_result"
    }
   ],
   "source": [
    "[round(float(c+1.96*v),3) for c,v in zip(logitParams,np.sqrt(np.diag(covLogit)))]\n",
    "[round(float(c-1.96*v),3) for c,v in zip(logitParams,np.sqrt(np.diag(covLogit)))]"
   ]
  },
  {
   "cell_type": "code",
   "execution_count": 63,
   "metadata": {},
   "outputs": [
    {
     "data": {
      "text/plain": [
       "array([[-1.27953753, -1.07614812,  0.34409454, -0.61389564],\n",
       "       [-2.26261269, -0.89834916,  0.78188638,  0.43062548],\n",
       "       [-0.47128857, -1.13624301, -3.07536742,  0.65616331],\n",
       "       ..., \n",
       "       [ 0.66923396,  0.95782361,  0.94200115, -2.29563862],\n",
       "       [ 0.05359401,  1.25619157, -0.38007636, -0.68146826],\n",
       "       [ 0.76300106,  0.00566496,  0.22060183, -1.97436012]])"
      ]
     },
     "execution_count": 63,
     "metadata": {},
     "output_type": "execute_result"
    }
   ],
   "source": [
    "X_train"
   ]
  },
  {
   "cell_type": "markdown",
   "metadata": {},
   "source": [
    "- Logistic Regression Bayesian Inference approach :\n",
    "    - Pymc3 with Theano"
   ]
  },
  {
   "cell_type": "code",
   "execution_count": 64,
   "metadata": {},
   "outputs": [
    {
     "name": "stderr",
     "output_type": "stream",
     "text": [
      "logp = -212.05, ||grad|| = 0.02526: 100%|█████████████████████████████████████████████| 15/15 [00:00<00:00, 161.76it/s]\n"
     ]
    },
    {
     "name": "stdout",
     "output_type": "stream",
     "text": [
      "{'alpha': array(0.3299516403912339), 'beta2': array(0.10019578934956035), 'beta0': array(-0.5703753341549249), 'beta1': array(4.546782324385807), 'beta3': array(-0.280172519081352)}\n"
     ]
    },
    {
     "name": "stderr",
     "output_type": "stream",
     "text": [
      "logp = -212.05, ||grad|| = 0.02526: 100%|█████████████████████████████████████████████| 15/15 [00:00<00:00, 141.84it/s]\n",
      "100%|██████████████████████████████████████████████████████████████████████████████| 1500/1500 [00:45<00:00, 32.84it/s]\n",
      "100%|█████████████████████████████████████████████████████████████████████████████| 1000/1000 [00:01<00:00, 783.68it/s]\n",
      "100%|██████████████████████████████████████████████████████████████████████████████| 500/500 [00:00<00:00, 2617.66it/s]\n"
     ]
    }
   ],
   "source": [
    "# 1 Use theano shared variable so that we can make predictions for new values later\n",
    "log_dose_shared0 = shared(X_train[:, 0])\n",
    "log_dose_shared1 = shared(X_train[:, 1])\n",
    "log_dose_shared2 = shared(X_train[:, 2])\n",
    "log_dose_shared3 = shared(X_train[:, 3])\n",
    "\n",
    "# Sample size in each group. The sample size has to be a shared variable too\n",
    "# Each row/observation is a group so n = total in group. 1 if only one per group\n",
    "n_shared = shared(np.ones(len(X_train), dtype=int))\n",
    "\n",
    "# Outcomes/Target\n",
    "deaths = y_train\n",
    "\n",
    "\n",
    "# 2 Build Probabilistic Model\n",
    "with Model() as bioassay_model:\n",
    "\n",
    "    # Priors for unknown model parameters. e.g. Logit-linear model parameters\n",
    "    alpha = Normal('alpha', 0, sd=100)\n",
    "    beta0 = Normal('beta0', 0, sd=100)\n",
    "    beta1 = Normal('beta1', 0, sd=100)\n",
    "    beta2 = Normal('beta2', 0, sd=100)\n",
    "    beta3 = Normal('beta3', 0, sd=100)\n",
    "    \n",
    "    # Expected value of outcome. e.g. link function outcome. Calculate probabilities of Y/Target\n",
    "    theta = invlogit(alpha + beta0 * log_dose_shared0 + beta1 * log_dose_shared1\\\n",
    "                     + beta2 * log_dose_shared2 + beta3 * log_dose_shared3 )\n",
    "\n",
    "    # Likelihood (sampling distribution) of observations Data likelihood YTarget\n",
    "    obs_deaths = Binomial('obs_deaths', n=n_shared, p=theta, observed=deaths)\n",
    "\n",
    "    \n",
    "# 3 Finds the local maximum a posteriori point given a model. uses BFGS.\n",
    "from pymc3 import find_MAP\n",
    "# Runs fit to data returns parameters/coefficients\n",
    "map_estimate = find_MAP(model=bioassay_model)\n",
    "print(map_estimate)\n",
    "\n",
    "\n",
    "# 4 Now draw samples from the posterior using the given step methods.\n",
    "with bioassay_model:\n",
    "    \n",
    "    # obtain starting values via MAP\n",
    "    start = find_MAP(model=bioassay_model)\n",
    "    \n",
    "    # instantiate sampler\n",
    "    step = pm.Metropolis()\n",
    "    \n",
    "    # posterior of X's\n",
    "    # draw 1,000 posterior samples of independent variables\n",
    "    bioassay_trace = sample(1000, step=step, start=start)\n",
    "\n",
    "\n",
    "# 5 Generate posterior predictive samples from a model given a trace.\n",
    "from pymc3 import sample_ppc\n",
    "\n",
    "with bioassay_model:\n",
    "    deaths_sim = sample_ppc(bioassay_trace, samples=1000)\n",
    "    \n",
    "# take only last half  of posterior distr. of X's. other half was burn in.\n",
    "tr1 = bioassay_trace[500:]\n",
    "    \n",
    "#PREDICT\n",
    "log_dose_to_predict0 = X_train[:1000,0] #np.random.uniform(-0.8,0.7,size=50)\n",
    "log_dose_to_predict1 = X_train[:1000,1] #np.random.uniform(-0.8,0.7,size=50)\n",
    "log_dose_to_predict2 = X_train[:1000,2] #np.random.uniform(-0.8,0.7,size=50)\n",
    "log_dose_to_predict3 = X_train[:1000,3] #np.random.uniform(-0.8,0.7,size=50)\n",
    "n_predict = n = np.ones(1000, dtype=int)\n",
    "\n",
    "# Changing values here will also change values in the model\n",
    "log_dose_shared0.set_value(log_dose_to_predict0)\n",
    "log_dose_shared1.set_value(log_dose_to_predict1)\n",
    "log_dose_shared2.set_value(log_dose_to_predict2)\n",
    "log_dose_shared3.set_value(log_dose_to_predict3)\n",
    "n_shared.set_value(n_predict)\n",
    "\n",
    "# Simply running PPC will use the updated values and do prediction\n",
    "ppc = pm.sample_ppc(tr1, model=bioassay_model, samples=500)"
   ]
  },
  {
   "cell_type": "code",
   "execution_count": 65,
   "metadata": {},
   "outputs": [
    {
     "name": "stdout",
     "output_type": "stream",
     "text": [
      "Accuracy: 0.902246\n"
     ]
    }
   ],
   "source": [
    "print( 'Accuracy:',(ppc['obs_deaths']==y[:1000]).mean() )"
   ]
  },
  {
   "cell_type": "code",
   "execution_count": 80,
   "metadata": {},
   "outputs": [
    {
     "data": {
      "text/plain": [
       "(array([[-0.57643759, -0.6723759 , -0.23639363,  0.54680607],\n",
       "        [-0.98566996,  1.12344181, -0.35003196, -1.1158904 ]]), array([0, 1]))"
      ]
     },
     "execution_count": 80,
     "metadata": {},
     "output_type": "execute_result"
    }
   ],
   "source": [
    "X_train[249:251],y_train[249:251]"
   ]
  },
  {
   "cell_type": "code",
   "execution_count": 96,
   "metadata": {},
   "outputs": [
    {
     "name": "stderr",
     "output_type": "stream",
     "text": [
      "100%|████████████████████████████████████████████████████████████████████████████| 1000/1000 [00:00<00:00, 3965.11it/s]\n"
     ]
    }
   ],
   "source": [
    "# Changing values here will also change values in the model\n",
    "log_dose_shared0.set_value(np.array([-0.57643759]))\n",
    "log_dose_shared1.set_value(np.array([-0.6723759]))\n",
    "log_dose_shared2.set_value(np.array([-0.23639363]))\n",
    "log_dose_shared3.set_value(np.array([0.54680607]))\n",
    "n_shared.set_value(np.array([1]))\n",
    "\n",
    "# Simply running PPC will use the updated values and do prediction\n",
    "ppc = pm.sample_ppc(tr1, model=bioassay_model, samples=1000)"
   ]
  },
  {
   "cell_type": "code",
   "execution_count": 97,
   "metadata": {},
   "outputs": [
    {
     "data": {
      "text/plain": [
       "0.073999999999999996"
      ]
     },
     "execution_count": 97,
     "metadata": {},
     "output_type": "execute_result"
    }
   ],
   "source": [
    "ppc['obs_deaths'].mean()"
   ]
  },
  {
   "cell_type": "code",
   "execution_count": 98,
   "metadata": {},
   "outputs": [
    {
     "name": "stderr",
     "output_type": "stream",
     "text": [
      "100%|████████████████████████████████████████████████████████████████████████████| 1000/1000 [00:00<00:00, 3934.30it/s]\n"
     ]
    }
   ],
   "source": [
    "# Changing values here will also change values in the model\n",
    "log_dose_shared0.set_value(np.array([-0.98566996]))\n",
    "log_dose_shared1.set_value(np.array([1.12344181]))\n",
    "log_dose_shared2.set_value(np.array([-0.35003196]))\n",
    "log_dose_shared3.set_value(np.array([-1.1158904]))\n",
    "n_shared.set_value(np.array([1]))\n",
    "\n",
    "# Simply running PPC will use the updated values and do prediction\n",
    "ppc = pm.sample_ppc(tr1, model=bioassay_model, samples=1000)"
   ]
  },
  {
   "cell_type": "code",
   "execution_count": 111,
   "metadata": {},
   "outputs": [
    {
     "data": {
      "text/plain": [
       "1.0"
      ]
     },
     "execution_count": 111,
     "metadata": {},
     "output_type": "execute_result"
    }
   ],
   "source": [
    "ppc['obs_deaths'].mean()"
   ]
  },
  {
   "cell_type": "code",
   "execution_count": 103,
   "metadata": {},
   "outputs": [
    {
     "data": {
      "text/plain": [
       "{'alpha': array(0.3299516403912339),\n",
       " 'beta0': array(-0.5703753341549249),\n",
       " 'beta1': array(4.546782324385807),\n",
       " 'beta2': array(0.10019578934956035),\n",
       " 'beta3': array(-0.280172519081352)}"
      ]
     },
     "execution_count": 103,
     "metadata": {},
     "output_type": "execute_result"
    }
   ],
   "source": [
    "map_estimate"
   ]
  },
  {
   "cell_type": "code",
   "execution_count": 108,
   "metadata": {
    "collapsed": true
   },
   "outputs": [],
   "source": [
    "logitInv= lambda x: np.exp(x)/(1.0+np.exp(x)) #sigmoid --> returns probability\n",
    "logitInv(map_estimate['alpha']+map_estimate['beta0']*X_train[249:251][1][0]+\\\n",
    "         map_estimate['beta1']*X_train[249:251][1][1]\\\n",
    "+map_estimate['beta2']*X_train[249:251][1][2]+map_estimate['beta3']*X_train[249:251][1][3])"
   ]
  },
  {
   "cell_type": "code",
   "execution_count": null,
   "metadata": {
    "collapsed": true
   },
   "outputs": [],
   "source": [
    "# import random, math\n",
    "\n",
    "# def k_fold(data, myseed=11109, k=10):\n",
    "#     # Load data\n",
    "#     #data = open(myfile).readlines()\n",
    "\n",
    "#     # Shuffle input\n",
    "#     random.seed=myseed\n",
    "#     random.shuffle(data)\n",
    "\n",
    "#     # Compute partition size given input k\n",
    "#     len_part=int(math.ceil(len(data)/float(k)))\n",
    "\n",
    "#     # Create one partition per fold\n",
    "#     train={}\n",
    "#     test={}\n",
    "#     for ii in range(k):\n",
    "#         test[ii]  = data[ii*len_part:ii*len_part+len_part]\n",
    "#         train[ii] = [jj for jj in data if jj not in test[ii]]\n",
    "\n",
    "#     return train, test \n",
    "\n",
    "# import matplotlib.pyplot as plt\n",
    "# %matplotlib inline\n",
    "\n",
    "# plt.errorbar(x=log_dose_to_predict0[:50], y=np.asarray(ppc['obs_deaths']).mean(axis=0)[:50], yerr=np.asarray(ppc['obs_deaths']).std(axis=0)[:50], linestyle='', marker='o')\n",
    "# plt.plot(X_train[:50, 1], deaths[:50], 'o')\n",
    "# plt.xlabel('log_dose',size=15)s\n",
    "# plt.ylabel('number of rats with tumors',size=15)"
   ]
  },
  {
   "cell_type": "code",
   "execution_count": null,
   "metadata": {
    "collapsed": true
   },
   "outputs": [],
   "source": [
    "# rf = RandomForestRegressor(n_estimators = 100, max_features='sqrt')\n",
    "# rf.fit(X, y)\n",
    "# # feature importances\n",
    "# # the higher, the more important the feature\n",
    "# d = {'importance': rf.feature_importances_}\n",
    "# pd.DataFrame(d, index=X.columns).sort('importance')"
   ]
  }
 ],
 "metadata": {
  "anaconda-cloud": {},
  "kernelspec": {
   "display_name": "Python [default]",
   "language": "python",
   "name": "python3"
  },
  "language_info": {
   "codemirror_mode": {
    "name": "ipython",
    "version": 3
   },
   "file_extension": ".py",
   "mimetype": "text/x-python",
   "name": "python",
   "nbconvert_exporter": "python",
   "pygments_lexer": "ipython3",
   "version": "3.5.4"
  }
 },
 "nbformat": 4,
 "nbformat_minor": 2
}

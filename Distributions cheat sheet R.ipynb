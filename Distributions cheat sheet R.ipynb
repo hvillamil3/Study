{
 "cells": [
  {
   "cell_type": "code",
   "execution_count": 6,
   "metadata": {},
   "outputs": [],
   "source": [
    "library(repr)\n",
    "# Change plot size to 4 x 3\n",
    "options(repr.plot.width=4, repr.plot.height=3)"
   ]
  },
  {
   "cell_type": "markdown",
   "metadata": {},
   "source": [
    "### Poisson (Discrete)"
   ]
  },
  {
   "cell_type": "markdown",
   "metadata": {},
   "source": [
    "##### Density (Probability Mass Function)"
   ]
  },
  {
   "cell_type": "code",
   "execution_count": 175,
   "metadata": {},
   "outputs": [
    {
     "data": {
      "text/html": [
       "0.606530659712633"
      ],
      "text/latex": [
       "0.606530659712633"
      ],
      "text/markdown": [
       "0.606530659712633"
      ],
      "text/plain": [
       "[1] 0.6065307"
      ]
     },
     "metadata": {},
     "output_type": "display_data"
    }
   ],
   "source": [
    ".5^0*exp(-.5)/factorial(0) \n",
    "# Poisson is discrete so P(x) is a formula PMF,\n",
    "# not an integral PDF like a normal distribution.\n",
    "# Poisson is an extreme version of binomial\n",
    "# becomes normal as rate increases"
   ]
  },
  {
   "cell_type": "code",
   "execution_count": 176,
   "metadata": {},
   "outputs": [
    {
     "data": {
      "text/html": [
       "0.606530659712633"
      ],
      "text/latex": [
       "0.606530659712633"
      ],
      "text/markdown": [
       "0.606530659712633"
      ],
      "text/plain": [
       "[1] 0.6065307"
      ]
     },
     "metadata": {},
     "output_type": "display_data"
    }
   ],
   "source": [
    "dpois( x= 0, lambda = .5, log = F) # dpois gives the (log) density\n",
    "# x is quantile for poisson its number of times event happens in time or space.\n",
    "# (Number of flowers in garden, Number of calls in a day). This is dicrete and\n",
    "# so for something that happens 1 every 2 days (.5),\n",
    "# there is a probability of 0.0758 (7.58%) of this event this event occurs twice in 2 days.\n",
    "# the density gives the probabilit here because poisson is a discrete distribution. PMF."
   ]
  },
  {
   "cell_type": "markdown",
   "metadata": {},
   "source": [
    "##### Cumulative Distribution Function"
   ]
  },
  {
   "cell_type": "code",
   "execution_count": 177,
   "metadata": {},
   "outputs": [
    {
     "data": {
      "text/html": [
       "0.998248377443709"
      ],
      "text/latex": [
       "0.998248377443709"
      ],
      "text/markdown": [
       "0.998248377443709"
      ],
      "text/plain": [
       "[1] 0.9982484"
      ]
     },
     "metadata": {},
     "output_type": "display_data"
    }
   ],
   "source": [
    "ppois( q=3, lambda=.5,  log.p = F, lower.tail = T) \n",
    "# ppois gives the (log) distribution function\n",
    "# in this case I think it's the SUM of the density. \n",
    "# But for continous variables or\n",
    "# PDFs life pnorm, CDF would be the integral of the density function(PDF)."
   ]
  },
  {
   "cell_type": "code",
   "execution_count": 178,
   "metadata": {},
   "outputs": [
    {
     "data": {
      "text/html": [
       "0.998248377443709"
      ],
      "text/latex": [
       "0.998248377443709"
      ],
      "text/markdown": [
       "0.998248377443709"
      ],
      "text/plain": [
       "[1] 0.9982484"
      ]
     },
     "metadata": {},
     "output_type": "display_data"
    }
   ],
   "source": [
    "dpois( x= 0, lambda = .5, log = F) +\n",
    "dpois( x= 1, lambda = .5, log = F) + \n",
    "dpois( x= 2, lambda = .5, log = F) +\n",
    "dpois( x= 3, lambda = .5, log = F)"
   ]
  },
  {
   "cell_type": "code",
   "execution_count": 186,
   "metadata": {},
   "outputs": [
    {
     "data": {
      "image/png": "[encoded data removed]",
      "text/plain": [
       "plot without title"
      ]
     },
     "metadata": {},
     "output_type": "display_data"
    }
   ],
   "source": [
    "# R doesn't let you start a vector at 0 so dpois(0) get skiped if\n",
    "# just do j[i]. thats why we did j[i+1]\n",
    "j=vector()\n",
    "n=2.1\n",
    "last_x = 10\n",
    "\n",
    "for(i in 0:last_x) {\n",
    "    # R doesn't let you start a vector at 0 so dpois(0) get skiped if\n",
    "    j[i+1] = dpois(x= i, lambda = n, log = F) \n",
    "}\n",
    "plot(y=j,x=seq(0,last_x,1),\n",
    "     type=\"h\", ylab='Probability', xlab='counts observed')\n",
    "axis(side = 1, at=0:last_x)"
   ]
  },
  {
   "cell_type": "markdown",
   "metadata": {},
   "source": [
    "### Binomial (Discrete)"
   ]
  },
  {
   "cell_type": "markdown",
   "metadata": {},
   "source": [
    "##### Density (Probability Mass Function)"
   ]
  },
  {
   "cell_type": "code",
   "execution_count": 13,
   "metadata": {},
   "outputs": [
    {
     "data": {
      "text/html": [
       "0.0703125"
      ],
      "text/latex": [
       "0.0703125"
      ],
      "text/markdown": [
       "0.0703125"
      ],
      "text/plain": [
       "[1] 0.0703125"
      ]
     },
     "metadata": {},
     "output_type": "display_data"
    }
   ],
   "source": [
    "choose(n = 9,k = 7)*(0.5)^7*(1-0.5)^(9-7) \n",
    "#Binomial is discrete so P(x) is a formula PMF,\n",
    "# not an integral PDF like a normal distribution.\n",
    "# probability of getting 7 heads out of 9 flips\n",
    "# As trials increases binomial becomes normal.\n",
    "# Sum of Bernoulli becomes Binomial."
   ]
  },
  {
   "cell_type": "code",
   "execution_count": 14,
   "metadata": {},
   "outputs": [
    {
     "data": {
      "text/html": [
       "0.0703125"
      ],
      "text/latex": [
       "0.0703125"
      ],
      "text/markdown": [
       "0.0703125"
      ],
      "text/plain": [
       "[1] 0.0703125"
      ]
     },
     "metadata": {},
     "output_type": "display_data"
    }
   ],
   "source": [
    "### Binomial distribution\n",
    "dbinom(x = 7, size = 9 , prob = 0.5, log = FALSE) # dbinom gives the density.\n",
    "#nCx*p^x*(1-p)^(n-x)"
   ]
  },
  {
   "cell_type": "markdown",
   "metadata": {},
   "source": [
    "##### Cumulative Distribution Function"
   ]
  },
  {
   "cell_type": "code",
   "execution_count": 15,
   "metadata": {},
   "outputs": [
    {
     "data": {
      "text/html": [
       "0.14453125"
      ],
      "text/latex": [
       "0.14453125"
      ],
      "text/markdown": [
       "0.14453125"
      ],
      "text/plain": [
       "[1] 0.1445313"
      ]
     },
     "metadata": {},
     "output_type": "display_data"
    }
   ],
   "source": [
    "pbinom( q=2, size=8, prob=.5, log.p = F, lower.tail = T) # ppois gives the distribution function\n",
    "# in this case I think it's the SUM of the density. But for continous variables or\n",
    "# PDFs pnorm would be the integral of the density function(PDF)."
   ]
  },
  {
   "cell_type": "code",
   "execution_count": 16,
   "metadata": {},
   "outputs": [
    {
     "data": {
      "text/html": [
       "0.14453125"
      ],
      "text/latex": [
       "0.14453125"
      ],
      "text/markdown": [
       "0.14453125"
      ],
      "text/plain": [
       "[1] 0.1445313"
      ]
     },
     "metadata": {},
     "output_type": "display_data"
    }
   ],
   "source": [
    "dbinom( x = 0, size = 8 , prob = 0.5, log = FALSE) +\n",
    "dbinom( x = 1, size = 8 , prob = 0.5, log = FALSE) + \n",
    "dbinom( x = 2, size = 8 , prob = 0.5, log = FALSE)"
   ]
  },
  {
   "cell_type": "code",
   "execution_count": 187,
   "metadata": {},
   "outputs": [
    {
     "data": {
      "image/png": "[encoded data removed]",
      "text/plain": [
       "Plot with title \"10 trials of 8 attempts\""
      ]
     },
     "metadata": {},
     "output_type": "display_data"
    }
   ],
   "source": [
    "# R doesn't let you start a vector at 0 so dpois(0) get skiped if\n",
    "# just do j[i]. thats why we did j[i+1]\n",
    "j=vector()\n",
    "n=.5\n",
    "last_x = 10 # 10 trials of 8 trials each.\n",
    "m=8\n",
    "for(i in 0:last_x) {\n",
    "    j[i+1] = dbinom(i,size=m, prob=n)\n",
    "}\n",
    "plot(y=j,x=seq(0,last_x,1), type=\"h\", ylab='Probability',\n",
    "     xlab='counts observed',\n",
    "     main ='10 trials of 8 attempts')\n",
    "axis(side = 1, at=0:last_x)"
   ]
  },
  {
   "cell_type": "markdown",
   "metadata": {},
   "source": [
    "### Normal (Continous)"
   ]
  },
  {
   "cell_type": "markdown",
   "metadata": {},
   "source": [
    "##### Density (Probability Density Formula)"
   ]
  },
  {
   "cell_type": "code",
   "execution_count": 18,
   "metadata": {},
   "outputs": [
    {
     "data": {
      "text/html": [
       "0.00336950802067748"
      ],
      "text/latex": [
       "0.00336950802067748"
      ],
      "text/markdown": [
       "0.00336950802067748"
      ],
      "text/plain": [
       "[1] 0.003369508"
      ]
     },
     "metadata": {},
     "output_type": "display_data"
    }
   ],
   "source": [
    "mu = 0\n",
    "sd = 1\n",
    "x = 3.09# observation or measurement\n",
    "(1/sqrt(2*pi*sd^2))*exp(-(((x-mu)^2)/(2*sd^2)))\n",
    "#normal is continous so this is a PDF,\n",
    "# not a PMF like a binomial distribution and not a p(x)."
   ]
  },
  {
   "cell_type": "code",
   "execution_count": 19,
   "metadata": {},
   "outputs": [
    {
     "data": {
      "text/html": [
       "0.00336950802067748"
      ],
      "text/latex": [
       "0.00336950802067748"
      ],
      "text/markdown": [
       "0.00336950802067748"
      ],
      "text/plain": [
       "[1] 0.003369508"
      ]
     },
     "metadata": {},
     "output_type": "display_data"
    }
   ],
   "source": [
    "### Normal distribution\n",
    "dnorm(x = 3.09, mean = 0 , sd = 1, log = FALSE) # dnorm gives the density.\n",
    "#(1/sqrt(2*pi*sd))*e(-(x-mu)^2/(2*sd^2))"
   ]
  },
  {
   "cell_type": "markdown",
   "metadata": {},
   "source": [
    "##### Cumulative Distribution Function"
   ]
  },
  {
   "cell_type": "code",
   "execution_count": 20,
   "metadata": {},
   "outputs": [
    {
     "data": {
      "text/html": [
       "0.00804942817902103"
      ],
      "text/latex": [
       "0.00804942817902103"
      ],
      "text/markdown": [
       "0.00804942817902103"
      ],
      "text/plain": [
       "[1] 0.008049428"
      ]
     },
     "metadata": {},
     "output_type": "display_data"
    }
   ],
   "source": [
    "pnorm( q=1.09, mean=4.7, sd=1.5, log.p = F, lower.tail = T) \n",
    "# pnorm gives \n",
    "# the distribution function\n",
    "# PDFs pnorm gives the integral of the density function(PDF). NOT Sum like PMF binom,piosson"
   ]
  },
  {
   "cell_type": "code",
   "execution_count": 23,
   "metadata": {},
   "outputs": [
    {
     "data": {
      "text/html": [
       "0.00804942820688331"
      ],
      "text/latex": [
       "0.00804942820688331"
      ],
      "text/markdown": [
       "0.00804942820688331"
      ],
      "text/plain": [
       "[1] 0.008049428"
      ]
     },
     "metadata": {},
     "output_type": "display_data"
    }
   ],
   "source": [
    "exp_pdf <- function(x,mu,sd) {\n",
    "(1/sqrt(2*pi*sd^2))*exp(-(((x-mu)^2)/(2*sd^2)))\n",
    "}\n",
    "cdf<-integrate(exp_pdf, lower = -Inf, upper = 1.09, mu=4.7, sd=1.5 )\n",
    "cdf$value"
   ]
  },
  {
   "cell_type": "code",
   "execution_count": 33,
   "metadata": {},
   "outputs": [
    {
     "data": {
      "image/png": "[encoded data removed]",
      "text/plain": [
       "Plot with title \"Norm\""
      ]
     },
     "metadata": {},
     "output_type": "display_data"
    }
   ],
   "source": [
    "# R doesn't let you start a vector at 0 so dpois(0) get skiped if\n",
    "# just do j[i]. thats why we did j[i+1]\n",
    "j=vector()\n",
    "last_x = 20\n",
    "for(i in 0:last_x) {\n",
    "    j[i+1] = dnorm(x = i-10, mean = 0 , sd = 1, log = FALSE)\n",
    "}\n",
    "plot(y=j,x=seq(0,last_x,1), type=\"l\", ylab='Density',\n",
    "     xlab='observed values',\n",
    "     main ='Norm')\n",
    "axis(side = 1, at=0:last_x)"
   ]
  },
  {
   "cell_type": "markdown",
   "metadata": {},
   "source": [
    "### Exponential (Continous)"
   ]
  },
  {
   "cell_type": "markdown",
   "metadata": {},
   "source": [
    "##### Density (Probability Density Formula)"
   ]
  },
  {
   "cell_type": "code",
   "execution_count": 133,
   "metadata": {},
   "outputs": [
    {
     "data": {
      "text/html": [
       "0.0146525111109873"
      ],
      "text/latex": [
       "0.0146525111109873"
      ],
      "text/markdown": [
       "0.0146525111109873"
      ],
      "text/plain": [
       "[1] 0.01465251"
      ]
     },
     "metadata": {},
     "output_type": "display_data"
    }
   ],
   "source": [
    "rate = .8\n",
    "x = 5\n",
    "rate*exp(-rate*x)\n",
    "# Time between events.\n",
    "# specifically events that occur at a poisson distribution"
   ]
  },
  {
   "cell_type": "code",
   "execution_count": 140,
   "metadata": {},
   "outputs": [
    {
     "data": {
      "text/html": [
       "0.0146525111109873"
      ],
      "text/latex": [
       "0.0146525111109873"
      ],
      "text/markdown": [
       "0.0146525111109873"
      ],
      "text/plain": [
       "[1] 0.01465251"
      ]
     },
     "metadata": {},
     "output_type": "display_data"
    }
   ],
   "source": [
    "dexp(x=5, rate = 0.8, log = FALSE)"
   ]
  },
  {
   "cell_type": "markdown",
   "metadata": {},
   "source": [
    "##### Cumulative Distribution Function"
   ]
  },
  {
   "cell_type": "code",
   "execution_count": 135,
   "metadata": {},
   "outputs": [
    {
     "data": {
      "text/html": [
       "0.22313016014843"
      ],
      "text/latex": [
       "0.22313016014843"
      ],
      "text/markdown": [
       "0.22313016014843"
      ],
      "text/plain": [
       "[1] 0.2231302"
      ]
     },
     "metadata": {},
     "output_type": "display_data"
    }
   ],
   "source": [
    "pexp(q= 3, rate = .5 , lower.tail = F, log.p = FALSE)\n",
    "# What is the probability that the bouncer\n",
    "# has to wait MORE THAN 3 minutes to card the next student?\n",
    "# Students arrive in Poisson process at\n",
    "# a mean rate of 30 students per hour.\n",
    "# rate = 30 students / 1 hour = 0.5\n",
    "# P(x>3) = 0.223 more than 3 minutes"
   ]
  },
  {
   "cell_type": "code",
   "execution_count": 136,
   "metadata": {},
   "outputs": [
    {
     "data": {
      "text/html": [
       "0.22313016014843"
      ],
      "text/latex": [
       "0.22313016014843"
      ],
      "text/markdown": [
       "0.22313016014843"
      ],
      "text/plain": [
       "[1] 0.2231302"
      ]
     },
     "metadata": {},
     "output_type": "display_data"
    }
   ],
   "source": [
    "exp_pdf <- function(x) {.5*exp(-.5*x)}\n",
    "c<-integrate(exp_pdf, lower = 0, upper = 3)\n",
    "1-c$value"
   ]
  },
  {
   "cell_type": "code",
   "execution_count": 138,
   "metadata": {},
   "outputs": [
    {
     "data": {
      "image/png": "[encoded data removed]",
      "text/plain": [
       "Plot with title \"Exponential\""
      ]
     },
     "metadata": {},
     "output_type": "display_data"
    }
   ],
   "source": [
    "# R doesn't let you start a vector at 0 so dpois(0) get skiped if\n",
    "# just do j[i]. thats why we did j[i+1]\n",
    "j=vector()\n",
    "last_x = x + 2\n",
    "for(i in 0:last_x) {\n",
    "    j[i+1] = dexp(x=i, rate = 0.8, log = FALSE)\n",
    "}\n",
    "plot(y=j,x=seq(0,last_x,1), type=\"l\", ylab='Density',\n",
    "     xlab='observed values',\n",
    "     main ='Exponential')\n",
    "axis(side = 1, at=0:last_x)"
   ]
  },
  {
   "cell_type": "markdown",
   "metadata": {},
   "source": [
    "### Uniform (Continous & Discrete)"
   ]
  },
  {
   "cell_type": "markdown",
   "metadata": {},
   "source": [
    "##### Density (Probability Density Formula)"
   ]
  },
  {
   "cell_type": "code",
   "execution_count": 41,
   "metadata": {},
   "outputs": [],
   "source": [
    "# Uniform can be discrete like dice rolls. Also,\n",
    "# Uniform can be continous like when assigning patients\n",
    "# to experiment control group.\n",
    "# -- for example if we want to split 20 ppl in 2 groups randomnly, then\n",
    "# -- generate runif(20 numbers), sort then first 10 is one \n",
    "# -- group and rest the other.DONE!"
   ]
  },
  {
   "cell_type": "code",
   "execution_count": 42,
   "metadata": {},
   "outputs": [
    {
     "data": {
      "text/html": [
       "0.2"
      ],
      "text/latex": [
       "0.2"
      ],
      "text/markdown": [
       "0.2"
      ],
      "text/plain": [
       "[1] 0.2"
      ]
     },
     "metadata": {},
     "output_type": "display_data"
    }
   ],
   "source": [
    "# Continuous uniform distribution\n",
    "# PDF\n",
    "max = 6\n",
    "min = 1\n",
    "1/(max - min) "
   ]
  },
  {
   "cell_type": "code",
   "execution_count": 43,
   "metadata": {},
   "outputs": [
    {
     "data": {
      "text/html": [
       "0.2"
      ],
      "text/latex": [
       "0.2"
      ],
      "text/markdown": [
       "0.2"
      ],
      "text/plain": [
       "[1] 0.2"
      ]
     },
     "metadata": {},
     "output_type": "display_data"
    }
   ],
   "source": [
    "dunif(x=3, min=1, max=6, log=FALSE)"
   ]
  },
  {
   "cell_type": "markdown",
   "metadata": {},
   "source": [
    "##### Cumulative Distribution Function PDF"
   ]
  },
  {
   "cell_type": "code",
   "execution_count": 44,
   "metadata": {},
   "outputs": [
    {
     "data": {
      "text/html": [
       "0.6"
      ],
      "text/latex": [
       "0.6"
      ],
      "text/markdown": [
       "0.6"
      ],
      "text/plain": [
       "[1] 0.6"
      ]
     },
     "metadata": {},
     "output_type": "display_data"
    }
   ],
   "source": [
    "punif(q=4, min=1, max=6, lower.tail=T, log.p=F)"
   ]
  },
  {
   "cell_type": "code",
   "execution_count": 63,
   "metadata": {},
   "outputs": [
    {
     "data": {
      "text/html": [
       "0.6"
      ],
      "text/latex": [
       "0.6"
      ],
      "text/markdown": [
       "0.6"
      ],
      "text/plain": [
       "[1] 0.6"
      ]
     },
     "metadata": {},
     "output_type": "display_data"
    }
   ],
   "source": [
    "dunif(x=1, min=1, max=6, log=FALSE) +\n",
    "dunif(x=2, min=1, max=6, log=FALSE) +\n",
    "dunif(x=3, min=1, max=6, log=FALSE)\n",
    "# Less than 4"
   ]
  },
  {
   "cell_type": "markdown",
   "metadata": {},
   "source": [
    "##### (Discrete) Density PMF"
   ]
  },
  {
   "cell_type": "code",
   "execution_count": 67,
   "metadata": {},
   "outputs": [
    {
     "data": {
      "text/html": [
       "0.166666666666667"
      ],
      "text/latex": [
       "0.166666666666667"
      ],
      "text/markdown": [
       "0.166666666666667"
      ],
      "text/plain": [
       "[1] 0.1666667"
      ]
     },
     "metadata": {},
     "output_type": "display_data"
    }
   ],
   "source": [
    "min = 1\n",
    "max = 6\n",
    "ddu<-function(min,max) ifelse(min>=1 & min<=max & round(min)==min,1/max,0) \n",
    "ddu(min,max)"
   ]
  },
  {
   "cell_type": "code",
   "execution_count": 65,
   "metadata": {},
   "outputs": [
    {
     "data": {
      "text/html": [
       "0.666666666666667"
      ],
      "text/latex": [
       "0.666666666666667"
      ],
      "text/markdown": [
       "0.666666666666667"
      ],
      "text/plain": [
       "[1] 0.6666667"
      ]
     },
     "metadata": {},
     "output_type": "display_data"
    }
   ],
   "source": [
    "ddu(1,6) +\n",
    "ddu(2,6) +\n",
    "ddu(3,6) +\n",
    "ddu(4,6)"
   ]
  },
  {
   "cell_type": "markdown",
   "metadata": {},
   "source": [
    "##### Cumulative Distribution Function PMF"
   ]
  },
  {
   "cell_type": "code",
   "execution_count": 66,
   "metadata": {},
   "outputs": [
    {
     "data": {
      "text/html": [
       "0.5"
      ],
      "text/latex": [
       "0.5"
      ],
      "text/markdown": [
       "0.5"
      ],
      "text/plain": [
       "[1] 0.5"
      ]
     },
     "metadata": {},
     "output_type": "display_data"
    }
   ],
   "source": [
    "pdu<-function(x,min,max) ifelse(x<min,0,\n",
    "                                ifelse(x<=max,(x-min+1)/(max-min+1),1))\n",
    "pdu(4,3,6)"
   ]
  },
  {
   "cell_type": "code",
   "execution_count": 68,
   "metadata": {},
   "outputs": [
    {
     "data": {
      "image/png": "[encoded data removed]",
      "text/plain": [
       "Plot with title \"Norm\""
      ]
     },
     "metadata": {},
     "output_type": "display_data"
    }
   ],
   "source": [
    "# R doesn't let you start a vector at 0 so dpois(0) get skiped if\n",
    "# just do j[i]. thats why we did j[i+1]\n",
    "j=vector()\n",
    "last_x = max+2\n",
    "for(i in 0:last_x) {\n",
    "    j[i+1] = ddu(i,max)\n",
    "}\n",
    "plot(y=j,x=seq(0,last_x,1), type=\"l\", ylab='Density',\n",
    "     xlab='observed values',\n",
    "     main ='Norm')\n",
    "axis(side = 1, at=0:last_x)"
   ]
  },
  {
   "cell_type": "markdown",
   "metadata": {},
   "source": [
    "### Bernoulli (Discrete)"
   ]
  },
  {
   "cell_type": "markdown",
   "metadata": {},
   "source": [
    "##### Density (Probability Mass Function)"
   ]
  },
  {
   "cell_type": "code",
   "execution_count": 70,
   "metadata": {},
   "outputs": [
    {
     "data": {
      "text/html": [
       "0.6"
      ],
      "text/latex": [
       "0.6"
      ],
      "text/markdown": [
       "0.6"
      ],
      "text/plain": [
       "[1] 0.6"
      ]
     },
     "metadata": {},
     "output_type": "display_data"
    }
   ],
   "source": [
    "x = 1\n",
    "p = 0.6\n",
    "(p)**x*(1-p)**(1-x)"
   ]
  },
  {
   "cell_type": "code",
   "execution_count": 71,
   "metadata": {},
   "outputs": [
    {
     "data": {
      "text/html": [
       "0.6"
      ],
      "text/latex": [
       "0.6"
      ],
      "text/markdown": [
       "0.6"
      ],
      "text/plain": [
       "[1] 0.6"
      ]
     },
     "metadata": {},
     "output_type": "display_data"
    }
   ],
   "source": [
    "# Bernoulli is a discrete distribution like\n",
    "# binomial but only has 1 trial. x can only be 1 or 0\n",
    "dbinom(x=x,size=1, prob=p, log=FALSE)"
   ]
  },
  {
   "cell_type": "markdown",
   "metadata": {},
   "source": [
    "##### Cumulative Distribution Function"
   ]
  },
  {
   "cell_type": "code",
   "execution_count": null,
   "metadata": {},
   "outputs": [],
   "source": [
    "# Since x can only be 1 or 0 CDF is 0 or 1 or 1-p. \n",
    "# 0 if x<0\n",
    "# 1 if x>1\n",
    "# 1-p if x <=0 and < 1."
   ]
  },
  {
   "cell_type": "markdown",
   "metadata": {},
   "source": [
    "### Hypergeometric (Discrete)"
   ]
  },
  {
   "cell_type": "markdown",
   "metadata": {},
   "source": [
    "##### Density (Probability Mass Function)"
   ]
  },
  {
   "cell_type": "code",
   "execution_count": 85,
   "metadata": {},
   "outputs": [
    {
     "data": {
      "text/html": [
       "0.220959595959596"
      ],
      "text/latex": [
       "0.220959595959596"
      ],
      "text/markdown": [
       "0.220959595959596"
      ],
      "text/plain": [
       "[1] 0.2209596"
      ]
     },
     "metadata": {},
     "output_type": "display_data"
    }
   ],
   "source": [
    "# Similar to Binomial (with replacement)\n",
    "# Hypergeometric (without replacement) \n",
    "# As Hypergeo grows gets similar to Binom then normal.\n",
    "# p(x)=choose(m, x)*choose(pop-tot_s, k-x)/choose(pop, k)\n",
    "T_pop = 12 # Total population (successes included)\n",
    "T_s = 7 # Total number Successes states in pop.\n",
    "N_d = 5 # Number of Draws (some succ some not)\n",
    "O_s = 4 # Number of observed Successes\n",
    "# P(O_s) Probability of O_s.... \n",
    "# ... ways_to_succ * ways_not_to_succ / total ways \n",
    "(\n",
    "choose(n = T_s,k = O_s)*\n",
    "choose(n = (T_pop-T_s),k = (N_d-O_s)) / choose(n = T_pop,k = N_d)\n",
    ")"
   ]
  },
  {
   "cell_type": "code",
   "execution_count": 73,
   "metadata": {},
   "outputs": [
    {
     "data": {
      "text/html": [
       "0.220959595959596"
      ],
      "text/latex": [
       "0.220959595959596"
      ],
      "text/markdown": [
       "0.220959595959596"
      ],
      "text/plain": [
       "[1] 0.2209596"
      ]
     },
     "metadata": {},
     "output_type": "display_data"
    }
   ],
   "source": [
    "dhyper(x = O_s, m = T_s, n = (T_pop-T_s),k = N_d, log = F)"
   ]
  },
  {
   "cell_type": "code",
   "execution_count": 74,
   "metadata": {},
   "outputs": [
    {
     "data": {
      "text/html": [
       "0.228476230142203"
      ],
      "text/latex": [
       "0.228476230142203"
      ],
      "text/markdown": [
       "0.228476230142203"
      ],
      "text/plain": [
       "[1] 0.2284762"
      ]
     },
     "metadata": {},
     "output_type": "display_data"
    }
   ],
   "source": [
    "dbinom(x = O_s, size = N_d, prob = O_s/T_s, log = F)"
   ]
  },
  {
   "cell_type": "markdown",
   "metadata": {},
   "source": [
    "##### Cumulative Distribution Function"
   ]
  },
  {
   "cell_type": "code",
   "execution_count": 75,
   "metadata": {},
   "outputs": [
    {
     "data": {
      "text/html": [
       "0.973484848484848"
      ],
      "text/latex": [
       "0.973484848484848"
      ],
      "text/markdown": [
       "0.973484848484848"
      ],
      "text/plain": [
       "[1] 0.9734848"
      ]
     },
     "metadata": {},
     "output_type": "display_data"
    }
   ],
   "source": [
    "# Probability drawing less than 4\n",
    "phyper(q = O_s,m = T_s,n = (T_pop-T_s),k = N_d,lower.tail = T, log.p = F)"
   ]
  },
  {
   "cell_type": "code",
   "execution_count": 76,
   "metadata": {},
   "outputs": [
    {
     "data": {
      "text/html": [
       "0.973484848484849"
      ],
      "text/latex": [
       "0.973484848484849"
      ],
      "text/markdown": [
       "0.973484848484849"
      ],
      "text/plain": [
       "[1] 0.9734848"
      ]
     },
     "metadata": {},
     "output_type": "display_data"
    }
   ],
   "source": [
    "dhyper(x = 0, m = T_s, n = (T_pop-T_s),k = N_d,log = F)+\n",
    "dhyper(x = 1, m = T_s, n = (T_pop-T_s),k = N_d,log = F)+\n",
    "dhyper(x = 2, m = T_s, n = (T_pop-T_s),k = N_d,log = F)+\n",
    "dhyper(x = 3, m = T_s, n = (T_pop-T_s),k = N_d,log = F)+\n",
    "dhyper(x = O_s, m = T_s, n = (T_pop-T_s),k = N_d,log = F)"
   ]
  },
  {
   "cell_type": "code",
   "execution_count": 172,
   "metadata": {},
   "outputs": [
    {
     "data": {
      "image/png": "[encoded data removed]",
      "text/plain": [
       "Plot with title \"Hypergeometric\""
      ]
     },
     "metadata": {},
     "output_type": "display_data"
    }
   ],
   "source": [
    "# R doesn't let you start a vector at 0 so dpois(0) get skiped if\n",
    "# just do j[i]. thats why we did j[i+1]\n",
    "j=vector()\n",
    "last_x = O_s+2\n",
    "for(i in 0:last_x) {\n",
    "    j[i+1] = dhyper(x = i, m = T_s, n = (T_pop-T_s),k = N_d,log = F)\n",
    "}\n",
    "plot(y=j,x=seq(0,last_x,1), type=\"h\", ylab='Probability',\n",
    "     xlab='observed values',\n",
    "     main ='Hypergeometric')\n",
    "axis(side = 1, at=0:last_x)"
   ]
  },
  {
   "cell_type": "markdown",
   "metadata": {},
   "source": [
    "### Chi-Squared (Continous)"
   ]
  },
  {
   "cell_type": "markdown",
   "metadata": {},
   "source": [
    "##### Density (Probability Density Function)"
   ]
  },
  {
   "cell_type": "code",
   "execution_count": 86,
   "metadata": {},
   "outputs": [
    {
     "data": {
      "text/html": [
       "0.115180728561468"
      ],
      "text/latex": [
       "0.115180728561468"
      ],
      "text/markdown": [
       "0.115180728561468"
      ],
      "text/plain": [
       "[1] 0.1151807"
      ]
     },
     "metadata": {},
     "output_type": "display_data"
    }
   ],
   "source": [
    "# The simplest chi-squared distribution is\n",
    "# the square of a standard normal distribution.\n",
    "#chi\n",
    "x=4\n",
    "k= 7\n",
    "(x**((k/2)-1)*exp(-x/2))/(2**(k/2)*(factorial((k/2)-1)))"
   ]
  },
  {
   "cell_type": "code",
   "execution_count": 130,
   "metadata": {},
   "outputs": [
    {
     "data": {
      "text/html": [
       "0.0732249128096324"
      ],
      "text/latex": [
       "0.0732249128096324"
      ],
      "text/markdown": [
       "0.0732249128096324"
      ],
      "text/plain": [
       "[1] 0.07322491"
      ]
     },
     "metadata": {},
     "output_type": "display_data"
    }
   ],
   "source": [
    "dchisq(x = x,df = k,ncp = 0,log = F)"
   ]
  },
  {
   "cell_type": "markdown",
   "metadata": {},
   "source": [
    "##### Cumulative Distribution Function"
   ]
  },
  {
   "cell_type": "code",
   "execution_count": 88,
   "metadata": {},
   "outputs": [
    {
     "data": {
      "text/html": [
       "0.220222591483351"
      ],
      "text/latex": [
       "0.220222591483351"
      ],
      "text/markdown": [
       "0.220222591483351"
      ],
      "text/plain": [
       "[1] 0.2202226"
      ]
     },
     "metadata": {},
     "output_type": "display_data"
    }
   ],
   "source": [
    "chisq_pdf <- function(x,k) {\n",
    "    (x**((k/2)-1)*exp(-x/2))/(2**(k/2)*(factorial((k/2)-1)))\n",
    "}\n",
    "c<-integrate(chisq_pdf, lower = 0, upper = 4, k=7)\n",
    "c$value"
   ]
  },
  {
   "cell_type": "code",
   "execution_count": 89,
   "metadata": {},
   "outputs": [
    {
     "data": {
      "text/html": [
       "0.220222591524284"
      ],
      "text/latex": [
       "0.220222591524284"
      ],
      "text/markdown": [
       "0.220222591524284"
      ],
      "text/plain": [
       "[1] 0.2202226"
      ]
     },
     "metadata": {},
     "output_type": "display_data"
    }
   ],
   "source": [
    "pchisq(q = 4, df = 7, ncp = 0, lower.tail = T, log.p = F)"
   ]
  },
  {
   "cell_type": "code",
   "execution_count": 94,
   "metadata": {},
   "outputs": [
    {
     "data": {
      "image/png": "[encoded data removed]",
      "text/plain": [
       "Plot with title \"Chi-squared\""
      ]
     },
     "metadata": {},
     "output_type": "display_data"
    }
   ],
   "source": [
    "# R doesn't let you start a vector at 0 so dpois(0) get skiped if\n",
    "# just do j[i]. thats why we did j[i+1]\n",
    "j=vector()\n",
    "last_x = O_s+20\n",
    "for(i in 0:last_x) {\n",
    "    j[i+1] = dchisq(x = i,df = k,ncp = 0,log = F)\n",
    "}\n",
    "plot(y=j,x=seq(0,last_x,1), type=\"l\", ylab='Density',\n",
    "     xlab='observed values',\n",
    "     main ='Chi-squared')\n",
    "axis(side = 1, at=0:last_x)"
   ]
  },
  {
   "cell_type": "markdown",
   "metadata": {},
   "source": [
    "### Geometric (Discrete)"
   ]
  },
  {
   "cell_type": "markdown",
   "metadata": {},
   "source": [
    "##### Density (Probability Mass Function)"
   ]
  },
  {
   "cell_type": "code",
   "execution_count": 95,
   "metadata": {},
   "outputs": [
    {
     "data": {
      "text/html": [
       "0.096"
      ],
      "text/latex": [
       "0.096"
      ],
      "text/markdown": [
       "0.096"
      ],
      "text/plain": [
       "[1] 0.096"
      ]
     },
     "metadata": {},
     "output_type": "display_data"
    },
    {
     "data": {
      "text/html": [
       "0.0384"
      ],
      "text/latex": [
       "0.0384"
      ],
      "text/markdown": [
       "0.0384"
      ],
      "text/plain": [
       "[1] 0.0384"
      ]
     },
     "metadata": {},
     "output_type": "display_data"
    }
   ],
   "source": [
    "# Theres a shifted and not shifted versions of the Geometric Distribution.\n",
    "# Shifted. How many trials till a success? (1 success)\n",
    "# Unshifted. How many failures until a success? (1 success)\n",
    "\n",
    "# Shifted Geometric. \n",
    "# Probability that first occurrence of success\n",
    "# requires x independent trials.\n",
    "# p(x) = p*(1-p)^(x-1)\n",
    ".6*(1-.6)^(3-1) # <-- 1 succ in 3 trials.\n",
    "# This diff from binomial 1 succ out of 3 trials \n",
    "# because geometric distribution is order specific and binom is not.\n",
    "\n",
    "# Unshifted Geometric (similar to bernoulli)\n",
    "# Probability that first success\n",
    "# requires x number of failures.\n",
    "# p(x) = p*(1-p)^x\n",
    ".6*(1-.6)^3 # <-- 1 succ after 3 failures"
   ]
  },
  {
   "cell_type": "code",
   "execution_count": 151,
   "metadata": {},
   "outputs": [
    {
     "data": {
      "text/html": [
       "0.0384"
      ],
      "text/latex": [
       "0.0384"
      ],
      "text/markdown": [
       "0.0384"
      ],
      "text/plain": [
       "[1] 0.0384"
      ]
     },
     "metadata": {},
     "output_type": "display_data"
    }
   ],
   "source": [
    "dgeom(x=3, prob=0.6, log =F)"
   ]
  },
  {
   "cell_type": "markdown",
   "metadata": {},
   "source": [
    "##### Cumulative Distribution Function"
   ]
  },
  {
   "cell_type": "code",
   "execution_count": 97,
   "metadata": {},
   "outputs": [
    {
     "data": {
      "text/html": [
       "0.9744"
      ],
      "text/latex": [
       "0.9744"
      ],
      "text/markdown": [
       "0.9744"
      ],
      "text/plain": [
       "[1] 0.9744"
      ]
     },
     "metadata": {},
     "output_type": "display_data"
    }
   ],
   "source": [
    "dgeom(x=0,prob=0.6,log =F)+\n",
    "dgeom(x=1,prob=0.6,log =F)+\n",
    "dgeom(x=2,prob=0.6,log =F)+\n",
    "dgeom(x=3,prob=0.6,log =F)"
   ]
  },
  {
   "cell_type": "code",
   "execution_count": 98,
   "metadata": {},
   "outputs": [
    {
     "data": {
      "text/html": [
       "0.9744"
      ],
      "text/latex": [
       "0.9744"
      ],
      "text/markdown": [
       "0.9744"
      ],
      "text/plain": [
       "[1] 0.9744"
      ]
     },
     "metadata": {},
     "output_type": "display_data"
    }
   ],
   "source": [
    "pgeom(q = 3, prob = 0.6, lower.tail = T, log.p = F)"
   ]
  },
  {
   "cell_type": "code",
   "execution_count": 171,
   "metadata": {},
   "outputs": [
    {
     "data": {
      "image/png": "[encoded data removed]",
      "text/plain": [
       "Plot with title \"Geometric\""
      ]
     },
     "metadata": {},
     "output_type": "display_data"
    }
   ],
   "source": [
    "# R doesn't let you start a vector at 0 so dpois(0) get skiped if\n",
    "# just do j[i]. thats why we did j[i+1]\n",
    "j=vector()\n",
    "last_x = 10\n",
    "for(i in 0:last_x) {\n",
    "    j[i+1] = dgeom(x=i,prob=0.6,log =F)\n",
    "}\n",
    "plot(y=j,x=seq(0,last_x,1), type=\"h\", ylab='Probability',\n",
    "     xlab='observed values',\n",
    "     main ='Geometric')\n",
    "axis(side = 1, at=0:last_x)"
   ]
  },
  {
   "cell_type": "markdown",
   "metadata": {},
   "source": [
    "### Negative Binomial (Discrete)"
   ]
  },
  {
   "cell_type": "markdown",
   "metadata": {},
   "source": [
    "##### Density (Probability Mass Function)"
   ]
  },
  {
   "cell_type": "code",
   "execution_count": 104,
   "metadata": {},
   "outputs": [
    {
     "data": {
      "text/html": [
       "0.007001316"
      ],
      "text/latex": [
       "0.007001316"
      ],
      "text/markdown": [
       "0.007001316"
      ],
      "text/plain": [
       "[1] 0.007001316"
      ]
     },
     "metadata": {},
     "output_type": "display_data"
    },
    {
     "data": {
      "text/html": [
       "0.007001316"
      ],
      "text/latex": [
       "0.007001316"
      ],
      "text/markdown": [
       "0.007001316"
      ],
      "text/plain": [
       "[1] 0.007001316"
      ]
     },
     "metadata": {},
     "output_type": "display_data"
    }
   ],
   "source": [
    "# It’s the number of failures (r)\n",
    "# until k successes have occurred, not just 1.\n",
    "# Or it's number of trials (r) until k successes.\n",
    "# Similar to geometric 2 versions\n",
    "r = 6 # failures\n",
    "k = 3 # successes\n",
    "p = 0.7 # p of success\n",
    "# failures version\n",
    "choose(n = (r + k - 1), k = k-1)*p^k*(1-p)^r\n",
    "# failures version\n",
    "factorial(r+k-1)/(factorial(k-1)*factorial(r))*p^k*(1-p)^r"
   ]
  },
  {
   "cell_type": "code",
   "execution_count": 128,
   "metadata": {},
   "outputs": [
    {
     "data": {
      "text/html": [
       "0.00700131600000001"
      ],
      "text/latex": [
       "0.00700131600000001"
      ],
      "text/markdown": [
       "0.00700131600000001"
      ],
      "text/plain": [
       "[1] 0.007001316"
      ]
     },
     "metadata": {},
     "output_type": "display_data"
    }
   ],
   "source": [
    "dnbinom(x = r, size = k, prob = p, log = F)\n",
    "# size = target for number of successful trials\n",
    "# x can be number of trials or failures depends on your context."
   ]
  },
  {
   "cell_type": "markdown",
   "metadata": {},
   "source": [
    "##### Cumulative Distribution Function"
   ]
  },
  {
   "cell_type": "code",
   "execution_count": 106,
   "metadata": {},
   "outputs": [
    {
     "data": {
      "text/html": [
       "0.9712045"
      ],
      "text/latex": [
       "0.9712045"
      ],
      "text/markdown": [
       "0.9712045"
      ],
      "text/plain": [
       "[1] 0.9712045"
      ]
     },
     "metadata": {},
     "output_type": "display_data"
    }
   ],
   "source": [
    "dnbinom(x = 0, size = k, prob = p, log = F)+\n",
    "dnbinom(x = 1, size = k, prob = p, log = F)+\n",
    "dnbinom(x = 2, size = k, prob = p, log = F)+\n",
    "dnbinom(x = 3, size = k, prob = p, log = F)+\n",
    "dnbinom(x = 4, size = k, prob = p, log = F)"
   ]
  },
  {
   "cell_type": "code",
   "execution_count": 107,
   "metadata": {},
   "outputs": [
    {
     "data": {
      "text/html": [
       "0.9712045"
      ],
      "text/latex": [
       "0.9712045"
      ],
      "text/markdown": [
       "0.9712045"
      ],
      "text/plain": [
       "[1] 0.9712045"
      ]
     },
     "metadata": {},
     "output_type": "display_data"
    }
   ],
   "source": [
    "pnbinom(q=4,size=k,prob=p,lower.tail = T,log.p = F)"
   ]
  },
  {
   "cell_type": "code",
   "execution_count": 169,
   "metadata": {},
   "outputs": [
    {
     "data": {
      "image/png": "[encoded data removed]",
      "text/plain": [
       "Plot with title \"Negative Binomial\""
      ]
     },
     "metadata": {},
     "output_type": "display_data"
    }
   ],
   "source": [
    "# R doesn't let you start a vector at 0 so dpois(0) get skiped if\n",
    "# just do j[i]. thats why we did j[i+1]\n",
    "j=vector()\n",
    "last_x = r + 2\n",
    "for(i in 0:last_x) {\n",
    "    j[i+1] = dnbinom(x = i, size = k, prob = p, log = F)\n",
    "}\n",
    "plot(y=j,x=seq(0,last_x,1), type=\"h\", ylab='Density',\n",
    "     xlab='observed values',\n",
    "     main ='Negative Binomial')\n",
    "axis(side = 1, at=0:last_x)"
   ]
  },
  {
   "cell_type": "markdown",
   "metadata": {},
   "source": [
    "### Weibull (Continous)"
   ]
  },
  {
   "cell_type": "markdown",
   "metadata": {},
   "source": [
    "##### Density (Probability Density Function)"
   ]
  },
  {
   "cell_type": "code",
   "execution_count": 157,
   "metadata": {},
   "outputs": [
    {
     "data": {
      "text/html": [
       "0.0227969484214579"
      ],
      "text/latex": [
       "0.0227969484214579"
      ],
      "text/markdown": [
       "0.0227969484214579"
      ],
      "text/plain": [
       "[1] 0.02279695"
      ]
     },
     "metadata": {},
     "output_type": "display_data"
    }
   ],
   "source": [
    "# Probability of time to event (failure) has option\n",
    "# of changes of rate over time.\n",
    "# Similar to exponential where rate is assumed constant.\n",
    "# Weibull can model increasing/decreasing rates.\n",
    "# f(x;a,b)\n",
    "x=5 # x>0 time to failure\n",
    "a=0.6 # a>0 shape\n",
    "b=1 # b>0 scale\n",
    "(a/b)*(x/b)^(a-1)*exp(-(x/b)^a);\n",
    "# a<1 means rate decreases over time.\n",
    "# a=1 same as exponential distribution.\n",
    "# a>1 means rate increase over time. Monotonically increasing."
   ]
  },
  {
   "cell_type": "code",
   "execution_count": 189,
   "metadata": {},
   "outputs": [
    {
     "data": {
      "text/html": [
       "0.0694495731331051"
      ],
      "text/latex": [
       "0.0694495731331051"
      ],
      "text/markdown": [
       "0.0694495731331051"
      ],
      "text/plain": [
       "[1] 0.06944957"
      ]
     },
     "metadata": {},
     "output_type": "display_data"
    }
   ],
   "source": [
    "dweibull(x = x, shape = a, scale = b, log = F) \n",
    "# if x = 0 --> Inf"
   ]
  },
  {
   "cell_type": "markdown",
   "metadata": {},
   "source": [
    "##### Cumulative Distribution Function"
   ]
  },
  {
   "cell_type": "code",
   "execution_count": 159,
   "metadata": {},
   "outputs": [
    {
     "data": {
      "text/html": [
       "0.927670832244648"
      ],
      "text/latex": [
       "0.927670832244648"
      ],
      "text/markdown": [
       "0.927670832244648"
      ],
      "text/plain": [
       "[1] 0.9276708"
      ]
     },
     "metadata": {},
     "output_type": "display_data"
    }
   ],
   "source": [
    "pweibull(q = x,shape = a,scale = b,lower.tail = T,log.p = F)"
   ]
  },
  {
   "cell_type": "code",
   "execution_count": 160,
   "metadata": {},
   "outputs": [
    {
     "data": {
      "text/html": [
       "0.927670873669591"
      ],
      "text/latex": [
       "0.927670873669591"
      ],
      "text/markdown": [
       "0.927670873669591"
      ],
      "text/plain": [
       "[1] 0.9276709"
      ]
     },
     "metadata": {},
     "output_type": "display_data"
    }
   ],
   "source": [
    "weibull_pdf <- function(x,a,b) {\n",
    "    (a/b)*(x/b)^(a-1)*exp(-(x/b)^a)\n",
    "}\n",
    "c<-integrate(weibull_pdf, lower = 0, upper = x, a=a ,b=b)\n",
    "c$value"
   ]
  },
  {
   "cell_type": "code",
   "execution_count": 161,
   "metadata": {},
   "outputs": [
    {
     "data": {
      "image/png": "[encoded data removed]",
      "text/plain": [
       "Plot with title \"Weibull\""
      ]
     },
     "metadata": {},
     "output_type": "display_data"
    }
   ],
   "source": [
    "# R doesn't let you start a vector at 0 so dpois(0) get skiped if\n",
    "# just do j[i]. thats why we did j[i+1]\n",
    "j=vector()\n",
    "last_x = x + 2\n",
    "for(i in 0:last_x) {\n",
    "    j[i+1] = dweibull(x = i, shape = a, scale = b, log = F)\n",
    "}\n",
    "plot(y=j,x=seq(0,last_x,1), type=\"l\", ylab='Density',\n",
    "     xlab='observed values',\n",
    "     main ='Weibull')\n",
    "axis(side = 1, at=0:last_x)"
   ]
  },
  {
   "cell_type": "markdown",
   "metadata": {},
   "source": [
    "### Log-Normal (Continous)"
   ]
  },
  {
   "cell_type": "markdown",
   "metadata": {},
   "source": [
    "##### Density (Probability Density Function)"
   ]
  },
  {
   "cell_type": "code",
   "execution_count": 190,
   "metadata": {},
   "outputs": [
    {
     "data": {
      "text/html": [
       "0.0972032590242929"
      ],
      "text/latex": [
       "0.0972032590242929"
      ],
      "text/markdown": [
       "0.0972032590242929"
      ],
      "text/plain": [
       "[1] 0.09720326"
      ]
     },
     "metadata": {},
     "output_type": "display_data"
    }
   ],
   "source": [
    "# Looks similar to Weibull\n",
    "# X>=0 always.\n",
    "# Log-Normal is a distribution of a variable whose log is normal.\n",
    "# If variable normal then exp(variable) is log-normal.\n",
    "# Also known as Galton distribution\n",
    "mu = 0\n",
    "sig = 1\n",
    "x = 2.6\n",
    "(1/sqrt(2*pi))*1/sig*1/x*exp(-(1/2*sig^2)*(log(x)-mu)^2)"
   ]
  },
  {
   "cell_type": "code",
   "execution_count": 191,
   "metadata": {},
   "outputs": [
    {
     "data": {
      "text/html": [
       "0.0972032590242929"
      ],
      "text/latex": [
       "0.0972032590242929"
      ],
      "text/markdown": [
       "0.0972032590242929"
      ],
      "text/plain": [
       "[1] 0.09720326"
      ]
     },
     "metadata": {},
     "output_type": "display_data"
    }
   ],
   "source": [
    "dlnorm(x = x,meanlog = 0,sdlog = 1,log = F)"
   ]
  },
  {
   "cell_type": "markdown",
   "metadata": {},
   "source": [
    "##### Cumulative Distribution Function"
   ]
  },
  {
   "cell_type": "code",
   "execution_count": 192,
   "metadata": {},
   "outputs": [
    {
     "data": {
      "text/html": [
       "0.83034045757916"
      ],
      "text/latex": [
       "0.83034045757916"
      ],
      "text/markdown": [
       "0.83034045757916"
      ],
      "text/plain": [
       "[1] 0.8303405"
      ]
     },
     "metadata": {},
     "output_type": "display_data"
    }
   ],
   "source": [
    "lognormal_pdf <- function(x,mu,sig) {\n",
    "    (1/sqrt(2*pi))*1/sig*1/x*exp(-(1/2*sig^2)*(log(x)-mu)^2)\n",
    "}\n",
    "c<-integrate(lognormal_pdf, lower = 0, upper = x, mu=mu ,sig=sig)\n",
    "c$value"
   ]
  },
  {
   "cell_type": "code",
   "execution_count": 193,
   "metadata": {},
   "outputs": [
    {
     "data": {
      "text/html": [
       "0.830340439823572"
      ],
      "text/latex": [
       "0.830340439823572"
      ],
      "text/markdown": [
       "0.830340439823572"
      ],
      "text/plain": [
       "[1] 0.8303404"
      ]
     },
     "metadata": {},
     "output_type": "display_data"
    }
   ],
   "source": [
    "plnorm(q = x, meanlog = mu, sdlog = sig,lower.tail = T, log.p = F)"
   ]
  },
  {
   "cell_type": "code",
   "execution_count": 194,
   "metadata": {},
   "outputs": [
    {
     "data": {
      "image/png": "[encoded data removed]",
      "text/plain": [
       "Plot with title \"Log-Normal\""
      ]
     },
     "metadata": {},
     "output_type": "display_data"
    }
   ],
   "source": [
    "# R doesn't let you start a vector at 0 so dpois(0) get skiped if\n",
    "# just do j[i]. thats why we did j[i+1]\n",
    "j=vector()\n",
    "last_x = x + 10\n",
    "for(i in 0:last_x) {\n",
    "    j[i+1] = dlnorm(x = i,meanlog = 0,sdlog = 1,log = F)\n",
    "}\n",
    "plot(y=j,x=seq(0,last_x,1), type=\"l\", ylab='Density',\n",
    "     xlab='observed values',\n",
    "     main ='Log-Normal')\n",
    "axis(side = 1, at=0:last_x)"
   ]
  },
  {
   "cell_type": "markdown",
   "metadata": {},
   "source": [
    "### Gamma (Continous)"
   ]
  },
  {
   "cell_type": "markdown",
   "metadata": {},
   "source": [
    "##### Density (Probability Density Function)"
   ]
  },
  {
   "cell_type": "code",
   "execution_count": 195,
   "metadata": {},
   "outputs": [
    {
     "data": {
      "text/html": [
       "0.0336897349954273"
      ],
      "text/latex": [
       "0.0336897349954273"
      ],
      "text/markdown": [
       "0.0336897349954273"
      ],
      "text/plain": [
       "[1] 0.03368973"
      ]
     },
     "metadata": {},
     "output_type": "display_data"
    }
   ],
   "source": [
    "# Gamma is a generalization of both exponential and chi-squared distr.\n",
    "# Why used? \n",
    "# Used as a sophisticated model of waiting times.\n",
    "# Time until the next n events occur.\n",
    "# Like Negative-binomal but continous. \n",
    "# Also like Exponential.\n",
    "x=5\n",
    "a=1 # scale (+)\n",
    "b=2 # shape (+)\n",
    "(x^(b-1)*(exp(-x/a)))/((a^b)*factorial(b-1))\n",
    "# gamma function is factorial(x-1) == gamma(x)."
   ]
  },
  {
   "cell_type": "code",
   "execution_count": 196,
   "metadata": {},
   "outputs": [
    {
     "data": {
      "text/html": [
       "0.0336897349954273"
      ],
      "text/latex": [
       "0.0336897349954273"
      ],
      "text/markdown": [
       "0.0336897349954273"
      ],
      "text/plain": [
       "[1] 0.03368973"
      ]
     },
     "metadata": {},
     "output_type": "display_data"
    }
   ],
   "source": [
    "dgamma(x = x,shape = b, scale = a, log = F)"
   ]
  },
  {
   "cell_type": "markdown",
   "metadata": {},
   "source": [
    "##### Cumulative Distribution Function"
   ]
  },
  {
   "cell_type": "code",
   "execution_count": 197,
   "metadata": {},
   "outputs": [
    {
     "data": {
      "text/html": [
       "0.959572318005487"
      ],
      "text/latex": [
       "0.959572318005487"
      ],
      "text/markdown": [
       "0.959572318005487"
      ],
      "text/plain": [
       "[1] 0.9595723"
      ]
     },
     "metadata": {},
     "output_type": "display_data"
    }
   ],
   "source": [
    "gamma_pdf <- function(x,a,b) {\n",
    "    (x^(b-1)*(exp(-x/a)))/((a^b)*factorial(b-1))\n",
    "}\n",
    "c<-integrate(gamma_pdf, lower = 0, upper = x, a=a ,b=b)\n",
    "c$value"
   ]
  },
  {
   "cell_type": "code",
   "execution_count": 198,
   "metadata": {},
   "outputs": [
    {
     "data": {
      "text/html": [
       "0.959572318005487"
      ],
      "text/latex": [
       "0.959572318005487"
      ],
      "text/markdown": [
       "0.959572318005487"
      ],
      "text/plain": [
       "[1] 0.9595723"
      ]
     },
     "metadata": {},
     "output_type": "display_data"
    }
   ],
   "source": [
    "pgamma(q = x, scale = a, shape = b, lower.tail = T, log.p = F)"
   ]
  },
  {
   "cell_type": "code",
   "execution_count": 201,
   "metadata": {},
   "outputs": [
    {
     "data": {
      "image/png": "[encoded data removed]",
      "text/plain": [
       "Plot with title \"Gamma\""
      ]
     },
     "metadata": {},
     "output_type": "display_data"
    }
   ],
   "source": [
    "# R doesn't let you start a vector at 0 so dpois(0) get skiped if\n",
    "# just do j[i]. thats why we did j[i+1]\n",
    "j=vector()\n",
    "last_x = x + 10\n",
    "for(i in 0:last_x) {\n",
    "    j[i+1] = dgamma(x = i,shape = b, scale = a, log = F)\n",
    "}\n",
    "plot(y=j,x=seq(0,last_x,1), type=\"l\", ylab='Density',\n",
    "     xlab='observed values',\n",
    "     main ='Gamma')\n",
    "axis(side = 1, at=0:last_x)"
   ]
  },
  {
   "cell_type": "markdown",
   "metadata": {},
   "source": [
    "### Beta (Continous)"
   ]
  },
  {
   "cell_type": "markdown",
   "metadata": {},
   "source": [
    "##### Density (Probability Density Function)"
   ]
  },
  {
   "cell_type": "code",
   "execution_count": 207,
   "metadata": {},
   "outputs": [
    {
     "data": {
      "text/html": [
       "0.554832097728781"
      ],
      "text/latex": [
       "0.554832097728781"
      ],
      "text/markdown": [
       "0.554832097728781"
      ],
      "text/plain": [
       "[1] 0.5548321"
      ]
     },
     "metadata": {},
     "output_type": "display_data"
    }
   ],
   "source": [
    "# Beta used to model percentages, interest rates, probabilities\n",
    "# because x lies between 0 and 1.\n",
    "x = 0.6 # must be between 0 and 1. \n",
    "b = 0.7 # shape >0. beta.\n",
    "y = 2 # shape >0. gamma. yeah 2 shapes.\n",
    "(factorial((b+y)-1)*x^(b-1)*(1-x)^(y-1))/(factorial(b-1)*factorial(y-1))"
   ]
  },
  {
   "cell_type": "code",
   "execution_count": 214,
   "metadata": {},
   "outputs": [
    {
     "data": {
      "text/html": [
       "0.554832097728781"
      ],
      "text/latex": [
       "0.554832097728781"
      ],
      "text/markdown": [
       "0.554832097728781"
      ],
      "text/plain": [
       "[1] 0.5548321"
      ]
     },
     "metadata": {},
     "output_type": "display_data"
    }
   ],
   "source": [
    "dbeta(x = x, shape1 = b, shape2 = y, log = F )"
   ]
  },
  {
   "cell_type": "markdown",
   "metadata": {},
   "source": [
    "##### Cumulative Distribution Function"
   ]
  },
  {
   "cell_type": "code",
   "execution_count": 209,
   "metadata": {},
   "outputs": [
    {
     "data": {
      "text/html": [
       "0.89519128373047"
      ],
      "text/latex": [
       "0.89519128373047"
      ],
      "text/markdown": [
       "0.89519128373047"
      ],
      "text/plain": [
       "[1] 0.8951913"
      ]
     },
     "metadata": {},
     "output_type": "display_data"
    }
   ],
   "source": [
    "beta_pdf <- function(x,b,y) {\n",
    "    (factorial((b+y)-1)*x^(b-1)*(1-x)^(y-1))/\n",
    "    (factorial(b-1)*factorial(y-1))\n",
    "}\n",
    "cdf<-integrate(beta_pdf, lower = 0, upper = x, b=b, y=y)\n",
    "cdf$value"
   ]
  },
  {
   "cell_type": "code",
   "execution_count": 210,
   "metadata": {},
   "outputs": [
    {
     "data": {
      "text/html": [
       "0.89519128373047"
      ],
      "text/latex": [
       "0.89519128373047"
      ],
      "text/markdown": [
       "0.89519128373047"
      ],
      "text/plain": [
       "[1] 0.8951913"
      ]
     },
     "metadata": {},
     "output_type": "display_data"
    }
   ],
   "source": [
    "pbeta(q = x, shape1 = b, shape2 = y, lower.tail = T, log.p = F)"
   ]
  },
  {
   "cell_type": "code",
   "execution_count": 222,
   "metadata": {},
   "outputs": [
    {
     "data": {
      "image/png": "[encoded data removed]",
      "text/plain": [
       "Plot with title \"Pareto (x-axis wrong)\""
      ]
     },
     "metadata": {},
     "output_type": "display_data"
    }
   ],
   "source": [
    "# R doesn't let you start a vector at 0 so dpois(0) get skiped if\n",
    "# just do j[i]. thats why we did j[i+1]\n",
    "j=vector()\n",
    "last_x = x + 20\n",
    "for(i in 0:last_x) {\n",
    "    j[i+1] = dbeta(x = i/10, shape1 = b, shape2 = y, log = F )\n",
    "}\n",
    "plot(y=j,x=seq(0,last_x,1), type=\"l\", ylab='Density',\n",
    "     xlab='observed values',\n",
    "     main ='Pareto (x-axis wrong)')\n",
    "axis(side = 1, at=0:last_x)"
   ]
  },
  {
   "cell_type": "markdown",
   "metadata": {},
   "source": [
    "### Pareto (Continous)"
   ]
  },
  {
   "cell_type": "markdown",
   "metadata": {},
   "source": [
    "##### Density (Probability Density Function)"
   ]
  },
  {
   "cell_type": "code",
   "execution_count": null,
   "metadata": {},
   "outputs": [],
   "source": [
    "# Model income distribution. Lifetime of object with \n",
    "# warrenty period since distribution\n",
    "# doesnt have to start at 0.\n",
    "x = 7 # x > lambda.\n",
    "lambda = 4 # minimum value\n",
    "k = 2 # shape. looks like shape\n",
    "(k*(lambda^k))/(x^(k+1))"
   ]
  },
  {
   "cell_type": "code",
   "execution_count": null,
   "metadata": {},
   "outputs": [],
   "source": [
    "library('EnvStats')\n",
    "dpareto(x = x, location = lambda, shape = k)"
   ]
  },
  {
   "cell_type": "markdown",
   "metadata": {},
   "source": [
    "##### Cumulative Distribution Function"
   ]
  },
  {
   "cell_type": "code",
   "execution_count": null,
   "metadata": {},
   "outputs": [],
   "source": [
    "pareto_pdf <- function(x,lambda,k) {\n",
    "    (k*(lambda^k))/(x^(k+1))\n",
    "}\n",
    "cdf<-integrate(pareto_pdf, lower = lambda, upper = x, lambda=lambda, k=k)\n",
    "cdf$value"
   ]
  },
  {
   "cell_type": "code",
   "execution_count": null,
   "metadata": {},
   "outputs": [],
   "source": [
    "ppareto(q = x, location = lambda, shape = k)"
   ]
  },
  {
   "cell_type": "markdown",
   "metadata": {},
   "source": [
    "### Students (Continous)"
   ]
  },
  {
   "cell_type": "markdown",
   "metadata": {},
   "source": [
    "##### Density (Probability Density Function)"
   ]
  },
  {
   "cell_type": "code",
   "execution_count": null,
   "metadata": {},
   "outputs": [],
   "source": [
    "x = 1.3 # btw -inf and inf\n",
    "n = 3 # degrees of freedom. integer (+).\n",
    "factorial(((n+1)/2)-1)*(1+(x^2)/n)^(-(n+1)/2)/\n",
    "(sqrt(n*pi)*factorial((n/2)-1))"
   ]
  },
  {
   "cell_type": "code",
   "execution_count": null,
   "metadata": {},
   "outputs": [],
   "source": [
    "dt(x = x, df = n, log = F)"
   ]
  },
  {
   "cell_type": "markdown",
   "metadata": {},
   "source": [
    "##### Cumulative Distribution Function"
   ]
  },
  {
   "cell_type": "code",
   "execution_count": null,
   "metadata": {},
   "outputs": [],
   "source": [
    "t_pdf <- function(x,n) {\n",
    "    factorial(((n+1)/2)-1)*(1+(x^2)/n)^(-(n+1)/2)/\n",
    "(sqrt(n*pi)*factorial((n/2)-1))\n",
    "}\n",
    "cdf<-integrate(t_pdf, lower = -Inf , upper = x, n=n)\n",
    "cdf$value"
   ]
  },
  {
   "cell_type": "code",
   "execution_count": null,
   "metadata": {},
   "outputs": [],
   "source": [
    "pt(q = x, df = n, lower.tail = T, log.p = F)"
   ]
  },
  {
   "cell_type": "code",
   "execution_count": 236,
   "metadata": {},
   "outputs": [
    {
     "data": {
      "image/png": "[encoded data removed]",
      "text/plain": [
       "Plot with title \"T\""
      ]
     },
     "metadata": {},
     "output_type": "display_data"
    }
   ],
   "source": [
    "# R doesn't let you start a vector at 0 so dpois(0) get skiped if\n",
    "# just do j[i]. thats why we did j[i+1]\n",
    "j=vector()\n",
    "last_x = x + 15\n",
    "for(i in 0:last_x) {\n",
    "    j[i+1] = dt(x = i-8, df = n, log = F)\n",
    "}\n",
    "plot(y=j,x=seq(0,last_x,1), type=\"l\", ylab='Density',\n",
    "     xlab='observed values',\n",
    "     main ='T')\n",
    "axis(side = 1, at=0:last_x)"
   ]
  },
  {
   "cell_type": "code",
   "execution_count": null,
   "metadata": {},
   "outputs": [],
   "source": []
  }
 ],
 "metadata": {
  "kernelspec": {
   "display_name": "R",
   "language": "R",
   "name": "ir"
  },
  "language_info": {
   "codemirror_mode": "r",
   "file_extension": ".r",
   "mimetype": "text/x-r-source",
   "name": "R",
   "pygments_lexer": "r",
   "version": "3.5.1"
  },
  "toc": {
   "base_numbering": 1,
   "nav_menu": {},
   "number_sections": false,
   "sideBar": true,
   "skip_h1_title": false,
   "title_cell": "Table of Contents",
   "title_sidebar": "Contents",
   "toc_cell": false,
   "toc_position": {
    "height": "657.5px",
    "left": "35px",
    "top": "49px",
    "width": "321px"
   },
   "toc_section_display": true,
   "toc_window_display": true
  },
  "varInspector": {
   "cols": {
    "lenName": 16,
    "lenType": 16,
    "lenVar": 40
   },
   "kernels_config": {
    "python": {
     "delete_cmd_postfix": "",
     "delete_cmd_prefix": "del ",
     "library": "var_list.py",
     "varRefreshCmd": "print(var_dic_list())"
    },
    "r": {
     "delete_cmd_postfix": ") ",
     "delete_cmd_prefix": "rm(",
     "library": "var_list.r",
     "varRefreshCmd": "cat(var_dic_list()) "
    }
   },
   "types_to_exclude": [
    "module",
    "function",
    "builtin_function_or_method",
    "instance",
    "_Feature"
   ],
   "window_display": false
  }
 },
 "nbformat": 4,
 "nbformat_minor": 2
}

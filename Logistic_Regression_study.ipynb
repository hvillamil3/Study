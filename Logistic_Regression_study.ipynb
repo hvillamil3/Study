{
 "cells": [
  {
   "cell_type": "code",
   "execution_count": 1,
   "metadata": {
    "collapsed": true
   },
   "outputs": [],
   "source": [
    "import pandas as pd\n",
    "import numpy as np\n",
    "# pip install patsy\n",
    "from patsy import dmatrices, dmatrix\n",
    "from sklearn.linear_model import LogisticRegression\n",
    "from sklearn.preprocessing import StandardScaler"
   ]
  },
  {
   "cell_type": "code",
   "execution_count": 2,
   "metadata": {},
   "outputs": [],
   "source": [
    "import seaborn as sns\n",
    "from scipy import stats\n",
    "import matplotlib.pyplot as plt\n",
    "%matplotlib inline\n",
    "sns.set(font_scale=1.5)"
   ]
  },
  {
   "cell_type": "markdown",
   "metadata": {},
   "source": [
    "- survival:        Survival\n",
    "                (0 = No; 1 = Yes)"
   ]
  },
  {
   "cell_type": "code",
   "execution_count": 3,
   "metadata": {},
   "outputs": [],
   "source": [
    "train = pd.read_csv('train.csv')\n",
    "test = pd.read_csv('test.csv')"
   ]
  },
  {
   "cell_type": "code",
   "execution_count": 4,
   "metadata": {},
   "outputs": [
    {
     "data": {
      "text/html": [
       "<div>\n",
       "<table border=\"1\" class=\"dataframe\">\n",
       "  <thead>\n",
       "    <tr style=\"text-align: right;\">\n",
       "      <th></th>\n",
       "      <th>PassengerId</th>\n",
       "      <th>Survived</th>\n",
       "      <th>Pclass</th>\n",
       "      <th>Name</th>\n",
       "      <th>Sex</th>\n",
       "      <th>Age</th>\n",
       "      <th>SibSp</th>\n",
       "      <th>Parch</th>\n",
       "      <th>Ticket</th>\n",
       "      <th>Fare</th>\n",
       "      <th>Embarked</th>\n",
       "    </tr>\n",
       "  </thead>\n",
       "  <tbody>\n",
       "    <tr>\n",
       "      <th>0</th>\n",
       "      <td>883</td>\n",
       "      <td>0</td>\n",
       "      <td>3</td>\n",
       "      <td>Dahlberg, Miss. Gerda Ulrika</td>\n",
       "      <td>female</td>\n",
       "      <td>22.0</td>\n",
       "      <td>0</td>\n",
       "      <td>0</td>\n",
       "      <td>7552</td>\n",
       "      <td>10.5167</td>\n",
       "      <td>S</td>\n",
       "    </tr>\n",
       "    <tr>\n",
       "      <th>1</th>\n",
       "      <td>134</td>\n",
       "      <td>1</td>\n",
       "      <td>2</td>\n",
       "      <td>Weisz, Mrs. Leopold (Mathilde Francoise Pede)</td>\n",
       "      <td>female</td>\n",
       "      <td>29.0</td>\n",
       "      <td>1</td>\n",
       "      <td>0</td>\n",
       "      <td>228414</td>\n",
       "      <td>26.0000</td>\n",
       "      <td>S</td>\n",
       "    </tr>\n",
       "    <tr>\n",
       "      <th>2</th>\n",
       "      <td>877</td>\n",
       "      <td>0</td>\n",
       "      <td>3</td>\n",
       "      <td>Gustafsson, Mr. Alfred Ossian</td>\n",
       "      <td>male</td>\n",
       "      <td>20.0</td>\n",
       "      <td>0</td>\n",
       "      <td>0</td>\n",
       "      <td>7534</td>\n",
       "      <td>9.8458</td>\n",
       "      <td>S</td>\n",
       "    </tr>\n",
       "    <tr>\n",
       "      <th>3</th>\n",
       "      <td>799</td>\n",
       "      <td>0</td>\n",
       "      <td>3</td>\n",
       "      <td>Ibrahim Shawah, Mr. Yousseff</td>\n",
       "      <td>male</td>\n",
       "      <td>30.0</td>\n",
       "      <td>0</td>\n",
       "      <td>0</td>\n",
       "      <td>2685</td>\n",
       "      <td>7.2292</td>\n",
       "      <td>C</td>\n",
       "    </tr>\n",
       "    <tr>\n",
       "      <th>4</th>\n",
       "      <td>871</td>\n",
       "      <td>0</td>\n",
       "      <td>3</td>\n",
       "      <td>Balkic, Mr. Cerin</td>\n",
       "      <td>male</td>\n",
       "      <td>26.0</td>\n",
       "      <td>0</td>\n",
       "      <td>0</td>\n",
       "      <td>349248</td>\n",
       "      <td>7.8958</td>\n",
       "      <td>S</td>\n",
       "    </tr>\n",
       "  </tbody>\n",
       "</table>\n",
       "</div>"
      ],
      "text/plain": [
       "   PassengerId  Survived  Pclass  \\\n",
       "0          883         0       3   \n",
       "1          134         1       2   \n",
       "2          877         0       3   \n",
       "3          799         0       3   \n",
       "4          871         0       3   \n",
       "\n",
       "                                            Name     Sex   Age  SibSp  Parch  \\\n",
       "0                   Dahlberg, Miss. Gerda Ulrika  female  22.0      0      0   \n",
       "1  Weisz, Mrs. Leopold (Mathilde Francoise Pede)  female  29.0      1      0   \n",
       "2                  Gustafsson, Mr. Alfred Ossian    male  20.0      0      0   \n",
       "3                   Ibrahim Shawah, Mr. Yousseff    male  30.0      0      0   \n",
       "4                              Balkic, Mr. Cerin    male  26.0      0      0   \n",
       "\n",
       "   Ticket     Fare Embarked  \n",
       "0    7552  10.5167        S  \n",
       "1  228414  26.0000        S  \n",
       "2    7534   9.8458        S  \n",
       "3    2685   7.2292        C  \n",
       "4  349248   7.8958        S  "
      ]
     },
     "execution_count": 4,
     "metadata": {},
     "output_type": "execute_result"
    }
   ],
   "source": [
    "train.head()"
   ]
  },
  {
   "cell_type": "code",
   "execution_count": 5,
   "metadata": {},
   "outputs": [],
   "source": [
    "y, X = dmatrices('Survived ~ Age + C(Pclass) + C(Sex)', train, return_type='dataframe')\n",
    "#y & X are DataFrames now with one-hot enocoding/dummy encoding\n",
    "\n",
    "# flatten y so we can incorporate in sklearn functions\n",
    "y = np.ravel(y)\n",
    "#y is now an array"
   ]
  },
  {
   "cell_type": "code",
   "execution_count": 6,
   "metadata": {},
   "outputs": [
    {
     "data": {
      "text/html": [
       "<div>\n",
       "<table border=\"1\" class=\"dataframe\">\n",
       "  <thead>\n",
       "    <tr style=\"text-align: right;\">\n",
       "      <th></th>\n",
       "      <th>Intercept</th>\n",
       "      <th>C(Pclass)[T.2]</th>\n",
       "      <th>C(Pclass)[T.3]</th>\n",
       "      <th>C(Sex)[T.male]</th>\n",
       "      <th>Age</th>\n",
       "    </tr>\n",
       "  </thead>\n",
       "  <tbody>\n",
       "    <tr>\n",
       "      <th>0</th>\n",
       "      <td>1.0</td>\n",
       "      <td>0.0</td>\n",
       "      <td>1.0</td>\n",
       "      <td>0.0</td>\n",
       "      <td>22.0</td>\n",
       "    </tr>\n",
       "    <tr>\n",
       "      <th>1</th>\n",
       "      <td>1.0</td>\n",
       "      <td>1.0</td>\n",
       "      <td>0.0</td>\n",
       "      <td>0.0</td>\n",
       "      <td>29.0</td>\n",
       "    </tr>\n",
       "    <tr>\n",
       "      <th>2</th>\n",
       "      <td>1.0</td>\n",
       "      <td>0.0</td>\n",
       "      <td>1.0</td>\n",
       "      <td>1.0</td>\n",
       "      <td>20.0</td>\n",
       "    </tr>\n",
       "    <tr>\n",
       "      <th>3</th>\n",
       "      <td>1.0</td>\n",
       "      <td>0.0</td>\n",
       "      <td>1.0</td>\n",
       "      <td>1.0</td>\n",
       "      <td>30.0</td>\n",
       "    </tr>\n",
       "    <tr>\n",
       "      <th>4</th>\n",
       "      <td>1.0</td>\n",
       "      <td>0.0</td>\n",
       "      <td>1.0</td>\n",
       "      <td>1.0</td>\n",
       "      <td>26.0</td>\n",
       "    </tr>\n",
       "  </tbody>\n",
       "</table>\n",
       "</div>"
      ],
      "text/plain": [
       "   Intercept  C(Pclass)[T.2]  C(Pclass)[T.3]  C(Sex)[T.male]   Age\n",
       "0        1.0             0.0             1.0             0.0  22.0\n",
       "1        1.0             1.0             0.0             0.0  29.0\n",
       "2        1.0             0.0             1.0             1.0  20.0\n",
       "3        1.0             0.0             1.0             1.0  30.0\n",
       "4        1.0             0.0             1.0             1.0  26.0"
      ]
     },
     "execution_count": 6,
     "metadata": {},
     "output_type": "execute_result"
    }
   ],
   "source": [
    "X.head()"
   ]
  },
  {
   "cell_type": "code",
   "execution_count": 7,
   "metadata": {},
   "outputs": [],
   "source": [
    "# standardize the features since regularization requires all features to be on same scale\n",
    "scaler = StandardScaler(copy=True)\n",
    "# we have created a standardization based on the training data\n",
    "X_clean = scaler.fit(X).transform(X)\n",
    "#X_clean is an array"
   ]
  },
  {
   "cell_type": "code",
   "execution_count": 8,
   "metadata": {},
   "outputs": [],
   "source": [
    "x_clean2 = pd.DataFrame(X_clean, columns=X.columns)\n",
    "#X_clean2 is a DataFrame of standardized values"
   ]
  },
  {
   "cell_type": "code",
   "execution_count": 9,
   "metadata": {},
   "outputs": [
    {
     "data": {
      "text/html": [
       "<div>\n",
       "<table border=\"1\" class=\"dataframe\">\n",
       "  <thead>\n",
       "    <tr style=\"text-align: right;\">\n",
       "      <th></th>\n",
       "      <th>Intercept</th>\n",
       "      <th>C(Pclass)[T.2]</th>\n",
       "      <th>C(Pclass)[T.3]</th>\n",
       "      <th>C(Sex)[T.male]</th>\n",
       "      <th>Age</th>\n",
       "    </tr>\n",
       "  </thead>\n",
       "  <tbody>\n",
       "    <tr>\n",
       "      <th>0</th>\n",
       "      <td>0.0</td>\n",
       "      <td>-0.550590</td>\n",
       "      <td>0.987988</td>\n",
       "      <td>-1.334733</td>\n",
       "      <td>-0.526716</td>\n",
       "    </tr>\n",
       "    <tr>\n",
       "      <th>1</th>\n",
       "      <td>0.0</td>\n",
       "      <td>1.816233</td>\n",
       "      <td>-1.012159</td>\n",
       "      <td>-1.334733</td>\n",
       "      <td>-0.045169</td>\n",
       "    </tr>\n",
       "    <tr>\n",
       "      <th>2</th>\n",
       "      <td>0.0</td>\n",
       "      <td>-0.550590</td>\n",
       "      <td>0.987988</td>\n",
       "      <td>0.749213</td>\n",
       "      <td>-0.664301</td>\n",
       "    </tr>\n",
       "    <tr>\n",
       "      <th>3</th>\n",
       "      <td>0.0</td>\n",
       "      <td>-0.550590</td>\n",
       "      <td>0.987988</td>\n",
       "      <td>0.749213</td>\n",
       "      <td>0.023623</td>\n",
       "    </tr>\n",
       "    <tr>\n",
       "      <th>4</th>\n",
       "      <td>0.0</td>\n",
       "      <td>-0.550590</td>\n",
       "      <td>0.987988</td>\n",
       "      <td>0.749213</td>\n",
       "      <td>-0.251546</td>\n",
       "    </tr>\n",
       "  </tbody>\n",
       "</table>\n",
       "</div>"
      ],
      "text/plain": [
       "   Intercept  C(Pclass)[T.2]  C(Pclass)[T.3]  C(Sex)[T.male]       Age\n",
       "0        0.0       -0.550590        0.987988       -1.334733 -0.526716\n",
       "1        0.0        1.816233       -1.012159       -1.334733 -0.045169\n",
       "2        0.0       -0.550590        0.987988        0.749213 -0.664301\n",
       "3        0.0       -0.550590        0.987988        0.749213  0.023623\n",
       "4        0.0       -0.550590        0.987988        0.749213 -0.251546"
      ]
     },
     "execution_count": 9,
     "metadata": {},
     "output_type": "execute_result"
    }
   ],
   "source": [
    "x_clean2.head()"
   ]
  },
  {
   "cell_type": "code",
   "execution_count": 10,
   "metadata": {},
   "outputs": [
    {
     "data": {
      "text/plain": [
       "<matplotlib.axes._subplots.AxesSubplot at 0x1712b43ee10>"
      ]
     },
     "execution_count": 10,
     "metadata": {},
     "output_type": "execute_result"
    },
    {
     "data": {
      "image/png": "[encoded data removed]",
      "text/plain": [
       "<matplotlib.figure.Figure at 0x1712b397860>"
      ]
     },
     "metadata": {},
     "output_type": "display_data"
    }
   ],
   "source": [
    "# comparing coeff of not-standarized data with standardized data.\n",
    "fig, (ax1, ax2) = plt.subplots(ncols=2, sharey=True)\n",
    "#https://stackoverflow.com/questions/33049884/how-to-plot-2-seaborn-lmplots-side-by-side\n",
    "sns.regplot(x='C(Pclass)[T.3]', y='C(Sex)[T.male]', data=X, ci=None, ax=ax1)\n",
    "sns.regplot(x='C(Pclass)[T.3]', y='C(Sex)[T.male]', data=x_clean2, ci=None, ax = ax2)\n",
    "#sns.lmplot(x='C(Pclass)[T.3]', y='C(Sex)[T.male]', data=X, ci=None)\n",
    "#sns.lmplot(x='C(Pclass)[T.3]', y='C(Sex)[T.male]', data=x_clean2, ci=None)"
   ]
  },
  {
   "cell_type": "code",
   "execution_count": 11,
   "metadata": {},
   "outputs": [],
   "source": [
    "##correlations dataframe and pair plots\n",
    "#x_clean2.corr()\n",
    "####scatter plots #http://seaborn.pydata.org/generated/seaborn.pairplot.html\n",
    "#sns.pairplot(x_clean2)\n",
    "\n",
    "### corrfunc (due to peason)only works with continuous data\n",
    "###https://stackoverflow.com/questions/30942577/seaborn-correlation-coefficient-on-pairgrid\n",
    "# def corrfunc(x, y, **kws):\n",
    "#     r, _ = stats.pearsonr(x, y)\n",
    "#     ax = plt.gca()\n",
    "#     ax.annotate(\"r = {:.2f}\".format(r),\n",
    "#                 xy=(.1, .9), xycoords=ax.transAxes)\n",
    "\n",
    "# g = sns.PairGrid(x_clean2, palette=[\"red\"])\n",
    "# g.map_upper(plt.scatter, s=10)\n",
    "# g.map_diag(sns.distplot, kde=False)\n",
    "# g.map_lower(sns.kdeplot, cmap=\"Blues_d\")\n",
    "# g.map_lower(corrfunc)"
   ]
  },
  {
   "cell_type": "code",
   "execution_count": 12,
   "metadata": {},
   "outputs": [
    {
     "name": "stdout",
     "output_type": "stream",
     "text": [
      "[[ 0.         -0.50091344 -1.29824173 -1.17896865 -0.5679758 ]]\n"
     ]
    }
   ],
   "source": [
    "# build our initial model with Regularization\n",
    "\n",
    "#### Regularization ####\n",
    "#L1 LASSO (absoute sum of errors) weak coef goes to zero\n",
    "#L2 RIDGE (squared sum of errors)\n",
    "lr = LogisticRegression('l1')\n",
    "lr.fit(X_clean, y)\n",
    "print (lr.coef_)"
   ]
  },
  {
   "cell_type": "markdown",
   "metadata": {},
   "source": [
    "# METRICS"
   ]
  },
  {
   "cell_type": "code",
   "execution_count": 13,
   "metadata": {},
   "outputs": [
    {
     "name": "stdout",
     "output_type": "stream",
     "text": [
      "             precision    recall  f1-score   support\n",
      "\n",
      "        0.0       0.82      0.85      0.84       397\n",
      "        1.0       0.76      0.73      0.75       265\n",
      "\n",
      "avg / total       0.80      0.80      0.80       662\n",
      "\n"
     ]
    }
   ],
   "source": [
    "from sklearn.metrics import f1_score ,accuracy_score,confusion_matrix,classification_report,log_loss\n",
    "print(classification_report(y, lr.predict(x_clean2)))"
   ]
  },
  {
   "cell_type": "markdown",
   "metadata": {},
   "source": [
    "- ### Confusion Matrix"
   ]
  },
  {
   "cell_type": "code",
   "execution_count": 14,
   "metadata": {},
   "outputs": [
    {
     "name": "stdout",
     "output_type": "stream",
     "text": [
      "\n",
      " [[337  60]\n",
      " [ 72 193]] \n",
      "\n",
      " or \n",
      "\n",
      " col_0  0.0  1.0\n",
      "row_0          \n",
      "0.0    337   72\n",
      "1.0     60  193 \n",
      "\n",
      " or\n"
     ]
    },
    {
     "data": {
      "text/html": [
       "<div>\n",
       "<table border=\"1\" class=\"dataframe\">\n",
       "  <thead>\n",
       "    <tr style=\"text-align: right;\">\n",
       "      <th>Actual</th>\n",
       "      <th>0.0</th>\n",
       "      <th>1.0</th>\n",
       "    </tr>\n",
       "    <tr>\n",
       "      <th>Pred</th>\n",
       "      <th></th>\n",
       "      <th></th>\n",
       "    </tr>\n",
       "  </thead>\n",
       "  <tbody>\n",
       "    <tr>\n",
       "      <th>0.0</th>\n",
       "      <td>337</td>\n",
       "      <td>72</td>\n",
       "    </tr>\n",
       "    <tr>\n",
       "      <th>1.0</th>\n",
       "      <td>60</td>\n",
       "      <td>193</td>\n",
       "    </tr>\n",
       "  </tbody>\n",
       "</table>\n",
       "</div>"
      ],
      "text/plain": [
       "Actual  0.0  1.0\n",
       "Pred            \n",
       "0.0     337   72\n",
       "1.0      60  193"
      ]
     },
     "execution_count": 14,
     "metadata": {},
     "output_type": "execute_result"
    }
   ],
   "source": [
    "print(\"\\n\",confusion_matrix(y, lr.predict(x_clean2)),\"\\n\\n or \\n\\n\"\n",
    "#pandas crosstab accepts Arrays\n",
    ",pd.crosstab(lr.predict(x_clean2),y),\"\\n\\n or\")\n",
    "\n",
    "fin2 = pd.DataFrame([lr.predict(x_clean2),y], index=['Pred','Actual']).T\n",
    "\n",
    "pd.crosstab(fin2['Pred'],fin2['Actual'])"
   ]
  },
  {
   "cell_type": "code",
   "execution_count": 15,
   "metadata": {},
   "outputs": [
    {
     "name": "stdout",
     "output_type": "stream",
     "text": [
      "Accuracy: 0.800604229607 \n",
      " Accuracy: 0.800604229607 \n",
      " Precision: 0.762845849802 \n",
      " Recall/Sensitivity: 0.728301886792 \n",
      " Specificity: 0.848866498741 \n",
      " F1-Score: 0.745173745174\n"
     ]
    }
   ],
   "source": [
    "#https://en.wikipedia.org/wiki/Precision_and_recall\n",
    "#https://www.quora.com/What-is-the-best-way-to-understand-the-terms-precision-and-recall\n",
    "print('Accuracy:',(lr.predict(x_clean2)==y).mean(),'\\n', #Accuracy\n",
    "      'Accuracy:',accuracy_score(y, lr.predict(x_clean2)),'\\n' #Accuracy\n",
    ",'Precision:',((lr.predict(x_clean2)==y)&(y==1)).sum()/(lr.predict(x_clean2)).sum(),'\\n'\n",
    "# Precision\n",
    ",'Recall/Sensitivity:',((lr.predict(x_clean2)==y)&(y==1)).sum()/(y[y==1]).sum(),'\\n'\n",
    "#Recall or Sensitivity\n",
    ",'Specificity:',((lr.predict(x_clean2)==y)&(y==0)).sum() /len(y[y==0]),'\\n'\n",
    "#Specificity or True negative/ConditionNegative or Negative Recall\n",
    ",'F1-Score:',(2*( (((lr.predict(x_clean2)==y)&(y==1)).sum()/(y[y==1]).sum())\\\n",
    "      *(((lr.predict(x_clean2)==y)&(y==1)).sum()/(lr.predict(x_clean2)).sum())))/\\\n",
    "      ( (((lr.predict(x_clean2)==y)&(y==1)).sum()/(y[y==1]).sum())\\\n",
    "      +(((lr.predict(x_clean2)==y)&(y==1)).sum()/(lr.predict(x_clean2)).sum())))\n",
    "#F1-Score (2*Precision*Recall)/(Precision+Recall)"
   ]
  },
  {
   "cell_type": "markdown",
   "metadata": {},
   "source": [
    "# Predictions"
   ]
  },
  {
   "cell_type": "code",
   "execution_count": 16,
   "metadata": {},
   "outputs": [
    {
     "name": "stderr",
     "output_type": "stream",
     "text": [
      "C:\\Users\\hvill\\Anaconda3\\lib\\site-packages\\sklearn\\preprocessing\\data.py:646: DeprecationWarning: Passing 1d arrays as data is deprecated in 0.17 and will raise ValueError in 0.19. Reshape your data either using X.reshape(-1, 1) if your data has a single feature or X.reshape(1, -1) if it contains a single sample.\n",
      "  warnings.warn(DEPRECATION_MSG_1D, DeprecationWarning)\n"
     ]
    },
    {
     "data": {
      "text/plain": [
       "array([[ 0.04992398,  0.95007602]])"
      ]
     },
     "execution_count": 16,
     "metadata": {},
     "output_type": "execute_result"
    }
   ],
   "source": [
    "# a sparse girl\n",
    "girl = [1., 0., 0., 0., 21.]\n",
    "girl = scaler.fit(X).transform(girl)\n",
    "lr.predict_proba(girl.reshape(1,-1))"
   ]
  },
  {
   "cell_type": "code",
   "execution_count": 17,
   "metadata": {},
   "outputs": [
    {
     "name": "stdout",
     "output_type": "stream",
     "text": [
      "[ 0.         -0.55059023 -1.0121585  -1.33473316 -0.59550826]\n"
     ]
    }
   ],
   "source": [
    "print(girl)"
   ]
  },
  {
   "cell_type": "code",
   "execution_count": 18,
   "metadata": {},
   "outputs": [
    {
     "data": {
      "text/plain": [
       "array([-0.55562675])"
      ]
     },
     "execution_count": 18,
     "metadata": {},
     "output_type": "execute_result"
    }
   ],
   "source": [
    "lr.intercept_"
   ]
  },
  {
   "cell_type": "code",
   "execution_count": 19,
   "metadata": {},
   "outputs": [
    {
     "data": {
      "text/plain": [
       "array([ 0.        , -0.50091344, -1.29824173, -1.17896865, -0.5679758 ])"
      ]
     },
     "execution_count": 19,
     "metadata": {},
     "output_type": "execute_result"
    }
   ],
   "source": [
    "lr.coef_[0]"
   ]
  },
  {
   "cell_type": "markdown",
   "metadata": {},
   "source": [
    "- ### Manually Calculate Prediction"
   ]
  },
  {
   "cell_type": "code",
   "execution_count": 20,
   "metadata": {},
   "outputs": [
    {
     "name": "stdout",
     "output_type": "stream",
     "text": [
      "Log odds are ...[ 2.94598122]\n",
      "Odds of survival are ...[ 19.0293252]\n",
      "Probablity of survival is ....[ 0.95007321]\n"
     ]
    }
   ],
   "source": [
    "#Add intercept + coefficients*StandardizedValues = Logodds of New values\n",
    "logodds = lr.intercept_ +(-0.50089255* -0.55059023)+(-1.2981623*-1.0121585)+(-1.1789864*-1.33473316)+\\\n",
    "(-0.56799074* -0.59550826)\n",
    "print('Log odds are ...'+str(logodds))\n",
    "\n",
    "#Convert log-odds to jusst odds\n",
    "odds = np.exp(logodds)\n",
    "print('Odds of survival are ...'+str(odds))\n",
    "#Pass through sigmoid function or pass through link function to get Probability\n",
    "prob = odds/(1 + odds)\n",
    "print('Probablity of survival is ....'+str(prob))"
   ]
  },
  {
   "cell_type": "markdown",
   "metadata": {},
   "source": [
    "- ### Use a function to Calculate Prediction"
   ]
  },
  {
   "cell_type": "code",
   "execution_count": 21,
   "metadata": {
    "collapsed": true
   },
   "outputs": [],
   "source": [
    "def sigmoid(x):\n",
    "    return 1/(1+np.e**(-x))"
   ]
  },
  {
   "cell_type": "code",
   "execution_count": 22,
   "metadata": {},
   "outputs": [
    {
     "name": "stdout",
     "output_type": "stream",
     "text": [
      "Probablity of survival is ...[ 0.95007602]\n"
     ]
    }
   ],
   "source": [
    "print('Probablity of survival is ...'+str(sigmoid( np.dot(girl, lr.coef_.T) + lr.intercept_ )))"
   ]
  },
  {
   "cell_type": "markdown",
   "metadata": {},
   "source": [
    "- ### Use sklearn predict method"
   ]
  },
  {
   "cell_type": "code",
   "execution_count": 23,
   "metadata": {},
   "outputs": [
    {
     "name": "stdout",
     "output_type": "stream",
     "text": [
      "Probablity of survival is ...[ 0.95007602]\n"
     ]
    }
   ],
   "source": [
    "# compute predicted probability for al=2 using the predict_proba method\n",
    "print('Probablity of survival is ...'+str(lr.predict_proba(girl.reshape(1,-1))[:, 1]))"
   ]
  },
  {
   "cell_type": "markdown",
   "metadata": {},
   "source": [
    "# Fit without a bias term (intercept)"
   ]
  },
  {
   "cell_type": "code",
   "execution_count": 24,
   "metadata": {},
   "outputs": [
    {
     "data": {
      "text/html": [
       "<div>\n",
       "<table border=\"1\" class=\"dataframe\">\n",
       "  <thead>\n",
       "    <tr style=\"text-align: right;\">\n",
       "      <th></th>\n",
       "      <th>C(Pclass)[T.2]</th>\n",
       "      <th>C(Pclass)[T.3]</th>\n",
       "      <th>C(Sex)[T.male]</th>\n",
       "      <th>Age</th>\n",
       "    </tr>\n",
       "  </thead>\n",
       "  <tbody>\n",
       "    <tr>\n",
       "      <th>0</th>\n",
       "      <td>0.0</td>\n",
       "      <td>1.0</td>\n",
       "      <td>0.0</td>\n",
       "      <td>22.0</td>\n",
       "    </tr>\n",
       "    <tr>\n",
       "      <th>1</th>\n",
       "      <td>1.0</td>\n",
       "      <td>0.0</td>\n",
       "      <td>0.0</td>\n",
       "      <td>29.0</td>\n",
       "    </tr>\n",
       "    <tr>\n",
       "      <th>2</th>\n",
       "      <td>0.0</td>\n",
       "      <td>1.0</td>\n",
       "      <td>1.0</td>\n",
       "      <td>20.0</td>\n",
       "    </tr>\n",
       "    <tr>\n",
       "      <th>3</th>\n",
       "      <td>0.0</td>\n",
       "      <td>1.0</td>\n",
       "      <td>1.0</td>\n",
       "      <td>30.0</td>\n",
       "    </tr>\n",
       "    <tr>\n",
       "      <th>4</th>\n",
       "      <td>0.0</td>\n",
       "      <td>1.0</td>\n",
       "      <td>1.0</td>\n",
       "      <td>26.0</td>\n",
       "    </tr>\n",
       "  </tbody>\n",
       "</table>\n",
       "</div>"
      ],
      "text/plain": [
       "   C(Pclass)[T.2]  C(Pclass)[T.3]  C(Sex)[T.male]   Age\n",
       "0             0.0             1.0             0.0  22.0\n",
       "1             1.0             0.0             0.0  29.0\n",
       "2             0.0             1.0             1.0  20.0\n",
       "3             0.0             1.0             1.0  30.0\n",
       "4             0.0             1.0             1.0  26.0"
      ]
     },
     "execution_count": 24,
     "metadata": {},
     "output_type": "execute_result"
    }
   ],
   "source": [
    "#Used X Dataframe of raw data (Not Standardized Only Dummy/One-Hot encoded)\n",
    "XX = X.copy()\n",
    "del XX['Intercept']\n",
    "XX.head()"
   ]
  },
  {
   "cell_type": "code",
   "execution_count": 25,
   "metadata": {},
   "outputs": [
    {
     "data": {
      "text/html": [
       "<div>\n",
       "<table border=\"1\" class=\"dataframe\">\n",
       "  <thead>\n",
       "    <tr style=\"text-align: right;\">\n",
       "      <th></th>\n",
       "      <th>0</th>\n",
       "      <th>1</th>\n",
       "      <th>2</th>\n",
       "      <th>3</th>\n",
       "    </tr>\n",
       "  </thead>\n",
       "  <tbody>\n",
       "    <tr>\n",
       "      <th>0</th>\n",
       "      <td>-0.550590</td>\n",
       "      <td>0.987988</td>\n",
       "      <td>-1.334733</td>\n",
       "      <td>-0.526716</td>\n",
       "    </tr>\n",
       "    <tr>\n",
       "      <th>1</th>\n",
       "      <td>1.816233</td>\n",
       "      <td>-1.012159</td>\n",
       "      <td>-1.334733</td>\n",
       "      <td>-0.045169</td>\n",
       "    </tr>\n",
       "    <tr>\n",
       "      <th>2</th>\n",
       "      <td>-0.550590</td>\n",
       "      <td>0.987988</td>\n",
       "      <td>0.749213</td>\n",
       "      <td>-0.664301</td>\n",
       "    </tr>\n",
       "    <tr>\n",
       "      <th>3</th>\n",
       "      <td>-0.550590</td>\n",
       "      <td>0.987988</td>\n",
       "      <td>0.749213</td>\n",
       "      <td>0.023623</td>\n",
       "    </tr>\n",
       "    <tr>\n",
       "      <th>4</th>\n",
       "      <td>-0.550590</td>\n",
       "      <td>0.987988</td>\n",
       "      <td>0.749213</td>\n",
       "      <td>-0.251546</td>\n",
       "    </tr>\n",
       "  </tbody>\n",
       "</table>\n",
       "</div>"
      ],
      "text/plain": [
       "          0         1         2         3\n",
       "0 -0.550590  0.987988 -1.334733 -0.526716\n",
       "1  1.816233 -1.012159 -1.334733 -0.045169\n",
       "2 -0.550590  0.987988  0.749213 -0.664301\n",
       "3 -0.550590  0.987988  0.749213  0.023623\n",
       "4 -0.550590  0.987988  0.749213 -0.251546"
      ]
     },
     "execution_count": 25,
     "metadata": {},
     "output_type": "execute_result"
    }
   ],
   "source": [
    "# standardize the features since regularization requires all features to be on same scale\n",
    "scaler = StandardScaler(copy=True)\n",
    "# we have created a standardization based on the training data\n",
    "XX = scaler.fit(XX).transform(XX)\n",
    "#XX is now an Array\n",
    "pd.DataFrame(XX).head()"
   ]
  },
  {
   "cell_type": "code",
   "execution_count": 26,
   "metadata": {},
   "outputs": [
    {
     "name": "stdout",
     "output_type": "stream",
     "text": [
      "[[-0.5130566  -1.24587951 -1.18690582 -0.5391656 ]]\n"
     ]
    },
    {
     "name": "stderr",
     "output_type": "stream",
     "text": [
      "C:\\Users\\hvill\\Anaconda3\\lib\\site-packages\\sklearn\\utils\\validation.py:515: DataConversionWarning: A column-vector y was passed when a 1d array was expected. Please change the shape of y to (n_samples, ), for example using ravel().\n",
      "  y = column_or_1d(y, warn=True)\n"
     ]
    }
   ],
   "source": [
    "# build our initial model\n",
    "# sklearn by default fits an intercept\n",
    "# set fit_intercept = False\n",
    "\n",
    "#L1 LASSO Regularization (append sum of absolute error) weak coeff drop to 0.\n",
    "lr1 = LogisticRegression('l1',fit_intercept=False)\n",
    "# fit method also accepts DataFrames\n",
    "lr1.fit(pd.DataFrame(XX),pd.DataFrame(y) )\n",
    "print (lr1.coef_)"
   ]
  },
  {
   "cell_type": "code",
   "execution_count": 27,
   "metadata": {},
   "outputs": [
    {
     "data": {
      "text/plain": [
       "0.0"
      ]
     },
     "execution_count": 27,
     "metadata": {},
     "output_type": "execute_result"
    }
   ],
   "source": [
    "lr1.intercept_"
   ]
  },
  {
   "cell_type": "code",
   "execution_count": 28,
   "metadata": {},
   "outputs": [
    {
     "data": {
      "text/plain": [
       "(array([ 0.        , -0.50091344, -1.29824173, -1.17896865, -0.5679758 ]),\n",
       " 'coef of previous model (with intercept) vs new model (without intercept)',\n",
       " array([[-0.5130566 , -1.24587951, -1.18690582, -0.5391656 ]]))"
      ]
     },
     "execution_count": 28,
     "metadata": {},
     "output_type": "execute_result"
    }
   ],
   "source": [
    "lr.coef_[0],\\\n",
    "'coef of previous model (with intercept) vs new model (without intercept)',lr1.coef_"
   ]
  },
  {
   "cell_type": "code",
   "execution_count": 29,
   "metadata": {},
   "outputs": [],
   "source": [
    "fin = pd.DataFrame([lr1.predict(XX),y], index=['Pred','Actual']).T"
   ]
  },
  {
   "cell_type": "code",
   "execution_count": 30,
   "metadata": {},
   "outputs": [
    {
     "data": {
      "text/html": [
       "<div>\n",
       "<table border=\"1\" class=\"dataframe\">\n",
       "  <thead>\n",
       "    <tr style=\"text-align: right;\">\n",
       "      <th>Actual</th>\n",
       "      <th>0.0</th>\n",
       "      <th>1.0</th>\n",
       "    </tr>\n",
       "    <tr>\n",
       "      <th>Pred</th>\n",
       "      <th></th>\n",
       "      <th></th>\n",
       "    </tr>\n",
       "  </thead>\n",
       "  <tbody>\n",
       "    <tr>\n",
       "      <th>0.0</th>\n",
       "      <td>302</td>\n",
       "      <td>51</td>\n",
       "    </tr>\n",
       "    <tr>\n",
       "      <th>1.0</th>\n",
       "      <td>95</td>\n",
       "      <td>214</td>\n",
       "    </tr>\n",
       "  </tbody>\n",
       "</table>\n",
       "</div>"
      ],
      "text/plain": [
       "Actual  0.0  1.0\n",
       "Pred            \n",
       "0.0     302   51\n",
       "1.0      95  214"
      ]
     },
     "execution_count": 30,
     "metadata": {},
     "output_type": "execute_result"
    }
   ],
   "source": [
    "pd.crosstab(fin['Pred'],fin['Actual'])"
   ]
  },
  {
   "cell_type": "code",
   "execution_count": 31,
   "metadata": {},
   "outputs": [
    {
     "data": {
      "text/plain": [
       "0.77945619335347427"
      ]
     },
     "execution_count": 31,
     "metadata": {},
     "output_type": "execute_result"
    }
   ],
   "source": [
    "(lr1.predict(XX)==y).mean() ##accuracy"
   ]
  },
  {
   "cell_type": "code",
   "execution_count": 32,
   "metadata": {},
   "outputs": [
    {
     "data": {
      "text/plain": [
       "array([ 0.96919508])"
      ]
     },
     "execution_count": 32,
     "metadata": {},
     "output_type": "execute_result"
    }
   ],
   "source": [
    "# prediction of girl\n",
    "sigmoid( np.dot(girl[1:], lr1.coef_.T) + lr1.intercept_ )"
   ]
  },
  {
   "cell_type": "markdown",
   "metadata": {},
   "source": [
    "# CostFunction & Optimizer"
   ]
  },
  {
   "cell_type": "code",
   "execution_count": 33,
   "metadata": {
    "collapsed": true
   },
   "outputs": [],
   "source": [
    "#Ignoring the regularization, the cost function for logistic regression is logloss\n",
    "#logloss is similar to cross entropy and maximum likelihood\n",
    "\n",
    "#below we manually compute logloss and manually optimize for best coeff (betas)"
   ]
  },
  {
   "cell_type": "code",
   "execution_count": 34,
   "metadata": {
    "collapsed": true
   },
   "outputs": [],
   "source": [
    "#Give a beta0 and betoa1 -0.9, 0.1\n",
    "#b0=-0.99\n",
    "#b1=0.14\n",
    "b0 = 0.37296654876\n",
    "b1 = 0.60609744787\n",
    "\n",
    "b0 = -0.92\n",
    "b1 = 0.75\n",
    "b0 = -0.780931128764\n",
    "b1 = 0.889068871236\n",
    "\n",
    "#b0=-0.89679838  \n",
    "#b1=0.1487704\n",
    "\n",
    "\n",
    "rawdata = [21,2,5,31,10,0.34,.23]#Actual Variables x1 only 1 variable in this example\n",
    "test_P=[]"
   ]
  },
  {
   "cell_type": "code",
   "execution_count": 35,
   "metadata": {},
   "outputs": [],
   "source": [
    "#Calculate Probability through the logit function\n",
    "for data in rawdata:\n",
    "    P = (np.exp(1)**(b0+b1*data))/(1+np.exp(1)**(b0+b1*data))\n",
    "    test_P.append(P)#suggested probability"
   ]
  },
  {
   "cell_type": "code",
   "execution_count": 36,
   "metadata": {},
   "outputs": [
    {
     "data": {
      "text/plain": [
       "[(0.99999998299086335, 1.700913665469983e-08),\n",
       " (0.73050901119766931, 0.26949098880233069),\n",
       " (0.97502074889964796, 0.02497925110035204),\n",
       " (0.99999999999765843, 2.3415713812369177e-12),\n",
       " (0.9996994985955111, 0.0003005014044888954),\n",
       " (0.38257149902640741, 0.61742850097359259),\n",
       " (0.35975094226475329, 0.64024905773524665)]"
      ]
     },
     "execution_count": 36,
     "metadata": {},
     "output_type": "execute_result"
    }
   ],
   "source": [
    "[ (P,1-P) for P in test_P] #Predictions. Predict probability of 1."
   ]
  },
  {
   "cell_type": "code",
   "execution_count": 37,
   "metadata": {},
   "outputs": [
    {
     "name": "stdout",
     "output_type": "stream",
     "text": [
      "The Logloss is ... 14.0390782585\n",
      "The Logloss is ... 14.147216001\n"
     ]
    },
    {
     "data": {
      "text/plain": [
       "14.039078258491985"
      ]
     },
     "execution_count": 37,
     "metadata": {},
     "output_type": "execute_result"
    }
   ],
   "source": [
    "#### Calculate Cost function Given Predictions\n",
    "####  which is probability of 1 Given b0,b1 entered above ##########\n",
    "\n",
    "##Calculate log losss then minimize\n",
    "target_list=[1,0,0,1,0,0,0] #the target given the variables from rawdata\n",
    "fin=[]\n",
    "nz = .000000000000001\n",
    "for target,PredictionProbability in zip(target_list,test_P):\n",
    "    fin.append((target*np.log(PredictionProbability+nz) + (1-target)*np.log(1-PredictionProbability+nz)))\n",
    "print('The Logloss is ... '+str(-1*sum(fin))) #LogLoss\n",
    "print('The Logloss is ... '+str(-1*sum(fin)+(b0+b1))) #LogLoss but with L1 regularization?\n",
    "#http://www.chioka.in/differences-between-l1-and-l2-as-loss-function-and-regularization/\n",
    "log_loss(target_list,test_P,normalize=False)\n",
    "#2.9245329377547962\n",
    "#2.7279212507689738.....b0=-0.9,b1 = 0.1"
   ]
  },
  {
   "cell_type": "code",
   "execution_count": 38,
   "metadata": {},
   "outputs": [
    {
     "name": "stdout",
     "output_type": "stream",
     "text": [
      "derivative logloss is...-3.06511088331 -0.43787298333\n"
     ]
    }
   ],
   "source": [
    "#derivative of log loss\n",
    "#Give a beta0 and betoa1\n",
    "\n",
    "deriv_finX1=[]\n",
    "deriv_finX0=[]\n",
    "b0=b0\n",
    "b1=b1\n",
    "for act,data in zip(target_list,rawdata):\n",
    "    deriv_finX1.append(((act*b1)/(1+np.exp(1)**(b0+b1*data))) - ((b1*np.exp(1)**(b0+b1*data)-act*b1*np.exp(1)**(b0+b1*data))/\\\n",
    "                                                        (1+np.exp(1)**(b0+b1*data))))\n",
    "print('derivative logloss is...'+str(sum(deriv_finX1)),sum(deriv_finX1)/len(rawdata))# <- for mean logloss is actual logloss a mean?\n",
    "#http://www.exegetic.biz/blog/2015/12/making-sense-logarithmic-loss/\n",
    "#log_loss(target,PredictionProbability,normalize=False)"
   ]
  },
  {
   "cell_type": "code",
   "execution_count": 39,
   "metadata": {},
   "outputs": [
    {
     "name": "stdout",
     "output_type": "stream",
     "text": [
      "1 - 0.999999982991  *  21  =  3.57191869749e-07\n",
      "0 - 0.730509011198  *  2  =  -1.4610180224\n",
      "0 - 0.9750207489  *  5  =  -4.8751037445\n",
      "1 - 0.999999999998  *  31  =  7.25887128183e-11\n",
      "0 - 0.999699498596  *  10  =  -9.99699498596\n",
      "0 - 0.382571499026  *  0.34  =  -0.130074309669\n",
      "0 - 0.359750942265  *  0.23  =  -0.0827427167209\n",
      "-0.492507383282 -3.44755168297 -2.36370477457 -16.545933422\n"
     ]
    }
   ],
   "source": [
    "#new derivative\n",
    "#https://math.stackexchange.com/questions/477207/derivative-of-cost-function-for-logistic-regression\n",
    "intercept = [1]*len(rawdata)\n",
    "#for act,data in zip(target_list,rawdata,intercept):\n",
    "dev0 = []\n",
    "dev1 = []\n",
    "for act,p,data,ones in zip(target_list,test_P,rawdata,intercept):\n",
    "    dev0.append((act-p)*ones)\n",
    "    dev1.append((act-p)*data)\n",
    "    print(act,'-',p,' * ',data,' = ',(act-p)*data)\n",
    "print(sum(dev0)/len(rawdata),sum(dev0),sum(dev1)/len(rawdata),sum(dev1))"
   ]
  },
  {
   "cell_type": "code",
   "execution_count": 40,
   "metadata": {},
   "outputs": [
    {
     "name": "stdout",
     "output_type": "stream",
     "text": [
      "b0 = -0.830181867092\n",
      "b1 = 0.652698393779\n",
      "\n",
      "\n"
     ]
    }
   ],
   "source": [
    "alpha =0.1\n",
    "# print('b0 =',b0-alpha*(sum(deriv_fin)+(b0+b1)))#,sum(new_b0))\n",
    "# print('b1 =',b1-alpha*(sum(deriv_finX1)+(b0+b1)))\n",
    "print('b0 =',b0+alpha*(sum(dev0)/(len(rawdata) )))#,sum(new_b0))\n",
    "print('b1 =',b1+alpha*(sum(dev1)/(len(rawdata) )))\n",
    "print('\\n')\n",
    "#why divide derivative by number of number of rows???? and \n",
    "#switched update to plus(+)? thought we wanted (-) always\n",
    "#how do I add L1 or L2 regularizer?? 1/#of rows + sum(betas)??"
   ]
  },
  {
   "cell_type": "code",
   "execution_count": 41,
   "metadata": {},
   "outputs": [
    {
     "data": {
      "text/plain": [
       "(-0.780931128764, 0.889068871236)"
      ]
     },
     "execution_count": 41,
     "metadata": {},
     "output_type": "execute_result"
    }
   ],
   "source": [
    "b0 , b1"
   ]
  },
  {
   "cell_type": "code",
   "execution_count": 42,
   "metadata": {
    "collapsed": true
   },
   "outputs": [],
   "source": [
    "#update statement not sure which update statement ?? \n",
    "#http://iamtrask.github.io/2015/07/27/python-network-part2/\n",
    "#http://machinelearningmastery.com/logistic-regression-tutorial-for-machine-learning/\n",
    "#http://www.exegetic.biz/blog/2015/12/making-sense-logarithmic-loss/\n",
    "#http://www.cbcb.umd.edu/~hcorrada/PML/homeworks/HW04_solutions.pdf\n",
    "#http://www.robots.ox.ac.uk/~az/lectures/ml/2011/lect4.pdf\n"
   ]
  },
  {
   "cell_type": "code",
   "execution_count": 191,
   "metadata": {},
   "outputs": [
    {
     "name": "stdout",
     "output_type": "stream",
     "text": [
      "[[-0.89679838  0.1487704 ]] [-0.89679838]\n"
     ]
    }
   ],
   "source": [
    "#### Optimizer of Costfunction Given :b01,b1, derivative of logloss and learning rate ######\n",
    "\n",
    "#b0=b0+alpha*(y-prediction)*prediction*(1-prediction)*x0\n",
    "#b1=b1+alpha*(y-prediction)*prediction*(1-prediction)*x1\n",
    "\n",
    "#ANSWER KEY WHAT coeff should be\n",
    "exampl = pd.DataFrame.from_dict({'x':rawdata,'y':target_list})\n",
    "y4, X4 = dmatrices('y ~ x', exampl, return_type='dataframe')\n",
    "# flatten y so we can incorporate in sklearn functions\n",
    "y4 = np.ravel(y4)\n",
    "# lr1 = LogisticRegression(C=1.0, class_weight=None, dual=False, fit_intercept=True,\n",
    "#           intercept_scaling=1, max_iter=1000, multi_class='ovr', n_jobs=1,\n",
    "#           penalty='l1', random_state=None, solver='liblinear', tol=0.0001,\n",
    "#           verbose=0, warm_start=False)\n",
    "lr1 = LogisticRegression(max_iter=1000,fit_intercept=True,penalty ='l2',solver='liblinear',tol=.0001)\n",
    "lr1.fit(X4,y4 )\n",
    "print (lr1.coef_,lr1.intercept_)\n",
    "#try other cofficients to see if you can do better sklearn"
   ]
  },
  {
   "cell_type": "code",
   "execution_count": 44,
   "metadata": {},
   "outputs": [
    {
     "data": {
      "text/html": [
       "<div>\n",
       "<table border=\"1\" class=\"dataframe\">\n",
       "  <thead>\n",
       "    <tr style=\"text-align: right;\">\n",
       "      <th></th>\n",
       "      <th>Intercept</th>\n",
       "      <th>x</th>\n",
       "    </tr>\n",
       "  </thead>\n",
       "  <tbody>\n",
       "    <tr>\n",
       "      <th>0</th>\n",
       "      <td>1.0</td>\n",
       "      <td>21.00</td>\n",
       "    </tr>\n",
       "    <tr>\n",
       "      <th>1</th>\n",
       "      <td>1.0</td>\n",
       "      <td>2.00</td>\n",
       "    </tr>\n",
       "    <tr>\n",
       "      <th>2</th>\n",
       "      <td>1.0</td>\n",
       "      <td>5.00</td>\n",
       "    </tr>\n",
       "    <tr>\n",
       "      <th>3</th>\n",
       "      <td>1.0</td>\n",
       "      <td>31.00</td>\n",
       "    </tr>\n",
       "    <tr>\n",
       "      <th>4</th>\n",
       "      <td>1.0</td>\n",
       "      <td>10.00</td>\n",
       "    </tr>\n",
       "    <tr>\n",
       "      <th>5</th>\n",
       "      <td>1.0</td>\n",
       "      <td>0.34</td>\n",
       "    </tr>\n",
       "    <tr>\n",
       "      <th>6</th>\n",
       "      <td>1.0</td>\n",
       "      <td>0.23</td>\n",
       "    </tr>\n",
       "  </tbody>\n",
       "</table>\n",
       "</div>"
      ],
      "text/plain": [
       "   Intercept      x\n",
       "0        1.0  21.00\n",
       "1        1.0   2.00\n",
       "2        1.0   5.00\n",
       "3        1.0  31.00\n",
       "4        1.0  10.00\n",
       "5        1.0   0.34\n",
       "6        1.0   0.23"
      ]
     },
     "execution_count": 44,
     "metadata": {},
     "output_type": "execute_result"
    }
   ],
   "source": [
    "#lr1\n",
    "#bet0, bet1\n",
    "X4"
   ]
  },
  {
   "cell_type": "code",
   "execution_count": 45,
   "metadata": {},
   "outputs": [],
   "source": [
    "##Probably dont need this\n",
    "#alpha =0.3\n",
    "#b0=\n",
    "#x0=1\n",
    "# new_b0=[]\n",
    "# new_b1=[]\n",
    "# for target,data,PredictionProbability in zip(target_list,rawdata,test_P):\n",
    "#     #new_b0.append(alpha*(target-PredictionProbability)*PredictionProbability*(1-PredictionProbability)*x0)\n",
    "#     new_b0.append(alpha*(b1*((target-1)*(np.exp(1)**(b0+b1*data))+target)/(np.exp(1)**(b0+b1*data)+1)))\n",
    "# #b1=\n",
    "#     #new_b1.append(alpha*(target-PredictionProbability)*PredictionProbability*(1-PredictionProbability)*data)\n",
    "#     new_b1.append(alpha*(b1*((target-1)*(np.exp(1)**(b0+b1*data))+target)/(np.exp(1)**(b0+b1*data)+1)))\n",
    "# if abs(sum(deriv_fin))<=0.0001:\n",
    "#     print('should\\'ve stopped betas good!\\n')\n",
    "# elif sum(deriv_fin)<0:\n",
    "#     print('b0 =',b0+sum(new_b0))#,sum(new_b0))\n",
    "#     print('b1 =',b1+sum(new_b1))#,sum(new_b1))\n",
    "#     print('\\n Slope is negative go forward')\n",
    "# elif sum(deriv_fin)>0:\n",
    "#     print('b0 =',b0-sum(new_b0))#,sum(new_b0))\n",
    "#     print('b1 =',b1-sum(new_b1))#,sum(new_b1))\n",
    "#     print('\\n Slope is positive go backward')"
   ]
  },
  {
   "cell_type": "code",
   "execution_count": 214,
   "metadata": {},
   "outputs": [],
   "source": [
    "newD = pd.DataFrame(rawdata,columns=['X1'])\n",
    "newD['intercept']=intercept\n",
    "newD['target_list'] = target_list"
   ]
  },
  {
   "cell_type": "code",
   "execution_count": 215,
   "metadata": {},
   "outputs": [
    {
     "data": {
      "text/html": [
       "<div>\n",
       "<table border=\"1\" class=\"dataframe\">\n",
       "  <thead>\n",
       "    <tr style=\"text-align: right;\">\n",
       "      <th></th>\n",
       "      <th>X1</th>\n",
       "      <th>intercept</th>\n",
       "      <th>target_list</th>\n",
       "    </tr>\n",
       "  </thead>\n",
       "  <tbody>\n",
       "    <tr>\n",
       "      <th>0</th>\n",
       "      <td>21.00</td>\n",
       "      <td>1</td>\n",
       "      <td>1</td>\n",
       "    </tr>\n",
       "    <tr>\n",
       "      <th>1</th>\n",
       "      <td>2.00</td>\n",
       "      <td>1</td>\n",
       "      <td>0</td>\n",
       "    </tr>\n",
       "    <tr>\n",
       "      <th>2</th>\n",
       "      <td>5.00</td>\n",
       "      <td>1</td>\n",
       "      <td>0</td>\n",
       "    </tr>\n",
       "    <tr>\n",
       "      <th>3</th>\n",
       "      <td>31.00</td>\n",
       "      <td>1</td>\n",
       "      <td>1</td>\n",
       "    </tr>\n",
       "    <tr>\n",
       "      <th>4</th>\n",
       "      <td>10.00</td>\n",
       "      <td>1</td>\n",
       "      <td>0</td>\n",
       "    </tr>\n",
       "    <tr>\n",
       "      <th>5</th>\n",
       "      <td>0.34</td>\n",
       "      <td>1</td>\n",
       "      <td>0</td>\n",
       "    </tr>\n",
       "    <tr>\n",
       "      <th>6</th>\n",
       "      <td>0.23</td>\n",
       "      <td>1</td>\n",
       "      <td>0</td>\n",
       "    </tr>\n",
       "  </tbody>\n",
       "</table>\n",
       "</div>"
      ],
      "text/plain": [
       "      X1  intercept  target_list\n",
       "0  21.00          1            1\n",
       "1   2.00          1            0\n",
       "2   5.00          1            0\n",
       "3  31.00          1            1\n",
       "4  10.00          1            0\n",
       "5   0.34          1            0\n",
       "6   0.23          1            0"
      ]
     },
     "execution_count": 215,
     "metadata": {},
     "output_type": "execute_result"
    }
   ],
   "source": [
    "newD"
   ]
  },
  {
   "cell_type": "code",
   "execution_count": 216,
   "metadata": {},
   "outputs": [],
   "source": [
    "# bet0= -0.5\n",
    "# bet1= 0.35\n",
    "# nn=1\n",
    "# #-0.89679838,  0.14877\n",
    "# beta0,beta1,logloss,accuracy,derivativeX0 =[],[],[],[],[]\n",
    "# derivativeX1,loglossM,derivativeX0M,derivativeX1M =[],[],[],[]\n",
    "# deriv_old=[]\n",
    "\n",
    "# for it in range(1000):\n",
    "# #MODEL output is Probability of 1\n",
    "#     beta0.append(bet0)\n",
    "#     beta1.append(bet1)\n",
    "    \n",
    "#     test_P=[]\n",
    "#     for data in newD['X1']:\n",
    "#         P = (np.exp(1)**(bet0+bet1*data))/(1+np.exp(1)**(bet0+bet1*data))\n",
    "#         test_P.append(P)\n",
    "#     fin=[]\n",
    "#     nz = .000000000000001\n",
    "\n",
    "#     #COST/LOSS FUNCTION #helps compare outcome vs other versions of model\n",
    "#     for target,PredictionProbability in zip(newD['target_list'],test_P):\n",
    "#         fin.append((target*np.log(PredictionProbability+nz) + (1-target)*np.log(1-PredictionProbability+nz)))\n",
    "#     #print('The Logloss is ... '+str(-1*sum(fin))) #LogLoss\n",
    "#     #print('The Logloss is ... '+str(-1*sum(fin)+(b0+b1)))\n",
    "#     logloss.append(-1*sum(fin))\n",
    "#     loglossM.append(-1*sum(fin)/len(rawdata))\n",
    "    \n",
    "#     #OLD DERIVATIVE\n",
    "#     deriv_finX1=[]\n",
    "#     b0=bet0\n",
    "#     b1=bet1\n",
    "#     for act,data in zip(newD['target_list'],newD['X1']):\n",
    "#         deriv_finX1.append(((act*bet1)/\\\n",
    "#                             (1+np.exp(1)**(bet0+bet1*data)))-((bet1*np.exp(1)**(bet0+bet1*data)-act*bet1*np.exp(1)**(bet0+bet1*data))/(1+np.exp(1)**(bet0+bet1*data))))\n",
    "        \n",
    "#     deriv_old.append(sum(deriv_finX1))#/len(rawdata))\n",
    "        \n",
    "#     #DERIVATIVE\n",
    "#     dev0 = []\n",
    "#     dev1 = []\n",
    "#     for act,p,data,ones in zip(newD['target_list'],test_P,newD['X1'],newD['intercept']):\n",
    "#         dev0.append((act-p)*ones)\n",
    "#         dev1.append((act-p)*data)\n",
    "#         #print(act,'-',p,' * ',data,' = ',(act-p)*data)\n",
    "#     #print(sum(dev0)/len(rawdata),sum(dev0),sum(dev1)/len(rawdata),sum(dev1))\n",
    "#     derivativeX0.append(sum(dev0))\n",
    "#     derivativeX0M.append(sum(dev0)/len(rawdata))\n",
    "#     derivativeX1.append(sum(dev1))\n",
    "#     derivativeX1M.append(sum(dev1)/len(rawdata))\n",
    "    \n",
    "#     #Pg24 #http://www.hlt.utdallas.edu/~vgogate/ml/2015s/lectures/lr-nb-lec6.pdf\n",
    "#     #UPDATE .01 is the difference\n",
    "#     alpha =1/1000\n",
    "\n",
    "    \n",
    "#     accu = [ 1 if x==i else 0 for (x,i) in zip([ 1 if v>.5 else 0 for v in test_P ],target_list)]\n",
    "#     accuracy.append(sum(accu)/len(accu))\n",
    "    \n",
    "#     lmda=1\n",
    "#     tolerance =.0001\n",
    "\n",
    "# #abs(sumdev1) converge condition\n",
    "#     if abs(sum(dev1))<tolerance:\n",
    "#         bet1=bet1\n",
    "#     else:\n",
    "#         bet1 = bet1+(alpha*(sum(dev1)-lmda/nn*2*(bet1)))#+abs(bet1)))#-(1*abs(bet1))))#/(len(rawdata) ))\n",
    "        \n",
    "#     if abs(sum(dev0))<tolerance:\n",
    "#         bet0=bet0\n",
    "#     else:\n",
    "#         bet0 = bet0+(alpha*(sum(dev0)-lmda/nn*2*(bet0)))#+abs(bet0)))#-(1*abs(bet0))))#/(len(rawdata) ))\n",
    "#     nn+=1\n",
    "#     #print(nn)\n",
    "# #got -2*lmda*bet1 from coursera below\n",
    "# #https://www.coursera.org/learn/ml-classification/lecture/4JxyQ/learning-l2-regularized-logistic-regression-with-gradient-ascent\n",
    "# #enter it results in dataframe"
   ]
  },
  {
   "cell_type": "code",
   "execution_count": 508,
   "metadata": {},
   "outputs": [],
   "source": [
    "bet0= 0\n",
    "bet1= 0\n",
    "nn=1\n",
    "#-0.89679838,  0.14877\n",
    "beta0,beta1,logloss,accuracy,derivativeX0 =[],[],[],[],[]\n",
    "derivativeX1,loglossM,derivativeX0M,derivativeX1M =[],[],[],[]\n",
    "deriv_old=[]\n",
    "\n",
    "for it in range(10000):\n",
    "#MODEL output is Probability of 1\n",
    "    beta0.append(bet0)\n",
    "    beta1.append(bet1)\n",
    "    \n",
    "    test_P=[]\n",
    "    for data in newD['X1']:\n",
    "        P = (1/(1+np.exp(1)**-(bet0+bet1*data)))\n",
    "        test_P.append(P)\n",
    "    fin=[]\n",
    "    nz = .000000000000001\n",
    "\n",
    "    #COST/LOSS FUNCTION #helps compare outcome vs other versions of model\n",
    "    for target,PredictionProbability in zip(newD['target_list'],test_P):\n",
    "        fin.append((target*np.log(PredictionProbability+nz) + (1-target)*np.log(1-PredictionProbability+nz)))\n",
    "    #print('The Logloss is ... '+str(-1*sum(fin))) #LogLoss\n",
    "    #print('The Logloss is ... '+str(-1*sum(fin)+(b0+b1)))\n",
    "    logloss.append(-1*sum(fin))\n",
    "    loglossM.append(-1*sum(fin)/len(rawdata))\n",
    "    \n",
    "    #OLD DERIVATIVE\n",
    "    deriv_finX1=[]\n",
    "    b0=bet0\n",
    "    b1=bet1\n",
    "    for act,data in zip(newD['target_list'],newD['X1']):\n",
    "        deriv_finX1.append(((act*bet1)/\\\n",
    "                            (1+np.exp(1)**(bet0+bet1*data)))-((bet1*np.exp(1)**(bet0+bet1*data)-act*bet1*np.exp(1)**(bet0+bet1*data))/(1+np.exp(1)**(bet0+bet1*data))))\n",
    "        \n",
    "    deriv_old.append(sum(deriv_finX1))#/len(rawdata))\n",
    "        \n",
    "    #DERIVATIVE\n",
    "    dev0 = []\n",
    "    dev1 = []\n",
    "    for act,p,data,ones in zip(newD['target_list'],test_P,newD['X1'],newD['intercept']):\n",
    "        dev0.append((act-p)*ones)\n",
    "        dev1.append((act-p)*data)\n",
    "        #print(act,'-',p,' * ',data,' = ',(act-p)*data)\n",
    "    #print(sum(dev0)/len(rawdata),sum(dev0),sum(dev1)/len(rawdata),sum(dev1))\n",
    "    derivativeX0.append(sum(dev0))\n",
    "    derivativeX0M.append(sum(dev0)/len(rawdata))\n",
    "    derivativeX1.append(sum(dev1))\n",
    "    derivativeX1M.append(sum(dev1)/len(rawdata))\n",
    "    \n",
    "    #Pg24 #http://www.hlt.utdallas.edu/~vgogate/ml/2015s/lectures/lr-nb-lec6.pdf\n",
    "    #UPDATE .01 is the difference\n",
    "    alpha =.01\n",
    "\n",
    "    \n",
    "    accu = [ 1 if x==i else 0 for (x,i) in zip([ 1 if v>.5 else 0 for v in test_P ],target_list)]\n",
    "    accuracy.append(sum(accu)/len(accu))\n",
    "    \n",
    "    lmda=1\n",
    "    tolerance =.0001\n",
    "\n",
    "#abs(sumdev1) converge condition\n",
    "    if abs(sum(dev1))<tolerance:\n",
    "        bet1=bet1\n",
    "    else:\n",
    "        bet1 = bet1+(alpha*(sum(dev1)-lmda*2*(bet1)))\n",
    "  \n",
    "    if abs(sum(dev0))<tolerance:\n",
    "        bet0=bet0\n",
    "    else:\n",
    "        bet0 = bet0+(alpha*(sum(dev0)-lmda*2*(bet0)))\n",
    "        \n",
    "    nn+=1\n",
    "    #print(nn)\n",
    "#got -2*lmda*bet1 from coursera below\n",
    "#https://www.coursera.org/learn/ml-classification/lecture/4JxyQ/learning-l2-regularized-logistic-regression-with-gradient-ascent\n",
    "#enter it results in dataframe"
   ]
  },
  {
   "cell_type": "code",
   "execution_count": 509,
   "metadata": {
    "scrolled": true
   },
   "outputs": [
    {
     "data": {
      "text/plain": [
       "(-0.79970907307980399, 0.073416530004566605)"
      ]
     },
     "execution_count": 509,
     "metadata": {},
     "output_type": "execute_result"
    }
   ],
   "source": [
    "bet0, bet1\n",
    "#sum(dev0),sum(dev1)"
   ]
  },
  {
   "cell_type": "code",
   "execution_count": 510,
   "metadata": {},
   "outputs": [],
   "source": [
    "end = pd.DataFrame({'beta0':beta0 ,\n",
    "'beta1':beta1 ,\n",
    "'logloss':logloss, \n",
    "'accuracy':accuracy ,\n",
    "'derivativeX0':derivativeX0, \n",
    "'derivativeX1':derivativeX1 ,\n",
    "'loglossM':loglossM ,\n",
    "'derivativeX0M':derivativeX0M, \n",
    "'derivativeX1M':derivativeX1M,\n",
    "'derivaive_old':deriv_old })"
   ]
  },
  {
   "cell_type": "code",
   "execution_count": 511,
   "metadata": {
    "collapsed": true
   },
   "outputs": [],
   "source": [
    "end.to_csv('logistic_results.csv')"
   ]
  },
  {
   "cell_type": "code",
   "execution_count": 512,
   "metadata": {},
   "outputs": [
    {
     "name": "stdout",
     "output_type": "stream",
     "text": [
      "[[-0.89679838  0.1487704 ]] [-0.89679838]\n"
     ]
    }
   ],
   "source": [
    "print(lr1.coef_,lr1.intercept_)\n",
    "#print(lr1.score) array([[-0.89679838,  0.1487704 ]])"
   ]
  },
  {
   "cell_type": "code",
   "execution_count": 513,
   "metadata": {},
   "outputs": [
    {
     "name": "stderr",
     "output_type": "stream",
     "text": [
      "C:\\Users\\hvill\\Anaconda3\\lib\\site-packages\\sklearn\\utils\\validation.py:386: DeprecationWarning: Passing 1d arrays as data is deprecated in 0.17 and willraise ValueError in 0.19. Reshape your data either using X.reshape(-1, 1) if your data has a single feature or X.reshape(1, -1) if it contains a single sample.\n",
      "  DeprecationWarning)\n",
      "C:\\Users\\hvill\\Anaconda3\\lib\\site-packages\\sklearn\\utils\\validation.py:386: DeprecationWarning: Passing 1d arrays as data is deprecated in 0.17 and willraise ValueError in 0.19. Reshape your data either using X.reshape(-1, 1) if your data has a single feature or X.reshape(1, -1) if it contains a single sample.\n",
      "  DeprecationWarning)\n",
      "C:\\Users\\hvill\\Anaconda3\\lib\\site-packages\\sklearn\\utils\\validation.py:386: DeprecationWarning: Passing 1d arrays as data is deprecated in 0.17 and willraise ValueError in 0.19. Reshape your data either using X.reshape(-1, 1) if your data has a single feature or X.reshape(1, -1) if it contains a single sample.\n",
      "  DeprecationWarning)\n",
      "C:\\Users\\hvill\\Anaconda3\\lib\\site-packages\\sklearn\\utils\\validation.py:386: DeprecationWarning: Passing 1d arrays as data is deprecated in 0.17 and willraise ValueError in 0.19. Reshape your data either using X.reshape(-1, 1) if your data has a single feature or X.reshape(1, -1) if it contains a single sample.\n",
      "  DeprecationWarning)\n",
      "C:\\Users\\hvill\\Anaconda3\\lib\\site-packages\\sklearn\\utils\\validation.py:386: DeprecationWarning: Passing 1d arrays as data is deprecated in 0.17 and willraise ValueError in 0.19. Reshape your data either using X.reshape(-1, 1) if your data has a single feature or X.reshape(1, -1) if it contains a single sample.\n",
      "  DeprecationWarning)\n",
      "C:\\Users\\hvill\\Anaconda3\\lib\\site-packages\\sklearn\\utils\\validation.py:386: DeprecationWarning: Passing 1d arrays as data is deprecated in 0.17 and willraise ValueError in 0.19. Reshape your data either using X.reshape(-1, 1) if your data has a single feature or X.reshape(1, -1) if it contains a single sample.\n",
      "  DeprecationWarning)\n",
      "C:\\Users\\hvill\\Anaconda3\\lib\\site-packages\\sklearn\\utils\\validation.py:386: DeprecationWarning: Passing 1d arrays as data is deprecated in 0.17 and willraise ValueError in 0.19. Reshape your data either using X.reshape(-1, 1) if your data has a single feature or X.reshape(1, -1) if it contains a single sample.\n",
      "  DeprecationWarning)\n"
     ]
    }
   ],
   "source": [
    "P_out = []\n",
    "for x in newD['X1']:\n",
    "    #print(np.array(1,x).reshape(-1,1))\n",
    "    P_out.append(lr1.predict_proba([1,x])[0][1])"
   ]
  },
  {
   "cell_type": "code",
   "execution_count": 514,
   "metadata": {},
   "outputs": [
    {
     "data": {
      "text/plain": [
       "2.9522104368996605"
      ]
     },
     "execution_count": 514,
     "metadata": {},
     "output_type": "execute_result"
    }
   ],
   "source": [
    "log_loss(target_list,test_P,normalize=False)\n",
    "#test_P logloss "
   ]
  },
  {
   "cell_type": "code",
   "execution_count": 515,
   "metadata": {},
   "outputs": [
    {
     "data": {
      "text/plain": [
       "1.666743570068294"
      ]
     },
     "execution_count": 515,
     "metadata": {},
     "output_type": "execute_result"
    }
   ],
   "source": [
    "#sklearns logloss given same data\n",
    "sklogloss = log_loss(target_list,P_out,normalize=False)\n",
    "log_loss(target_list,P_out,normalize=False)\n",
    "#P_out l2 --> 1.666743570068294"
   ]
  },
  {
   "cell_type": "code",
   "execution_count": 516,
   "metadata": {},
   "outputs": [
    {
     "data": {
      "text/plain": [
       "array([[-0.89679838,  0.1487704 ]])"
      ]
     },
     "execution_count": 516,
     "metadata": {},
     "output_type": "execute_result"
    }
   ],
   "source": [
    "#end.iloc[70:100,:] \n",
    "lr1.coef_"
   ]
  },
  {
   "cell_type": "code",
   "execution_count": 517,
   "metadata": {},
   "outputs": [
    {
     "data": {
      "text/plain": [
       "[<matplotlib.lines.Line2D at 0x171f7f6b6a0>]"
      ]
     },
     "execution_count": 517,
     "metadata": {},
     "output_type": "execute_result"
    },
    {
     "data": {
      "image/png": "[encoded data removed]",
      "text/plain": [
       "<matplotlib.figure.Figure at 0x171f7955f28>"
      ]
     },
     "metadata": {},
     "output_type": "display_data"
    }
   ],
   "source": [
    "plt.plot('derivaive_old',data = end.iloc[0:,:])\n",
    "#https://matplotlib.org/users/pyplot_tutorial.html"
   ]
  },
  {
   "cell_type": "code",
   "execution_count": 519,
   "metadata": {},
   "outputs": [
    {
     "data": {
      "text/plain": [
       "[<matplotlib.lines.Line2D at 0x171f7fc44a8>]"
      ]
     },
     "execution_count": 519,
     "metadata": {},
     "output_type": "execute_result"
    },
    {
     "data": {
      "image/png": "[encoded data removed]",
      "text/plain": [
       "<matplotlib.figure.Figure at 0x171f7f76f28>"
      ]
     },
     "metadata": {},
     "output_type": "display_data"
    }
   ],
   "source": [
    "plt.plot('derivaive_old',data = end.iloc[65:,:])"
   ]
  },
  {
   "cell_type": "code",
   "execution_count": 520,
   "metadata": {},
   "outputs": [
    {
     "data": {
      "text/plain": [
       "[<matplotlib.lines.Line2D at 0x171f80284a8>]"
      ]
     },
     "execution_count": 520,
     "metadata": {},
     "output_type": "execute_result"
    },
    {
     "data": {
      "image/png": "[encoded data removed]",
      "text/plain": [
       "<matplotlib.figure.Figure at 0x171f80fdbe0>"
      ]
     },
     "metadata": {},
     "output_type": "display_data"
    }
   ],
   "source": [
    "plt.plot('accuracy',data = end.iloc[:,:])"
   ]
  },
  {
   "cell_type": "code",
   "execution_count": 524,
   "metadata": {},
   "outputs": [
    {
     "data": {
      "text/plain": [
       "[<matplotlib.lines.Line2D at 0x171f7969f28>]"
      ]
     },
     "execution_count": 524,
     "metadata": {},
     "output_type": "execute_result"
    },
    {
     "data": {
      "image/png": "[encoded data removed]",
      "text/plain": [
       "<matplotlib.figure.Figure at 0x171f8f1ef98>"
      ]
     },
     "metadata": {},
     "output_type": "display_data"
    }
   ],
   "source": [
    "#fig, (ax1, ax2) = plt.subplots(nrows=2, sharey=True)\n",
    "#https://stackoverflow.com/questions/33049884/how-to-plot-2-seaborn-lmplots-side-by-side\n",
    "#sns.tsplot(x='beta0', y='beta1', data=end)\n",
    "plotthis = end[['beta0', 'beta1']].iloc[8999:,:]\n",
    "sns.set_style(\"darkgrid\")\n",
    "plt.title('beta0 & beta1')\n",
    "plt.xlabel('beta0')\n",
    "plt.ylabel('beta1')\n",
    "plt.axis([plotthis.max()[0], plotthis.min()[0],plotthis.min()[1],plotthis.max()[1]])\n",
    "plt.annotate('sklearn', xy=(-0.89679838,  0.1487704 ), xytext=(-1, 0.25),\n",
    "            arrowprops=dict(facecolor='black', shrink=0.05),\n",
    "            )\n",
    "plt.plot('beta0', 'beta1',data=plotthis, color=\"red\")"
   ]
  },
  {
   "cell_type": "code",
   "execution_count": 505,
   "metadata": {},
   "outputs": [
    {
     "data": {
      "text/plain": [
       "[<matplotlib.lines.Line2D at 0x171f7941860>]"
      ]
     },
     "execution_count": 505,
     "metadata": {},
     "output_type": "execute_result"
    },
    {
     "data": {
      "image/png": "[encoded data removed]",
      "text/plain": [
       "<matplotlib.figure.Figure at 0x171f77b25f8>"
      ]
     },
     "metadata": {},
     "output_type": "display_data"
    }
   ],
   "source": [
    "sns.set_style(\"darkgrid\")\n",
    "plt.title('LogLoss')\n",
    "plt.xlabel('Iteration')\n",
    "plt.ylabel('LogLoss')\n",
    "#plt.axis([0.01, -2.7,-0.019,0.32])\n",
    "plt.annotate('sklearn', xy=(87, sklogloss ), xytext=(150, 3),\n",
    "            arrowprops=dict(facecolor='black', shrink=0.05),\n",
    "            )\n",
    "plt.plot('logloss',data=end.iloc[:,:], color=\"blue\")\n",
    "#sns.regplot(x='derivativeX0', y='index', data=end.reset_index())"
   ]
  },
  {
   "cell_type": "code",
   "execution_count": 506,
   "metadata": {},
   "outputs": [
    {
     "data": {
      "text/html": [
       "<div>\n",
       "<table border=\"1\" class=\"dataframe\">\n",
       "  <thead>\n",
       "    <tr style=\"text-align: right;\">\n",
       "      <th></th>\n",
       "      <th>accuracy</th>\n",
       "      <th>beta0</th>\n",
       "      <th>beta1</th>\n",
       "      <th>derivaive_old</th>\n",
       "      <th>derivativeX0</th>\n",
       "      <th>derivativeX0M</th>\n",
       "      <th>derivativeX1</th>\n",
       "      <th>derivativeX1M</th>\n",
       "      <th>logloss</th>\n",
       "      <th>loglossM</th>\n",
       "    </tr>\n",
       "  </thead>\n",
       "  <tbody>\n",
       "    <tr>\n",
       "      <th>995</th>\n",
       "      <td>0.857143</td>\n",
       "      <td>-0.797116</td>\n",
       "      <td>0.120668</td>\n",
       "      <td>-0.223668</td>\n",
       "      <td>-1.853584</td>\n",
       "      <td>-0.264798</td>\n",
       "      <td>-4.483823</td>\n",
       "      <td>-0.640546</td>\n",
       "      <td>2.952210</td>\n",
       "      <td>0.421744</td>\n",
       "    </tr>\n",
       "    <tr>\n",
       "      <th>996</th>\n",
       "      <td>1.000000</td>\n",
       "      <td>-0.799709</td>\n",
       "      <td>0.073417</td>\n",
       "      <td>-0.098383</td>\n",
       "      <td>-1.340066</td>\n",
       "      <td>-0.191438</td>\n",
       "      <td>4.871993</td>\n",
       "      <td>0.695999</td>\n",
       "      <td>2.930716</td>\n",
       "      <td>0.418674</td>\n",
       "    </tr>\n",
       "    <tr>\n",
       "      <th>997</th>\n",
       "      <td>0.857143</td>\n",
       "      <td>-0.797116</td>\n",
       "      <td>0.120668</td>\n",
       "      <td>-0.223668</td>\n",
       "      <td>-1.853584</td>\n",
       "      <td>-0.264798</td>\n",
       "      <td>-4.483823</td>\n",
       "      <td>-0.640546</td>\n",
       "      <td>2.952210</td>\n",
       "      <td>0.421744</td>\n",
       "    </tr>\n",
       "    <tr>\n",
       "      <th>998</th>\n",
       "      <td>1.000000</td>\n",
       "      <td>-0.799709</td>\n",
       "      <td>0.073417</td>\n",
       "      <td>-0.098383</td>\n",
       "      <td>-1.340066</td>\n",
       "      <td>-0.191438</td>\n",
       "      <td>4.871993</td>\n",
       "      <td>0.695999</td>\n",
       "      <td>2.930716</td>\n",
       "      <td>0.418674</td>\n",
       "    </tr>\n",
       "    <tr>\n",
       "      <th>999</th>\n",
       "      <td>0.857143</td>\n",
       "      <td>-0.797116</td>\n",
       "      <td>0.120668</td>\n",
       "      <td>-0.223668</td>\n",
       "      <td>-1.853584</td>\n",
       "      <td>-0.264798</td>\n",
       "      <td>-4.483823</td>\n",
       "      <td>-0.640546</td>\n",
       "      <td>2.952210</td>\n",
       "      <td>0.421744</td>\n",
       "    </tr>\n",
       "  </tbody>\n",
       "</table>\n",
       "</div>"
      ],
      "text/plain": [
       "     accuracy     beta0     beta1  derivaive_old  derivativeX0  derivativeX0M  \\\n",
       "995  0.857143 -0.797116  0.120668      -0.223668     -1.853584      -0.264798   \n",
       "996  1.000000 -0.799709  0.073417      -0.098383     -1.340066      -0.191438   \n",
       "997  0.857143 -0.797116  0.120668      -0.223668     -1.853584      -0.264798   \n",
       "998  1.000000 -0.799709  0.073417      -0.098383     -1.340066      -0.191438   \n",
       "999  0.857143 -0.797116  0.120668      -0.223668     -1.853584      -0.264798   \n",
       "\n",
       "     derivativeX1  derivativeX1M   logloss  loglossM  \n",
       "995     -4.483823      -0.640546  2.952210  0.421744  \n",
       "996      4.871993       0.695999  2.930716  0.418674  \n",
       "997     -4.483823      -0.640546  2.952210  0.421744  \n",
       "998      4.871993       0.695999  2.930716  0.418674  \n",
       "999     -4.483823      -0.640546  2.952210  0.421744  "
      ]
     },
     "execution_count": 506,
     "metadata": {},
     "output_type": "execute_result"
    }
   ],
   "source": [
    "end.tail()#array([[-0.89679838,  0.1487704 ]])"
   ]
  },
  {
   "cell_type": "code",
   "execution_count": 507,
   "metadata": {
    "collapsed": true
   },
   "outputs": [],
   "source": [
    "#Figure Out how to apply l1 & l2"
   ]
  },
  {
   "cell_type": "code",
   "execution_count": null,
   "metadata": {
    "collapsed": true
   },
   "outputs": [],
   "source": []
  },
  {
   "cell_type": "code",
   "execution_count": null,
   "metadata": {
    "collapsed": true
   },
   "outputs": [],
   "source": []
  }
 ],
 "metadata": {
  "anaconda-cloud": {},
  "kernelspec": {
   "display_name": "Python [conda root]",
   "language": "python",
   "name": "conda-root-py"
  },
  "language_info": {
   "codemirror_mode": {
    "name": "ipython",
    "version": 3
   },
   "file_extension": ".py",
   "mimetype": "text/x-python",
   "name": "python",
   "nbconvert_exporter": "python",
   "pygments_lexer": "ipython3",
   "version": "3.5.4"
  }
 },
 "nbformat": 4,
 "nbformat_minor": 1
}

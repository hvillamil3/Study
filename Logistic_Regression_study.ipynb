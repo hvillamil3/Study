{
 "cells": [
  {
   "cell_type": "code",
   "execution_count": 1,
   "metadata": {
    "collapsed": true
   },
   "outputs": [],
   "source": [
    "import pandas as pd\n",
    "import numpy as np\n",
    "# pip install patsy\n",
    "from patsy import dmatrices, dmatrix\n",
    "from sklearn.linear_model import LogisticRegression\n",
    "from sklearn.preprocessing import StandardScaler"
   ]
  },
  {
   "cell_type": "code",
   "execution_count": 2,
   "metadata": {
    "collapsed": false
   },
   "outputs": [],
   "source": [
    "import seaborn as sns\n",
    "from scipy import stats\n",
    "import matplotlib.pyplot as plt\n",
    "%matplotlib inline\n",
    "sns.set(font_scale=1.5)"
   ]
  },
  {
   "cell_type": "markdown",
   "metadata": {},
   "source": [
    "- survival:        Survival\n",
    "                (0 = No; 1 = Yes)"
   ]
  },
  {
   "cell_type": "code",
   "execution_count": 3,
   "metadata": {
    "collapsed": false
   },
   "outputs": [],
   "source": [
    "train = pd.read_csv('train.csv')\n",
    "test = pd.read_csv('test.csv')"
   ]
  },
  {
   "cell_type": "code",
   "execution_count": 4,
   "metadata": {
    "collapsed": false
   },
   "outputs": [
    {
     "data": {
      "text/html": [
       "<div>\n",
       "<table border=\"1\" class=\"dataframe\">\n",
       "  <thead>\n",
       "    <tr style=\"text-align: right;\">\n",
       "      <th></th>\n",
       "      <th>PassengerId</th>\n",
       "      <th>Survived</th>\n",
       "      <th>Pclass</th>\n",
       "      <th>Name</th>\n",
       "      <th>Sex</th>\n",
       "      <th>Age</th>\n",
       "      <th>SibSp</th>\n",
       "      <th>Parch</th>\n",
       "      <th>Ticket</th>\n",
       "      <th>Fare</th>\n",
       "      <th>Embarked</th>\n",
       "    </tr>\n",
       "  </thead>\n",
       "  <tbody>\n",
       "    <tr>\n",
       "      <th>0</th>\n",
       "      <td>883</td>\n",
       "      <td>0</td>\n",
       "      <td>3</td>\n",
       "      <td>Dahlberg, Miss. Gerda Ulrika</td>\n",
       "      <td>female</td>\n",
       "      <td>22.0</td>\n",
       "      <td>0</td>\n",
       "      <td>0</td>\n",
       "      <td>7552</td>\n",
       "      <td>10.5167</td>\n",
       "      <td>S</td>\n",
       "    </tr>\n",
       "    <tr>\n",
       "      <th>1</th>\n",
       "      <td>134</td>\n",
       "      <td>1</td>\n",
       "      <td>2</td>\n",
       "      <td>Weisz, Mrs. Leopold (Mathilde Francoise Pede)</td>\n",
       "      <td>female</td>\n",
       "      <td>29.0</td>\n",
       "      <td>1</td>\n",
       "      <td>0</td>\n",
       "      <td>228414</td>\n",
       "      <td>26.0000</td>\n",
       "      <td>S</td>\n",
       "    </tr>\n",
       "    <tr>\n",
       "      <th>2</th>\n",
       "      <td>877</td>\n",
       "      <td>0</td>\n",
       "      <td>3</td>\n",
       "      <td>Gustafsson, Mr. Alfred Ossian</td>\n",
       "      <td>male</td>\n",
       "      <td>20.0</td>\n",
       "      <td>0</td>\n",
       "      <td>0</td>\n",
       "      <td>7534</td>\n",
       "      <td>9.8458</td>\n",
       "      <td>S</td>\n",
       "    </tr>\n",
       "    <tr>\n",
       "      <th>3</th>\n",
       "      <td>799</td>\n",
       "      <td>0</td>\n",
       "      <td>3</td>\n",
       "      <td>Ibrahim Shawah, Mr. Yousseff</td>\n",
       "      <td>male</td>\n",
       "      <td>30.0</td>\n",
       "      <td>0</td>\n",
       "      <td>0</td>\n",
       "      <td>2685</td>\n",
       "      <td>7.2292</td>\n",
       "      <td>C</td>\n",
       "    </tr>\n",
       "    <tr>\n",
       "      <th>4</th>\n",
       "      <td>871</td>\n",
       "      <td>0</td>\n",
       "      <td>3</td>\n",
       "      <td>Balkic, Mr. Cerin</td>\n",
       "      <td>male</td>\n",
       "      <td>26.0</td>\n",
       "      <td>0</td>\n",
       "      <td>0</td>\n",
       "      <td>349248</td>\n",
       "      <td>7.8958</td>\n",
       "      <td>S</td>\n",
       "    </tr>\n",
       "  </tbody>\n",
       "</table>\n",
       "</div>"
      ],
      "text/plain": [
       "   PassengerId  Survived  Pclass  \\\n",
       "0          883         0       3   \n",
       "1          134         1       2   \n",
       "2          877         0       3   \n",
       "3          799         0       3   \n",
       "4          871         0       3   \n",
       "\n",
       "                                            Name     Sex   Age  SibSp  Parch  \\\n",
       "0                   Dahlberg, Miss. Gerda Ulrika  female  22.0      0      0   \n",
       "1  Weisz, Mrs. Leopold (Mathilde Francoise Pede)  female  29.0      1      0   \n",
       "2                  Gustafsson, Mr. Alfred Ossian    male  20.0      0      0   \n",
       "3                   Ibrahim Shawah, Mr. Yousseff    male  30.0      0      0   \n",
       "4                              Balkic, Mr. Cerin    male  26.0      0      0   \n",
       "\n",
       "   Ticket     Fare Embarked  \n",
       "0    7552  10.5167        S  \n",
       "1  228414  26.0000        S  \n",
       "2    7534   9.8458        S  \n",
       "3    2685   7.2292        C  \n",
       "4  349248   7.8958        S  "
      ]
     },
     "execution_count": 4,
     "metadata": {},
     "output_type": "execute_result"
    }
   ],
   "source": [
    "train.head()"
   ]
  },
  {
   "cell_type": "code",
   "execution_count": 5,
   "metadata": {
    "collapsed": false
   },
   "outputs": [],
   "source": [
    "y, X = dmatrices('Survived ~ Age + C(Pclass) + C(Sex)', train, return_type='dataframe')\n",
    "#y & X are DataFrames now with one-hot enocoding/dummy encoding\n",
    "\n",
    "# flatten y so we can incorporate in sklearn functions\n",
    "y = np.ravel(y)\n",
    "#y is now an array"
   ]
  },
  {
   "cell_type": "code",
   "execution_count": 6,
   "metadata": {
    "collapsed": false
   },
   "outputs": [
    {
     "data": {
      "text/html": [
       "<div>\n",
       "<table border=\"1\" class=\"dataframe\">\n",
       "  <thead>\n",
       "    <tr style=\"text-align: right;\">\n",
       "      <th></th>\n",
       "      <th>Intercept</th>\n",
       "      <th>C(Pclass)[T.2]</th>\n",
       "      <th>C(Pclass)[T.3]</th>\n",
       "      <th>C(Sex)[T.male]</th>\n",
       "      <th>Age</th>\n",
       "    </tr>\n",
       "  </thead>\n",
       "  <tbody>\n",
       "    <tr>\n",
       "      <th>0</th>\n",
       "      <td>1.0</td>\n",
       "      <td>0.0</td>\n",
       "      <td>1.0</td>\n",
       "      <td>0.0</td>\n",
       "      <td>22.0</td>\n",
       "    </tr>\n",
       "    <tr>\n",
       "      <th>1</th>\n",
       "      <td>1.0</td>\n",
       "      <td>1.0</td>\n",
       "      <td>0.0</td>\n",
       "      <td>0.0</td>\n",
       "      <td>29.0</td>\n",
       "    </tr>\n",
       "    <tr>\n",
       "      <th>2</th>\n",
       "      <td>1.0</td>\n",
       "      <td>0.0</td>\n",
       "      <td>1.0</td>\n",
       "      <td>1.0</td>\n",
       "      <td>20.0</td>\n",
       "    </tr>\n",
       "    <tr>\n",
       "      <th>3</th>\n",
       "      <td>1.0</td>\n",
       "      <td>0.0</td>\n",
       "      <td>1.0</td>\n",
       "      <td>1.0</td>\n",
       "      <td>30.0</td>\n",
       "    </tr>\n",
       "    <tr>\n",
       "      <th>4</th>\n",
       "      <td>1.0</td>\n",
       "      <td>0.0</td>\n",
       "      <td>1.0</td>\n",
       "      <td>1.0</td>\n",
       "      <td>26.0</td>\n",
       "    </tr>\n",
       "  </tbody>\n",
       "</table>\n",
       "</div>"
      ],
      "text/plain": [
       "   Intercept  C(Pclass)[T.2]  C(Pclass)[T.3]  C(Sex)[T.male]   Age\n",
       "0        1.0             0.0             1.0             0.0  22.0\n",
       "1        1.0             1.0             0.0             0.0  29.0\n",
       "2        1.0             0.0             1.0             1.0  20.0\n",
       "3        1.0             0.0             1.0             1.0  30.0\n",
       "4        1.0             0.0             1.0             1.0  26.0"
      ]
     },
     "execution_count": 6,
     "metadata": {},
     "output_type": "execute_result"
    }
   ],
   "source": [
    "X.head()"
   ]
  },
  {
   "cell_type": "code",
   "execution_count": 7,
   "metadata": {
    "collapsed": false
   },
   "outputs": [],
   "source": [
    "# standardize the features since regularization requires all features to be on same scale\n",
    "scaler = StandardScaler(copy=True)\n",
    "# we have created a standardization based on the training data\n",
    "X_clean = scaler.fit(X).transform(X)\n",
    "#X_clean is an array"
   ]
  },
  {
   "cell_type": "code",
   "execution_count": 8,
   "metadata": {
    "collapsed": false
   },
   "outputs": [],
   "source": [
    "x_clean2 = pd.DataFrame(X_clean, columns=X.columns)\n",
    "#X_clean2 is a DataFrame of standardized values"
   ]
  },
  {
   "cell_type": "code",
   "execution_count": 9,
   "metadata": {
    "collapsed": false
   },
   "outputs": [
    {
     "data": {
      "text/html": [
       "<div>\n",
       "<table border=\"1\" class=\"dataframe\">\n",
       "  <thead>\n",
       "    <tr style=\"text-align: right;\">\n",
       "      <th></th>\n",
       "      <th>Intercept</th>\n",
       "      <th>C(Pclass)[T.2]</th>\n",
       "      <th>C(Pclass)[T.3]</th>\n",
       "      <th>C(Sex)[T.male]</th>\n",
       "      <th>Age</th>\n",
       "    </tr>\n",
       "  </thead>\n",
       "  <tbody>\n",
       "    <tr>\n",
       "      <th>0</th>\n",
       "      <td>0.0</td>\n",
       "      <td>-0.550590</td>\n",
       "      <td>0.987988</td>\n",
       "      <td>-1.334733</td>\n",
       "      <td>-0.526716</td>\n",
       "    </tr>\n",
       "    <tr>\n",
       "      <th>1</th>\n",
       "      <td>0.0</td>\n",
       "      <td>1.816233</td>\n",
       "      <td>-1.012159</td>\n",
       "      <td>-1.334733</td>\n",
       "      <td>-0.045169</td>\n",
       "    </tr>\n",
       "    <tr>\n",
       "      <th>2</th>\n",
       "      <td>0.0</td>\n",
       "      <td>-0.550590</td>\n",
       "      <td>0.987988</td>\n",
       "      <td>0.749213</td>\n",
       "      <td>-0.664301</td>\n",
       "    </tr>\n",
       "    <tr>\n",
       "      <th>3</th>\n",
       "      <td>0.0</td>\n",
       "      <td>-0.550590</td>\n",
       "      <td>0.987988</td>\n",
       "      <td>0.749213</td>\n",
       "      <td>0.023623</td>\n",
       "    </tr>\n",
       "    <tr>\n",
       "      <th>4</th>\n",
       "      <td>0.0</td>\n",
       "      <td>-0.550590</td>\n",
       "      <td>0.987988</td>\n",
       "      <td>0.749213</td>\n",
       "      <td>-0.251546</td>\n",
       "    </tr>\n",
       "  </tbody>\n",
       "</table>\n",
       "</div>"
      ],
      "text/plain": [
       "   Intercept  C(Pclass)[T.2]  C(Pclass)[T.3]  C(Sex)[T.male]       Age\n",
       "0        0.0       -0.550590        0.987988       -1.334733 -0.526716\n",
       "1        0.0        1.816233       -1.012159       -1.334733 -0.045169\n",
       "2        0.0       -0.550590        0.987988        0.749213 -0.664301\n",
       "3        0.0       -0.550590        0.987988        0.749213  0.023623\n",
       "4        0.0       -0.550590        0.987988        0.749213 -0.251546"
      ]
     },
     "execution_count": 9,
     "metadata": {},
     "output_type": "execute_result"
    }
   ],
   "source": [
    "x_clean2.head()"
   ]
  },
  {
   "cell_type": "code",
   "execution_count": 10,
   "metadata": {
    "collapsed": false
   },
   "outputs": [
    {
     "data": {
      "text/plain": [
       "<matplotlib.axes._subplots.AxesSubplot at 0x2c524fa3780>"
      ]
     },
     "execution_count": 10,
     "metadata": {},
     "output_type": "execute_result"
    },
    {
     "data": {
      "image/png": "[encoded data removed]",
      "text/plain": [
       "<matplotlib.figure.Figure at 0x2c5253f8c88>"
      ]
     },
     "metadata": {},
     "output_type": "display_data"
    }
   ],
   "source": [
    "# comparing coeff of not-standarized data with standardized data.\n",
    "fig, (ax1, ax2) = plt.subplots(ncols=2, sharey=True)\n",
    "#https://stackoverflow.com/questions/33049884/how-to-plot-2-seaborn-lmplots-side-by-side\n",
    "sns.regplot(x='C(Pclass)[T.3]', y='C(Sex)[T.male]', data=X, ci=None, ax=ax1)\n",
    "sns.regplot(x='C(Pclass)[T.3]', y='C(Sex)[T.male]', data=x_clean2, ci=None, ax = ax2)\n",
    "#sns.lmplot(x='C(Pclass)[T.3]', y='C(Sex)[T.male]', data=X, ci=None)\n",
    "#sns.lmplot(x='C(Pclass)[T.3]', y='C(Sex)[T.male]', data=x_clean2, ci=None)"
   ]
  },
  {
   "cell_type": "code",
   "execution_count": 11,
   "metadata": {
    "collapsed": false
   },
   "outputs": [],
   "source": [
    "##correlations dataframe and pair plots\n",
    "#x_clean2.corr()\n",
    "####scatter plots #http://seaborn.pydata.org/generated/seaborn.pairplot.html\n",
    "#sns.pairplot(x_clean2)\n",
    "\n",
    "### corrfunc (due to peason)only works with continuous data\n",
    "###https://stackoverflow.com/questions/30942577/seaborn-correlation-coefficient-on-pairgrid\n",
    "# def corrfunc(x, y, **kws):\n",
    "#     r, _ = stats.pearsonr(x, y)\n",
    "#     ax = plt.gca()\n",
    "#     ax.annotate(\"r = {:.2f}\".format(r),\n",
    "#                 xy=(.1, .9), xycoords=ax.transAxes)\n",
    "\n",
    "# g = sns.PairGrid(x_clean2, palette=[\"red\"])\n",
    "# g.map_upper(plt.scatter, s=10)\n",
    "# g.map_diag(sns.distplot, kde=False)\n",
    "# g.map_lower(sns.kdeplot, cmap=\"Blues_d\")\n",
    "# g.map_lower(corrfunc)"
   ]
  },
  {
   "cell_type": "code",
   "execution_count": 12,
   "metadata": {
    "collapsed": false
   },
   "outputs": [
    {
     "name": "stdout",
     "output_type": "stream",
     "text": [
      "[[ 0.         -0.5009946  -1.29828165 -1.17899065 -0.56802213]]\n"
     ]
    }
   ],
   "source": [
    "# build our initial model with Regularization\n",
    "\n",
    "#### Regularization ####\n",
    "#L1 LASSO (absoute sum of errors) weak coef goes to zero\n",
    "#L2 RIDGE (squared sum of errors)\n",
    "lr = LogisticRegression('l1')\n",
    "lr.fit(X_clean, y)\n",
    "print (lr.coef_)"
   ]
  },
  {
   "cell_type": "markdown",
   "metadata": {},
   "source": [
    "# METRICS"
   ]
  },
  {
   "cell_type": "code",
   "execution_count": 13,
   "metadata": {
    "collapsed": false
   },
   "outputs": [
    {
     "name": "stdout",
     "output_type": "stream",
     "text": [
      "             precision    recall  f1-score   support\n",
      "\n",
      "        0.0       0.82      0.85      0.84       397\n",
      "        1.0       0.76      0.73      0.75       265\n",
      "\n",
      "avg / total       0.80      0.80      0.80       662\n",
      "\n"
     ]
    }
   ],
   "source": [
    "from sklearn.metrics import f1_score ,accuracy_score,confusion_matrix,classification_report,log_loss\n",
    "print(classification_report(y, lr.predict(x_clean2)))"
   ]
  },
  {
   "cell_type": "markdown",
   "metadata": {},
   "source": [
    "- ### Confusion Matrix"
   ]
  },
  {
   "cell_type": "code",
   "execution_count": 14,
   "metadata": {
    "collapsed": false
   },
   "outputs": [
    {
     "name": "stdout",
     "output_type": "stream",
     "text": [
      "\n",
      " [[337  60]\n",
      " [ 72 193]] \n",
      "\n",
      " or \n",
      "\n",
      " col_0  0.0  1.0\n",
      "row_0          \n",
      "0.0    337   72\n",
      "1.0     60  193 \n",
      "\n",
      " or\n"
     ]
    },
    {
     "data": {
      "text/html": [
       "<div>\n",
       "<table border=\"1\" class=\"dataframe\">\n",
       "  <thead>\n",
       "    <tr style=\"text-align: right;\">\n",
       "      <th>Actual</th>\n",
       "      <th>0.0</th>\n",
       "      <th>1.0</th>\n",
       "    </tr>\n",
       "    <tr>\n",
       "      <th>Pred</th>\n",
       "      <th></th>\n",
       "      <th></th>\n",
       "    </tr>\n",
       "  </thead>\n",
       "  <tbody>\n",
       "    <tr>\n",
       "      <th>0.0</th>\n",
       "      <td>337</td>\n",
       "      <td>72</td>\n",
       "    </tr>\n",
       "    <tr>\n",
       "      <th>1.0</th>\n",
       "      <td>60</td>\n",
       "      <td>193</td>\n",
       "    </tr>\n",
       "  </tbody>\n",
       "</table>\n",
       "</div>"
      ],
      "text/plain": [
       "Actual  0.0  1.0\n",
       "Pred            \n",
       "0.0     337   72\n",
       "1.0      60  193"
      ]
     },
     "execution_count": 14,
     "metadata": {},
     "output_type": "execute_result"
    }
   ],
   "source": [
    "print(\"\\n\",confusion_matrix(y, lr.predict(x_clean2)),\"\\n\\n or \\n\\n\"\n",
    "#pandas crosstab accepts Arrays\n",
    ",pd.crosstab(lr.predict(x_clean2),y),\"\\n\\n or\")\n",
    "\n",
    "fin2 = pd.DataFrame([lr.predict(x_clean2),y], index=['Pred','Actual']).T\n",
    "\n",
    "pd.crosstab(fin2['Pred'],fin2['Actual'])"
   ]
  },
  {
   "cell_type": "code",
   "execution_count": 15,
   "metadata": {
    "collapsed": false
   },
   "outputs": [
    {
     "name": "stdout",
     "output_type": "stream",
     "text": [
      "Accuracy: 0.800604229607 \n",
      " Accuracy: 0.800604229607 \n",
      " Precision: 0.762845849802 \n",
      " Recall/Sensitivity: 0.728301886792 \n",
      " Specificity: 0.848866498741 \n",
      " F1-Score: 0.745173745174\n"
     ]
    }
   ],
   "source": [
    "#https://en.wikipedia.org/wiki/Precision_and_recall\n",
    "#https://www.quora.com/What-is-the-best-way-to-understand-the-terms-precision-and-recall\n",
    "print('Accuracy:',(lr.predict(x_clean2)==y).mean(),'\\n', #Accuracy\n",
    "      'Accuracy:',accuracy_score(y, lr.predict(x_clean2)),'\\n' #Accuracy\n",
    ",'Precision:',((lr.predict(x_clean2)==y)&(y==1)).sum()/(lr.predict(x_clean2)).sum(),'\\n'\n",
    "# Precision\n",
    ",'Recall/Sensitivity:',((lr.predict(x_clean2)==y)&(y==1)).sum()/(y[y==1]).sum(),'\\n'\n",
    "#Recall or Sensitivity\n",
    ",'Specificity:',((lr.predict(x_clean2)==y)&(y==0)).sum() /len(y[y==0]),'\\n'\n",
    "#Specificity or True negative/ConditionNegative or Negative Recall\n",
    ",'F1-Score:',(2*( (((lr.predict(x_clean2)==y)&(y==1)).sum()/(y[y==1]).sum())\\\n",
    "      *(((lr.predict(x_clean2)==y)&(y==1)).sum()/(lr.predict(x_clean2)).sum())))/\\\n",
    "      ( (((lr.predict(x_clean2)==y)&(y==1)).sum()/(y[y==1]).sum())\\\n",
    "      +(((lr.predict(x_clean2)==y)&(y==1)).sum()/(lr.predict(x_clean2)).sum())))\n",
    "#F1-Score (2*Precision*Recall)/(Precision+Recall)"
   ]
  },
  {
   "cell_type": "markdown",
   "metadata": {},
   "source": [
    "# Predictions"
   ]
  },
  {
   "cell_type": "code",
   "execution_count": 16,
   "metadata": {
    "collapsed": false
   },
   "outputs": [
    {
     "name": "stderr",
     "output_type": "stream",
     "text": [
      "C:\\ProgramData\\Anaconda3\\lib\\site-packages\\sklearn\\preprocessing\\data.py:649: DeprecationWarning: Passing 1d arrays as data is deprecated in 0.17 and will raise ValueError in 0.19. Reshape your data either using X.reshape(-1, 1) if your data has a single feature or X.reshape(1, -1) if it contains a single sample.\n",
      "  warnings.warn(DEPRECATION_MSG_1D, DeprecationWarning)\n"
     ]
    },
    {
     "data": {
      "text/plain": [
       "array([[ 0.04991728,  0.95008272]])"
      ]
     },
     "execution_count": 16,
     "metadata": {},
     "output_type": "execute_result"
    }
   ],
   "source": [
    "# a sparse girl\n",
    "girl = [1., 0., 0., 0., 21.]\n",
    "girl = scaler.fit(X).transform(girl)\n",
    "lr.predict_proba(girl.reshape(1,-1))"
   ]
  },
  {
   "cell_type": "code",
   "execution_count": 17,
   "metadata": {
    "collapsed": false
   },
   "outputs": [
    {
     "name": "stdout",
     "output_type": "stream",
     "text": [
      "[ 0.         -0.55059023 -1.0121585  -1.33473316 -0.59550826]\n"
     ]
    }
   ],
   "source": [
    "print(girl)"
   ]
  },
  {
   "cell_type": "code",
   "execution_count": 18,
   "metadata": {
    "collapsed": false
   },
   "outputs": [
    {
     "data": {
      "text/plain": [
       "array([-0.55562741])"
      ]
     },
     "execution_count": 18,
     "metadata": {},
     "output_type": "execute_result"
    }
   ],
   "source": [
    "lr.intercept_"
   ]
  },
  {
   "cell_type": "code",
   "execution_count": 19,
   "metadata": {
    "collapsed": false
   },
   "outputs": [
    {
     "data": {
      "text/plain": [
       "array([ 0.        , -0.5009946 , -1.29828165, -1.17899065, -0.56802213])"
      ]
     },
     "execution_count": 19,
     "metadata": {},
     "output_type": "execute_result"
    }
   ],
   "source": [
    "lr.coef_[0]"
   ]
  },
  {
   "cell_type": "markdown",
   "metadata": {},
   "source": [
    "- ### Manually Calculate Prediction"
   ]
  },
  {
   "cell_type": "code",
   "execution_count": 20,
   "metadata": {
    "collapsed": false
   },
   "outputs": [
    {
     "name": "stdout",
     "output_type": "stream",
     "text": [
      "Log odds are ...[ 2.94598056]\n",
      "Odds of survival are ...[ 19.02931255]\n",
      "Probablity of survival is ....[ 0.95007317]\n"
     ]
    }
   ],
   "source": [
    "#Add intercept + coefficients*StandardizedValues = Logodds of New values\n",
    "logodds = lr.intercept_ +(-0.50089255* -0.55059023)+(-1.2981623*-1.0121585)+(-1.1789864*-1.33473316)+\\\n",
    "(-0.56799074* -0.59550826)\n",
    "print('Log odds are ...'+str(logodds))\n",
    "\n",
    "#Convert log-odds to jusst odds\n",
    "odds = np.exp(logodds)\n",
    "print('Odds of survival are ...'+str(odds))\n",
    "#Pass through sigmoid function or pass through link function to get Probability\n",
    "prob = odds/(1 + odds)\n",
    "print('Probablity of survival is ....'+str(prob))"
   ]
  },
  {
   "cell_type": "markdown",
   "metadata": {},
   "source": [
    "- ### Use a function to Calculate Prediction"
   ]
  },
  {
   "cell_type": "code",
   "execution_count": 21,
   "metadata": {
    "collapsed": true
   },
   "outputs": [],
   "source": [
    "def sigmoid(x):\n",
    "    return 1/(1+np.e**(-x))"
   ]
  },
  {
   "cell_type": "code",
   "execution_count": 22,
   "metadata": {
    "collapsed": false
   },
   "outputs": [
    {
     "name": "stdout",
     "output_type": "stream",
     "text": [
      "Probablity of survival is ...[ 0.95008272]\n"
     ]
    }
   ],
   "source": [
    "print('Probablity of survival is ...'+str(sigmoid( np.dot(girl, lr.coef_.T) + lr.intercept_ )))"
   ]
  },
  {
   "cell_type": "markdown",
   "metadata": {},
   "source": [
    "- ### Use sklearn predict method"
   ]
  },
  {
   "cell_type": "code",
   "execution_count": 23,
   "metadata": {
    "collapsed": false
   },
   "outputs": [
    {
     "name": "stdout",
     "output_type": "stream",
     "text": [
      "Probablity of survival is ...[ 0.95008272]\n"
     ]
    }
   ],
   "source": [
    "# compute predicted probability for al=2 using the predict_proba method\n",
    "print('Probablity of survival is ...'+str(lr.predict_proba(girl.reshape(1,-1))[:, 1]))"
   ]
  },
  {
   "cell_type": "markdown",
   "metadata": {},
   "source": [
    "# Fit without a bias term (intercept)"
   ]
  },
  {
   "cell_type": "code",
   "execution_count": 24,
   "metadata": {
    "collapsed": false
   },
   "outputs": [
    {
     "data": {
      "text/html": [
       "<div>\n",
       "<table border=\"1\" class=\"dataframe\">\n",
       "  <thead>\n",
       "    <tr style=\"text-align: right;\">\n",
       "      <th></th>\n",
       "      <th>C(Pclass)[T.2]</th>\n",
       "      <th>C(Pclass)[T.3]</th>\n",
       "      <th>C(Sex)[T.male]</th>\n",
       "      <th>Age</th>\n",
       "    </tr>\n",
       "  </thead>\n",
       "  <tbody>\n",
       "    <tr>\n",
       "      <th>0</th>\n",
       "      <td>0.0</td>\n",
       "      <td>1.0</td>\n",
       "      <td>0.0</td>\n",
       "      <td>22.0</td>\n",
       "    </tr>\n",
       "    <tr>\n",
       "      <th>1</th>\n",
       "      <td>1.0</td>\n",
       "      <td>0.0</td>\n",
       "      <td>0.0</td>\n",
       "      <td>29.0</td>\n",
       "    </tr>\n",
       "    <tr>\n",
       "      <th>2</th>\n",
       "      <td>0.0</td>\n",
       "      <td>1.0</td>\n",
       "      <td>1.0</td>\n",
       "      <td>20.0</td>\n",
       "    </tr>\n",
       "    <tr>\n",
       "      <th>3</th>\n",
       "      <td>0.0</td>\n",
       "      <td>1.0</td>\n",
       "      <td>1.0</td>\n",
       "      <td>30.0</td>\n",
       "    </tr>\n",
       "    <tr>\n",
       "      <th>4</th>\n",
       "      <td>0.0</td>\n",
       "      <td>1.0</td>\n",
       "      <td>1.0</td>\n",
       "      <td>26.0</td>\n",
       "    </tr>\n",
       "  </tbody>\n",
       "</table>\n",
       "</div>"
      ],
      "text/plain": [
       "   C(Pclass)[T.2]  C(Pclass)[T.3]  C(Sex)[T.male]   Age\n",
       "0             0.0             1.0             0.0  22.0\n",
       "1             1.0             0.0             0.0  29.0\n",
       "2             0.0             1.0             1.0  20.0\n",
       "3             0.0             1.0             1.0  30.0\n",
       "4             0.0             1.0             1.0  26.0"
      ]
     },
     "execution_count": 24,
     "metadata": {},
     "output_type": "execute_result"
    }
   ],
   "source": [
    "#Used X Dataframe of raw data (Not Standardized Only Dummy/One-Hot encoded)\n",
    "XX = X.copy()\n",
    "del XX['Intercept']\n",
    "XX.head()"
   ]
  },
  {
   "cell_type": "code",
   "execution_count": 25,
   "metadata": {
    "collapsed": false
   },
   "outputs": [
    {
     "data": {
      "text/html": [
       "<div>\n",
       "<table border=\"1\" class=\"dataframe\">\n",
       "  <thead>\n",
       "    <tr style=\"text-align: right;\">\n",
       "      <th></th>\n",
       "      <th>0</th>\n",
       "      <th>1</th>\n",
       "      <th>2</th>\n",
       "      <th>3</th>\n",
       "    </tr>\n",
       "  </thead>\n",
       "  <tbody>\n",
       "    <tr>\n",
       "      <th>0</th>\n",
       "      <td>-0.550590</td>\n",
       "      <td>0.987988</td>\n",
       "      <td>-1.334733</td>\n",
       "      <td>-0.526716</td>\n",
       "    </tr>\n",
       "    <tr>\n",
       "      <th>1</th>\n",
       "      <td>1.816233</td>\n",
       "      <td>-1.012159</td>\n",
       "      <td>-1.334733</td>\n",
       "      <td>-0.045169</td>\n",
       "    </tr>\n",
       "    <tr>\n",
       "      <th>2</th>\n",
       "      <td>-0.550590</td>\n",
       "      <td>0.987988</td>\n",
       "      <td>0.749213</td>\n",
       "      <td>-0.664301</td>\n",
       "    </tr>\n",
       "    <tr>\n",
       "      <th>3</th>\n",
       "      <td>-0.550590</td>\n",
       "      <td>0.987988</td>\n",
       "      <td>0.749213</td>\n",
       "      <td>0.023623</td>\n",
       "    </tr>\n",
       "    <tr>\n",
       "      <th>4</th>\n",
       "      <td>-0.550590</td>\n",
       "      <td>0.987988</td>\n",
       "      <td>0.749213</td>\n",
       "      <td>-0.251546</td>\n",
       "    </tr>\n",
       "  </tbody>\n",
       "</table>\n",
       "</div>"
      ],
      "text/plain": [
       "          0         1         2         3\n",
       "0 -0.550590  0.987988 -1.334733 -0.526716\n",
       "1  1.816233 -1.012159 -1.334733 -0.045169\n",
       "2 -0.550590  0.987988  0.749213 -0.664301\n",
       "3 -0.550590  0.987988  0.749213  0.023623\n",
       "4 -0.550590  0.987988  0.749213 -0.251546"
      ]
     },
     "execution_count": 25,
     "metadata": {},
     "output_type": "execute_result"
    }
   ],
   "source": [
    "# standardize the features since regularization requires all features to be on same scale\n",
    "scaler = StandardScaler(copy=True)\n",
    "# we have created a standardization based on the training data\n",
    "XX = scaler.fit(XX).transform(XX)\n",
    "#XX is now an Array\n",
    "pd.DataFrame(XX).head()"
   ]
  },
  {
   "cell_type": "code",
   "execution_count": 26,
   "metadata": {
    "collapsed": false
   },
   "outputs": [
    {
     "name": "stdout",
     "output_type": "stream",
     "text": [
      "[[-0.51302494 -1.24581795 -1.18689471 -0.5391433 ]]\n"
     ]
    },
    {
     "name": "stderr",
     "output_type": "stream",
     "text": [
      "C:\\ProgramData\\Anaconda3\\lib\\site-packages\\sklearn\\utils\\validation.py:526: DataConversionWarning: A column-vector y was passed when a 1d array was expected. Please change the shape of y to (n_samples, ), for example using ravel().\n",
      "  y = column_or_1d(y, warn=True)\n"
     ]
    }
   ],
   "source": [
    "# build our initial model\n",
    "# sklearn by default fits an intercept\n",
    "# set fit_intercept = False\n",
    "\n",
    "#L1 LASSO Regularization (append sum of absolute error) weak coeff drop to 0.\n",
    "lr1 = LogisticRegression('l1',fit_intercept=False)\n",
    "# fit method also accepts DataFrames\n",
    "lr1.fit(pd.DataFrame(XX),pd.DataFrame(y) )\n",
    "print (lr1.coef_)"
   ]
  },
  {
   "cell_type": "code",
   "execution_count": 27,
   "metadata": {
    "collapsed": false
   },
   "outputs": [
    {
     "data": {
      "text/plain": [
       "0.0"
      ]
     },
     "execution_count": 27,
     "metadata": {},
     "output_type": "execute_result"
    }
   ],
   "source": [
    "lr1.intercept_"
   ]
  },
  {
   "cell_type": "code",
   "execution_count": 28,
   "metadata": {
    "collapsed": false
   },
   "outputs": [
    {
     "data": {
      "text/plain": [
       "(array([ 0.        , -0.5009946 , -1.29828165, -1.17899065, -0.56802213]),\n",
       " 'coef of previous model (with intercept) vs new model (without intercept)',\n",
       " array([[-0.51302494, -1.24581795, -1.18689471, -0.5391433 ]]))"
      ]
     },
     "execution_count": 28,
     "metadata": {},
     "output_type": "execute_result"
    }
   ],
   "source": [
    "lr.coef_[0],\\\n",
    "'coef of previous model (with intercept) vs new model (without intercept)',lr1.coef_"
   ]
  },
  {
   "cell_type": "code",
   "execution_count": 29,
   "metadata": {
    "collapsed": false
   },
   "outputs": [],
   "source": [
    "fin = pd.DataFrame([lr1.predict(XX),y], index=['Pred','Actual']).T"
   ]
  },
  {
   "cell_type": "code",
   "execution_count": 30,
   "metadata": {
    "collapsed": false
   },
   "outputs": [
    {
     "data": {
      "text/html": [
       "<div>\n",
       "<table border=\"1\" class=\"dataframe\">\n",
       "  <thead>\n",
       "    <tr style=\"text-align: right;\">\n",
       "      <th>Actual</th>\n",
       "      <th>0.0</th>\n",
       "      <th>1.0</th>\n",
       "    </tr>\n",
       "    <tr>\n",
       "      <th>Pred</th>\n",
       "      <th></th>\n",
       "      <th></th>\n",
       "    </tr>\n",
       "  </thead>\n",
       "  <tbody>\n",
       "    <tr>\n",
       "      <th>0.0</th>\n",
       "      <td>302</td>\n",
       "      <td>51</td>\n",
       "    </tr>\n",
       "    <tr>\n",
       "      <th>1.0</th>\n",
       "      <td>95</td>\n",
       "      <td>214</td>\n",
       "    </tr>\n",
       "  </tbody>\n",
       "</table>\n",
       "</div>"
      ],
      "text/plain": [
       "Actual  0.0  1.0\n",
       "Pred            \n",
       "0.0     302   51\n",
       "1.0      95  214"
      ]
     },
     "execution_count": 30,
     "metadata": {},
     "output_type": "execute_result"
    }
   ],
   "source": [
    "pd.crosstab(fin['Pred'],fin['Actual'])"
   ]
  },
  {
   "cell_type": "code",
   "execution_count": 31,
   "metadata": {
    "collapsed": false
   },
   "outputs": [
    {
     "data": {
      "text/plain": [
       "0.77945619335347427"
      ]
     },
     "execution_count": 31,
     "metadata": {},
     "output_type": "execute_result"
    }
   ],
   "source": [
    "(lr1.predict(XX)==y).mean() ##accuracy"
   ]
  },
  {
   "cell_type": "code",
   "execution_count": 32,
   "metadata": {
    "collapsed": false
   },
   "outputs": [
    {
     "data": {
      "text/plain": [
       "array([ 0.96919186])"
      ]
     },
     "execution_count": 32,
     "metadata": {},
     "output_type": "execute_result"
    }
   ],
   "source": [
    "# prediction of girl\n",
    "sigmoid( np.dot(girl[1:], lr1.coef_.T) + lr1.intercept_ )"
   ]
  },
  {
   "cell_type": "markdown",
   "metadata": {},
   "source": [
    "# CostFunction & Optimizer"
   ]
  },
  {
   "cell_type": "code",
   "execution_count": 33,
   "metadata": {
    "collapsed": true
   },
   "outputs": [],
   "source": [
    "#Ignoring the regularization, the cost function for logistic regression is logloss\n",
    "#logloss is similar to cross entropy and maximum likelihood\n",
    "\n",
    "#below we manually compute logloss and manually optimize for best coeff (betas)"
   ]
  },
  {
   "cell_type": "code",
   "execution_count": 650,
   "metadata": {
    "collapsed": true
   },
   "outputs": [],
   "source": [
    "#Give a beta0 and betoa1 -0.9, 0.1\n",
    "#b0=-0.99\n",
    "#b1=0.14\n",
    "b0 = 0.37296654876\n",
    "b1 = 0.60609744787\n",
    "\n",
    "b0 = -0.92\n",
    "b1 = 0.75\n",
    "b0 = -0.780931128764\n",
    "b1 = 0.889068871236\n",
    "\n",
    "#b0=-0.89679838  \n",
    "#b1=0.1487704\n",
    "\n",
    "\n",
    "rawdata = [21,2,5,31,10,0.34,.23]#Actual Variables x1 only 1 variable in this example\n",
    "test_P=[]"
   ]
  },
  {
   "cell_type": "code",
   "execution_count": 651,
   "metadata": {
    "collapsed": false
   },
   "outputs": [],
   "source": [
    "#Calculate Probability through the logit function\n",
    "for data in rawdata:\n",
    "    P = (np.exp(1)**(b0+b1*data))/(1+np.exp(1)**(b0+b1*data))\n",
    "    test_P.append(P)#suggested probability"
   ]
  },
  {
   "cell_type": "code",
   "execution_count": 652,
   "metadata": {
    "collapsed": false
   },
   "outputs": [
    {
     "data": {
      "text/plain": [
       "[(0.75317668511692704, 0.24682331488307296),\n",
       " (0.14216970690529057, 0.85783029309470948),\n",
       " (0.20793209371899476, 0.79206790628100521),\n",
       " (0.93393645064285191, 0.066063549357148088),\n",
       " (0.36103990907589123, 0.63896009092410877),\n",
       " (0.11386153906500995, 0.88613846093499005),\n",
       " (0.1121709785080149, 0.88782902149198506)]"
      ]
     },
     "execution_count": 652,
     "metadata": {},
     "output_type": "execute_result"
    }
   ],
   "source": [
    "[ (P,1-P) for P in test_P] #Predictions. Predict probability of 1."
   ]
  },
  {
   "cell_type": "code",
   "execution_count": 653,
   "metadata": {
    "collapsed": false
   },
   "outputs": [
    {
     "name": "stdout",
     "output_type": "stream",
     "text": [
      "The Logloss is ... 1.42603090753\n",
      "The Logloss is ... -0.524670331988\n"
     ]
    },
    {
     "data": {
      "text/plain": [
       "1.4260309075281967"
      ]
     },
     "execution_count": 653,
     "metadata": {},
     "output_type": "execute_result"
    }
   ],
   "source": [
    "#### Calculate Cost function Given Predictions\n",
    "####  which is probability of 1 Given b0,b1 entered above ##########\n",
    "\n",
    "##Calculate log losss then minimize\n",
    "target_list=[1,0,0,1,0,0,0] #the target given the variables from rawdata\n",
    "fin=[]\n",
    "nz = .000000000000001\n",
    "for target,PredictionProbability in zip(target_list,test_P):\n",
    "    fin.append((target*np.log(PredictionProbability+nz) + (1-target)*np.log(1-PredictionProbability+nz)))\n",
    "print('The Logloss is ... '+str(-1*sum(fin))) #LogLoss\n",
    "print('The Logloss is ... '+str(-1*sum(fin)+(b0+b1))) #LogLoss but with L1 regularization?\n",
    "#http://www.chioka.in/differences-between-l1-and-l2-as-loss-function-and-regularization/\n",
    "log_loss(target_list,test_P,normalize=False)\n",
    "#2.9245329377547962\n",
    "#2.7279212507689738.....b0=-0.9,b1 = 0.1"
   ]
  },
  {
   "cell_type": "code",
   "execution_count": 654,
   "metadata": {
    "collapsed": false
   },
   "outputs": [
    {
     "name": "stdout",
     "output_type": "stream",
     "text": [
      "derivative logloss is...-0.0957135012129 -0.0136733573161\n"
     ]
    }
   ],
   "source": [
    "#derivative of log loss\n",
    "#Give a beta0 and betoa1\n",
    "\n",
    "deriv_finX1=[]\n",
    "deriv_finX0=[]\n",
    "b0=b0\n",
    "b1=b1\n",
    "for act,data in zip(target_list,rawdata):\n",
    "    deriv_finX1.append(((act*b1)/(1+np.exp(1)**(b0+b1*data))) - ((b1*np.exp(1)**(b0+b1*data)-act*b1*np.exp(1)**(b0+b1*data))/\\\n",
    "                                                        (1+np.exp(1)**(b0+b1*data))))\n",
    "print('derivative logloss is...'+str(sum(deriv_finX1)),sum(deriv_finX1)/len(rawdata))# <- for mean logloss is actual logloss a mean?\n",
    "#http://www.exegetic.biz/blog/2015/12/making-sense-logarithmic-loss/\n",
    "#log_loss(target,PredictionProbability,normalize=False)"
   ]
  },
  {
   "cell_type": "code",
   "execution_count": 655,
   "metadata": {
    "collapsed": false
   },
   "outputs": [
    {
     "name": "stdout",
     "output_type": "stream",
     "text": [
      "1 - 0.753176685117  *  21  =  5.18328961254\n",
      "0 - 0.142169706905  *  2  =  -0.284339413811\n",
      "0 - 0.207932093719  *  5  =  -1.03966046859\n",
      "1 - 0.933936450643  *  31  =  2.04797003007\n",
      "0 - 0.361039909076  *  10  =  -3.61039909076\n",
      "0 - 0.113861539065  *  0.34  =  -0.0387129232821\n",
      "0 - 0.112170978508  *  0.23  =  -0.0257993250568\n",
      "-0.0891839090047 -0.624287363033 0.318906917302 2.23234842111\n"
     ]
    }
   ],
   "source": [
    "#new derivative\n",
    "#https://math.stackexchange.com/questions/477207/derivative-of-cost-function-for-logistic-regression\n",
    "intercept = [1]*len(rawdata)\n",
    "#for act,data in zip(target_list,rawdata,intercept):\n",
    "dev0 = []\n",
    "dev1 = []\n",
    "for act,p,data,ones in zip(target_list,test_P,rawdata,intercept):\n",
    "    dev0.append((act-p)*ones)\n",
    "    dev1.append((act-p)*data)\n",
    "    print(act,'-',p,' * ',data,' = ',(act-p)*data)\n",
    "print(sum(dev0)/len(rawdata),sum(dev0),sum(dev1)/len(rawdata),sum(dev1))"
   ]
  },
  {
   "cell_type": "code",
   "execution_count": 656,
   "metadata": {
    "collapsed": false
   },
   "outputs": [
    {
     "name": "stdout",
     "output_type": "stream",
     "text": [
      "b0 = -2.11293604667\n",
      "b1 = 0.185207107984\n",
      "\n",
      "\n"
     ]
    }
   ],
   "source": [
    "alpha =0.1\n",
    "# print('b0 =',b0-alpha*(sum(deriv_fin)+(b0+b1)))#,sum(new_b0))\n",
    "# print('b1 =',b1-alpha*(sum(deriv_finX1)+(b0+b1)))\n",
    "print('b0 =',b0+alpha*(sum(dev0)/(len(rawdata) )))#,sum(new_b0))\n",
    "print('b1 =',b1+alpha*(sum(dev1)/(len(rawdata) )))\n",
    "print('\\n')\n",
    "#why divide derivative by number of number of rows???? and \n",
    "#switched update to plus(+)? thought we wanted (-) always\n",
    "#how do I add L1 or L2 regularizer?? 1/#of rows + sum(betas)??"
   ]
  },
  {
   "cell_type": "code",
   "execution_count": 657,
   "metadata": {
    "collapsed": false
   },
   "outputs": [
    {
     "data": {
      "text/plain": [
       "(-2.10401765577, 0.153316416254)"
      ]
     },
     "execution_count": 657,
     "metadata": {},
     "output_type": "execute_result"
    }
   ],
   "source": [
    "b0 , b1"
   ]
  },
  {
   "cell_type": "code",
   "execution_count": null,
   "metadata": {
    "collapsed": true
   },
   "outputs": [],
   "source": [
    "#update statement not sure which update statement ?? \n",
    "#http://iamtrask.github.io/2015/07/27/python-network-part2/\n",
    "#http://machinelearningmastery.com/logistic-regression-tutorial-for-machine-learning/\n",
    "#http://www.exegetic.biz/blog/2015/12/making-sense-logarithmic-loss/\n",
    "#http://www.cbcb.umd.edu/~hcorrada/PML/homeworks/HW04_solutions.pdf\n",
    "#http://www.robots.ox.ac.uk/~az/lectures/ml/2011/lect4.pdf\n"
   ]
  },
  {
   "cell_type": "code",
   "execution_count": 695,
   "metadata": {
    "collapsed": false
   },
   "outputs": [
    {
     "name": "stdout",
     "output_type": "stream",
     "text": [
      "[[-0.89679838  0.1487704 ]]\n"
     ]
    }
   ],
   "source": [
    "#### Optimizer of Costfunction Given :b01,b1, derivative of logloss and learning rate ######\n",
    "\n",
    "#b0=b0+alpha*(y-prediction)*prediction*(1-prediction)*x0\n",
    "#b1=b1+alpha*(y-prediction)*prediction*(1-prediction)*x1\n",
    "\n",
    "#ANSWER KEY WHAT coeff should be\n",
    "exampl = pd.DataFrame.from_dict({'x':rawdata,'y':target_list})\n",
    "y4, X4 = dmatrices('y ~ x', exampl, return_type='dataframe')\n",
    "# flatten y so we can incorporate in sklearn functions\n",
    "y4 = np.ravel(y4)\n",
    "lr1 = LogisticRegression(max_iter=1000,fit_intercept=True)\n",
    "lr1.fit(X4,y4 )\n",
    "print (lr1.coef_)\n",
    "#try other cofficients to see if you can do better sklearn"
   ]
  },
  {
   "cell_type": "code",
   "execution_count": 633,
   "metadata": {
    "collapsed": false
   },
   "outputs": [
    {
     "name": "stdout",
     "output_type": "stream",
     "text": [
      "b0 = -2.12119481118\n",
      "b1 = 0.135185211981\n",
      "\n",
      " Slope is negative go forward\n"
     ]
    }
   ],
   "source": [
    "##Probably dont need this\n",
    "#alpha =0.3\n",
    "#b0=\n",
    "#x0=1\n",
    "# new_b0=[]\n",
    "# new_b1=[]\n",
    "# for target,data,PredictionProbability in zip(target_list,rawdata,test_P):\n",
    "#     #new_b0.append(alpha*(target-PredictionProbability)*PredictionProbability*(1-PredictionProbability)*x0)\n",
    "#     new_b0.append(alpha*(b1*((target-1)*(np.exp(1)**(b0+b1*data))+target)/(np.exp(1)**(b0+b1*data)+1)))\n",
    "# #b1=\n",
    "#     #new_b1.append(alpha*(target-PredictionProbability)*PredictionProbability*(1-PredictionProbability)*data)\n",
    "#     new_b1.append(alpha*(b1*((target-1)*(np.exp(1)**(b0+b1*data))+target)/(np.exp(1)**(b0+b1*data)+1)))\n",
    "# if abs(sum(deriv_fin))<=0.0001:\n",
    "#     print('should\\'ve stopped betas good!\\n')\n",
    "# elif sum(deriv_fin)<0:\n",
    "#     print('b0 =',b0+sum(new_b0))#,sum(new_b0))\n",
    "#     print('b1 =',b1+sum(new_b1))#,sum(new_b1))\n",
    "#     print('\\n Slope is negative go forward')\n",
    "# elif sum(deriv_fin)>0:\n",
    "#     print('b0 =',b0-sum(new_b0))#,sum(new_b0))\n",
    "#     print('b1 =',b1-sum(new_b1))#,sum(new_b1))\n",
    "#     print('\\n Slope is positive go backward')"
   ]
  },
  {
   "cell_type": "code",
   "execution_count": 680,
   "metadata": {
    "collapsed": false
   },
   "outputs": [],
   "source": [
    "newD = pd.DataFrame(rawdata,columns=['X1'])\n",
    "newD['intercept']=intercept\n",
    "newD['target_list'] = target_list"
   ]
  },
  {
   "cell_type": "code",
   "execution_count": 681,
   "metadata": {
    "collapsed": false
   },
   "outputs": [
    {
     "data": {
      "text/html": [
       "<div>\n",
       "<table border=\"1\" class=\"dataframe\">\n",
       "  <thead>\n",
       "    <tr style=\"text-align: right;\">\n",
       "      <th></th>\n",
       "      <th>X1</th>\n",
       "      <th>intercept</th>\n",
       "      <th>target_list</th>\n",
       "    </tr>\n",
       "  </thead>\n",
       "  <tbody>\n",
       "    <tr>\n",
       "      <th>0</th>\n",
       "      <td>21.00</td>\n",
       "      <td>1</td>\n",
       "      <td>1</td>\n",
       "    </tr>\n",
       "    <tr>\n",
       "      <th>1</th>\n",
       "      <td>2.00</td>\n",
       "      <td>1</td>\n",
       "      <td>0</td>\n",
       "    </tr>\n",
       "    <tr>\n",
       "      <th>2</th>\n",
       "      <td>5.00</td>\n",
       "      <td>1</td>\n",
       "      <td>0</td>\n",
       "    </tr>\n",
       "    <tr>\n",
       "      <th>3</th>\n",
       "      <td>31.00</td>\n",
       "      <td>1</td>\n",
       "      <td>1</td>\n",
       "    </tr>\n",
       "    <tr>\n",
       "      <th>4</th>\n",
       "      <td>10.00</td>\n",
       "      <td>1</td>\n",
       "      <td>0</td>\n",
       "    </tr>\n",
       "    <tr>\n",
       "      <th>5</th>\n",
       "      <td>0.34</td>\n",
       "      <td>1</td>\n",
       "      <td>0</td>\n",
       "    </tr>\n",
       "    <tr>\n",
       "      <th>6</th>\n",
       "      <td>0.23</td>\n",
       "      <td>1</td>\n",
       "      <td>0</td>\n",
       "    </tr>\n",
       "  </tbody>\n",
       "</table>\n",
       "</div>"
      ],
      "text/plain": [
       "      X1  intercept  target_list\n",
       "0  21.00          1            1\n",
       "1   2.00          1            0\n",
       "2   5.00          1            0\n",
       "3  31.00          1            1\n",
       "4  10.00          1            0\n",
       "5   0.34          1            0\n",
       "6   0.23          1            0"
      ]
     },
     "execution_count": 681,
     "metadata": {},
     "output_type": "execute_result"
    }
   ],
   "source": [
    "newD"
   ]
  },
  {
   "cell_type": "code",
   "execution_count": 769,
   "metadata": {
    "collapsed": false
   },
   "outputs": [],
   "source": [
    "bet0= 0\n",
    "bet1= 0\n",
    "\n",
    "beta0,beta1,logloss,accuracy,derivativeX0 =[],[],[],[],[]\n",
    "derivativeX1,loglossM,derivativeX0M,derivativeX1M =[],[],[],[]\n",
    "\n",
    "for it in range(1000):\n",
    "#MODEL output is Probability of 1\n",
    "    beta0.append(bet0)\n",
    "    beta1.append(bet1)\n",
    "    \n",
    "    test_P=[]\n",
    "    for data in newD['X1']:\n",
    "        P = (np.exp(1)**(bet0+bet1*data))/(1+np.exp(1)**(bet0+bet1*data))\n",
    "        test_P.append(P)\n",
    "    fin=[]\n",
    "    nz = .000000000000001\n",
    "\n",
    "    #COST/LOSS FUNCTION #helps compare outcome vs other versions of model\n",
    "    for target,PredictionProbability in zip(newD['target_list'],test_P):\n",
    "        fin.append((target*np.log(PredictionProbability+nz) + (1-target)*np.log(1-PredictionProbability+nz)))\n",
    "    #print('The Logloss is ... '+str(-1*sum(fin))) #LogLoss\n",
    "    #print('The Logloss is ... '+str(-1*sum(fin)+(b0+b1)))\n",
    "    logloss.append(-1*sum(fin))\n",
    "    loglossM.append(-1*sum(fin)/len(rawdata))\n",
    "\n",
    "    #DERIVATIVE\n",
    "    dev0 = []\n",
    "    dev1 = []\n",
    "    for act,p,data,ones in zip(newD['target_list'],test_P,newD['X1'],newD['intercept']):\n",
    "        dev0.append((act-p)*ones)\n",
    "        dev1.append((act-p)*data)\n",
    "        #print(act,'-',p,' * ',data,' = ',(act-p)*data)\n",
    "    #print(sum(dev0)/len(rawdata),sum(dev0),sum(dev1)/len(rawdata),sum(dev1))\n",
    "    derivativeX0.append(sum(dev0))\n",
    "    derivativeX0M.append(sum(dev0)/len(rawdata))\n",
    "    derivativeX1.append(sum(dev1))\n",
    "    derivativeX1M.append(sum(dev1)/len(rawdata))\n",
    "    \n",
    "    \n",
    "    #UPDATE\n",
    "    alpha =1/(10)#+((bet0)**2+(bet1)**2))#0.1\n",
    "    # print('b0 =',b0-alpha*(sum(deriv_fin)+(b0+b1)))#,sum(new_b0))\n",
    "    # print('b1 =',b1-alpha*(sum(deriv_finX1)+(b0+b1)))\n",
    "    #print('b0 =',bet0+alpha*(sum(dev0)/(len(newD['X1']) )))#,sum(new_b0))\n",
    "    #print('b1 =',bet1+alpha*(sum(dev1)/(len(newD['X1']) )))\n",
    "    #print('\\n')\n",
    "    \n",
    "    accu = [ 1 if x==i else 0 for (x,i) in zip([ 1 if v>.5 else 0 for v in test_P ],target_list)]\n",
    "    accuracy.append(sum(accu)/len(accu))\n",
    "    \n",
    "    \n",
    "    bet0 = bet0+alpha*(sum(dev0)/(len(rawdata) ))\n",
    "    bet1 = bet1+alpha*(sum(dev1)/(len(rawdata) ))\n",
    "\n",
    "#enter it results in dataframe\n",
    "#\n"
   ]
  },
  {
   "cell_type": "code",
   "execution_count": 770,
   "metadata": {
    "collapsed": false
   },
   "outputs": [],
   "source": [
    "end = pd.DataFrame({'beta0':beta0 ,\n",
    "'beta1':beta1 ,\n",
    "'logloss':logloss, \n",
    "'accuracy':accuracy ,\n",
    "'derivativeX0':derivativeX0, \n",
    "'derivativeX1':derivativeX1 ,\n",
    "'loglossM':loglossM ,\n",
    "'derivativeX0M':derivativeX0M, \n",
    "'derivativeX1M':derivativeX1M})"
   ]
  },
  {
   "cell_type": "code",
   "execution_count": 771,
   "metadata": {
    "collapsed": true
   },
   "outputs": [],
   "source": [
    "end.to_csv('logistic_results.csv')"
   ]
  },
  {
   "cell_type": "code",
   "execution_count": 768,
   "metadata": {
    "collapsed": false,
    "scrolled": true
   },
   "outputs": [
    {
     "data": {
      "text/plain": [
       "(-4.2349469673588249, 0.29893137282938093)"
      ]
     },
     "execution_count": 768,
     "metadata": {},
     "output_type": "execute_result"
    }
   ],
   "source": [
    "bet0, bet1"
   ]
  },
  {
   "cell_type": "code",
   "execution_count": 691,
   "metadata": {
    "collapsed": false
   },
   "outputs": [
    {
     "data": {
      "text/plain": [
       "array([[-0.89679838,  0.1487704 ]])"
      ]
     },
     "execution_count": 691,
     "metadata": {},
     "output_type": "execute_result"
    }
   ],
   "source": [
    "lr1.coef_"
   ]
  },
  {
   "cell_type": "code",
   "execution_count": 700,
   "metadata": {
    "collapsed": false
   },
   "outputs": [
    {
     "data": {
      "text/plain": [
       "0.12196542747395382"
      ]
     },
     "execution_count": 700,
     "metadata": {},
     "output_type": "execute_result"
    }
   ],
   "source": [
    "np.exp(-2.10401765577)"
   ]
  },
  {
   "cell_type": "code",
   "execution_count": 705,
   "metadata": {
    "collapsed": false
   },
   "outputs": [
    {
     "data": {
      "text/plain": [
       "-3.6890277199809391"
      ]
     },
     "execution_count": 705,
     "metadata": {},
     "output_type": "execute_result"
    }
   ],
   "source": [
    "bet0"
   ]
  },
  {
   "cell_type": "code",
   "execution_count": 772,
   "metadata": {
    "collapsed": false
   },
   "outputs": [
    {
     "data": {
      "text/plain": [
       "'l2'"
      ]
     },
     "execution_count": 772,
     "metadata": {},
     "output_type": "execute_result"
    }
   ],
   "source": [
    "lr1.penalty"
   ]
  }
 ],
 "metadata": {
  "anaconda-cloud": {},
  "kernelspec": {
   "display_name": "Python 3",
   "language": "python",
   "name": "python3"
  },
  "language_info": {
   "codemirror_mode": {
    "name": "ipython",
    "version": 3
   },
   "file_extension": ".py",
   "mimetype": "text/x-python",
   "name": "python",
   "nbconvert_exporter": "python",
   "pygments_lexer": "ipython3",
   "version": "3.6.0"
  }
 },
 "nbformat": 4,
 "nbformat_minor": 0
}
